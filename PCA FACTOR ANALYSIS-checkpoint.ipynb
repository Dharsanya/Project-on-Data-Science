{
 "cells": [
  {
   "cell_type": "code",
   "execution_count": 1,
   "id": "29ad2488",
   "metadata": {},
   "outputs": [],
   "source": [
    "import sklearn\n",
    "from sklearn.datasets import load_iris"
   ]
  },
  {
   "cell_type": "code",
   "execution_count": 2,
   "id": "af134e6a",
   "metadata": {},
   "outputs": [],
   "source": [
    "iris=load_iris()"
   ]
  },
  {
   "cell_type": "code",
   "execution_count": 3,
   "id": "3872a1f9",
   "metadata": {},
   "outputs": [],
   "source": [
    "x=iris.data\n",
    "y=iris.target"
   ]
  },
  {
   "cell_type": "code",
   "execution_count": 4,
   "id": "a8c895f2",
   "metadata": {},
   "outputs": [],
   "source": [
    "from sklearn.model_selection import train_test_split\n",
    "x_train,x_test,y_train,y_test=train_test_split(x,y,test_size=0.60,random_state=47)"
   ]
  },
  {
   "cell_type": "code",
   "execution_count": 5,
   "id": "b9a36266",
   "metadata": {},
   "outputs": [],
   "source": [
    "from sklearn.linear_model import LogisticRegression\n",
    "model=LogisticRegression()"
   ]
  },
  {
   "cell_type": "code",
   "execution_count": 6,
   "id": "afd550c3",
   "metadata": {},
   "outputs": [
    {
     "data": {
      "text/plain": [
       "array([0, 0, 1, 0, 0, 2, 1, 2, 1, 0, 2, 0, 1, 2, 1, 2, 1, 0, 0, 0, 2, 1,\n",
       "       2, 1, 2, 2, 1, 2, 0, 0, 2, 1, 2, 0, 1, 0, 0, 0, 2, 0, 1, 0, 2, 0,\n",
       "       2, 0, 2, 0, 2, 2, 0, 1, 2, 1, 0, 0, 1, 2, 2, 0, 0, 0, 1, 1, 0, 0,\n",
       "       2, 2, 1, 0, 1, 2, 2, 2, 0, 1, 0, 1, 0, 1, 2, 2, 1, 2, 2, 1, 2, 1,\n",
       "       2, 0])"
      ]
     },
     "execution_count": 6,
     "metadata": {},
     "output_type": "execute_result"
    }
   ],
   "source": [
    "model.fit(x_train,y_train)\n",
    "predicted_y=model.predict(x_test)\n",
    "predicted_y"
   ]
  },
  {
   "cell_type": "code",
   "execution_count": 7,
   "id": "39c4701d",
   "metadata": {},
   "outputs": [
    {
     "data": {
      "text/plain": [
       "array([[9.44340011e-01, 5.56584300e-02, 1.55884905e-06],\n",
       "       [9.56831170e-01, 4.31677049e-02, 1.12545727e-06],\n",
       "       [2.68016372e-02, 9.02488268e-01, 7.07100948e-02],\n",
       "       [9.30815906e-01, 6.91796887e-02, 4.40552677e-06],\n",
       "       [9.60478122e-01, 3.95204636e-02, 1.41470584e-06],\n",
       "       [1.76155381e-06, 3.04510761e-02, 9.69547162e-01],\n",
       "       [3.86266045e-02, 9.02648397e-01, 5.87249984e-02],\n",
       "       [6.52091073e-05, 8.97672850e-02, 9.10167506e-01],\n",
       "       [2.43920258e-02, 9.00246682e-01, 7.53612922e-02],\n",
       "       [9.62233901e-01, 3.77648909e-02, 1.20770956e-06],\n",
       "       [3.58263815e-04, 2.84484559e-01, 7.15157177e-01],\n",
       "       [9.50341793e-01, 4.96562363e-02, 1.97064076e-06],\n",
       "       [3.03316032e-02, 9.10090128e-01, 5.95782685e-02],\n",
       "       [9.34591567e-06, 6.91816052e-02, 9.30809049e-01],\n",
       "       [3.08097983e-03, 5.34520978e-01, 4.62398043e-01],\n",
       "       [3.41263790e-05, 9.74241269e-02, 9.02541747e-01],\n",
       "       [1.84214585e-02, 9.55433272e-01, 2.61452691e-02],\n",
       "       [9.44256865e-01, 5.57414454e-02, 1.68928798e-06],\n",
       "       [9.06965509e-01, 9.30301152e-02, 4.37618633e-06],\n",
       "       [9.51790616e-01, 4.82084694e-02, 9.14744385e-07],\n",
       "       [7.73805203e-05, 8.10758779e-02, 9.18846742e-01],\n",
       "       [5.28279217e-03, 8.15493562e-01, 1.79223646e-01],\n",
       "       [2.70837844e-03, 3.75752111e-01, 6.21539511e-01],\n",
       "       [1.58346618e-03, 6.13334938e-01, 3.85081596e-01],\n",
       "       [1.21122057e-04, 1.30521514e-01, 8.69357364e-01],\n",
       "       [2.05835014e-06, 2.37826761e-02, 9.76215266e-01],\n",
       "       [1.05121664e-02, 8.20642496e-01, 1.68845338e-01],\n",
       "       [1.29146033e-04, 7.63134748e-02, 9.23557379e-01],\n",
       "       [9.45262532e-01, 5.47351066e-02, 2.36137586e-06],\n",
       "       [9.12908147e-01, 8.70826767e-02, 9.17656425e-06],\n",
       "       [6.74719352e-05, 1.75693953e-01, 8.24238575e-01],\n",
       "       [8.79197668e-03, 8.33175242e-01, 1.58032781e-01],\n",
       "       [1.14088220e-05, 9.25973743e-02, 9.07391217e-01],\n",
       "       [9.50416373e-01, 4.95818088e-02, 1.81845967e-06],\n",
       "       [4.38489600e-03, 5.75022225e-01, 4.20592879e-01],\n",
       "       [9.65867772e-01, 3.41314916e-02, 7.36503824e-07],\n",
       "       [9.04356892e-01, 9.56356395e-02, 7.46814222e-06],\n",
       "       [9.52879784e-01, 4.71189036e-02, 1.31253889e-06],\n",
       "       [5.35572085e-04, 2.40764573e-01, 7.58699855e-01],\n",
       "       [9.67002748e-01, 3.29963353e-02, 9.16428312e-07],\n",
       "       [1.48902939e-02, 9.10292894e-01, 7.48168123e-02],\n",
       "       [9.66859469e-01, 3.31401005e-02, 4.30777481e-07],\n",
       "       [1.97334218e-05, 2.83687536e-02, 9.71611513e-01],\n",
       "       [9.43338060e-01, 5.66601072e-02, 1.83318729e-06],\n",
       "       [1.15290323e-06, 3.12593843e-02, 9.68739463e-01],\n",
       "       [9.87661117e-01, 1.23387163e-02, 1.66382125e-07],\n",
       "       [5.00752278e-05, 1.59132858e-01, 8.40817066e-01],\n",
       "       [9.30387094e-01, 6.96097353e-02, 3.17068906e-06],\n",
       "       [2.56888801e-04, 2.31826873e-01, 7.67916239e-01],\n",
       "       [1.10644786e-03, 4.21572308e-01, 5.77321244e-01],\n",
       "       [9.39818673e-01, 6.01789141e-02, 2.41287551e-06],\n",
       "       [8.79740175e-02, 8.99216546e-01, 1.28094360e-02],\n",
       "       [3.79759194e-04, 1.57671828e-01, 8.41948413e-01],\n",
       "       [5.73302269e-03, 8.78364969e-01, 1.15902008e-01],\n",
       "       [9.56805686e-01, 4.31928949e-02, 1.41879305e-06],\n",
       "       [9.48247649e-01, 5.17503153e-02, 2.03609994e-06],\n",
       "       [2.41361178e-02, 8.75192210e-01, 1.00671673e-01],\n",
       "       [3.57155090e-04, 1.30428566e-01, 8.69214279e-01],\n",
       "       [3.18577475e-05, 6.05397641e-02, 9.39428378e-01],\n",
       "       [9.68507582e-01, 3.14915081e-02, 9.09789103e-07],\n",
       "       [9.80300630e-01, 1.96990568e-02, 3.13389314e-07],\n",
       "       [8.97837872e-01, 1.02157641e-01, 4.48667137e-06],\n",
       "       [6.37507891e-03, 8.04306879e-01, 1.89318042e-01],\n",
       "       [1.57659699e-01, 8.34757221e-01, 7.58307949e-03],\n",
       "       [9.40318214e-01, 5.96790349e-02, 2.75085624e-06],\n",
       "       [9.65502573e-01, 3.44966692e-02, 7.57382800e-07],\n",
       "       [5.20547139e-05, 5.62313627e-02, 9.43716583e-01],\n",
       "       [1.69364481e-05, 1.08524275e-01, 8.91458789e-01],\n",
       "       [3.89586526e-02, 9.32860157e-01, 2.81811903e-02],\n",
       "       [9.48308200e-01, 5.16905188e-02, 1.28121971e-06],\n",
       "       [1.43750211e-02, 6.62233314e-01, 3.23391665e-01],\n",
       "       [1.01387221e-04, 1.08123692e-01, 8.91774920e-01],\n",
       "       [4.18732363e-04, 2.82054425e-01, 7.17526842e-01],\n",
       "       [1.15690844e-05, 3.20692485e-02, 9.67919182e-01],\n",
       "       [9.12853950e-01, 8.71422433e-02, 3.80650178e-06],\n",
       "       [2.75898556e-03, 8.06314404e-01, 1.90926611e-01],\n",
       "       [9.67955780e-01, 3.20429750e-02, 1.24514741e-06],\n",
       "       [3.92504043e-02, 9.28645636e-01, 3.21039598e-02],\n",
       "       [9.36400110e-01, 6.35957888e-02, 4.10159716e-06],\n",
       "       [1.71751587e-03, 5.30829952e-01, 4.67452532e-01],\n",
       "       [1.77170256e-04, 1.78700855e-01, 8.21121974e-01],\n",
       "       [1.19368804e-04, 3.00826109e-01, 6.99054522e-01],\n",
       "       [2.73047778e-01, 7.22675365e-01, 4.27685715e-03],\n",
       "       [5.51815016e-05, 8.02186477e-02, 9.19726171e-01],\n",
       "       [4.74218943e-04, 3.01059953e-01, 6.98465828e-01],\n",
       "       [3.36637844e-02, 9.11449100e-01, 5.48871152e-02],\n",
       "       [1.24319042e-04, 1.32498323e-01, 8.67377358e-01],\n",
       "       [1.70607909e-03, 6.13446391e-01, 3.84847530e-01],\n",
       "       [1.31650077e-03, 3.47974167e-01, 6.50709332e-01],\n",
       "       [9.67778330e-01, 3.22207403e-02, 9.30171880e-07]])"
      ]
     },
     "execution_count": 7,
     "metadata": {},
     "output_type": "execute_result"
    }
   ],
   "source": [
    "y_pred=model.predict(x_test)\n",
    "model.predict_proba(x_test)"
   ]
  },
  {
   "cell_type": "code",
   "execution_count": 8,
   "id": "390ab416",
   "metadata": {},
   "outputs": [
    {
     "data": {
      "text/plain": [
       "0.9444444444444444"
      ]
     },
     "execution_count": 8,
     "metadata": {},
     "output_type": "execute_result"
    }
   ],
   "source": [
    "from sklearn.metrics import accuracy_score\n",
    "accuracy_score(y_test,y_pred)"
   ]
  },
  {
   "cell_type": "code",
   "execution_count": 9,
   "id": "f3061d17",
   "metadata": {},
   "outputs": [
    {
     "data": {
      "text/plain": [
       "array([[33,  0,  0],\n",
       "       [ 0, 20,  0],\n",
       "       [ 0,  5, 32]], dtype=int64)"
      ]
     },
     "execution_count": 9,
     "metadata": {},
     "output_type": "execute_result"
    }
   ],
   "source": [
    "from sklearn.metrics import confusion_matrix\n",
    "confusion_matrix(y_test,y_pred)"
   ]
  },
  {
   "cell_type": "code",
   "execution_count": 10,
   "id": "fd7ccf9c",
   "metadata": {},
   "outputs": [
    {
     "data": {
      "text/plain": [
       "'              precision    recall  f1-score   support\\n\\n           0       1.00      1.00      1.00        33\\n           1       0.80      1.00      0.89        20\\n           2       1.00      0.86      0.93        37\\n\\n    accuracy                           0.94        90\\n   macro avg       0.93      0.95      0.94        90\\nweighted avg       0.96      0.94      0.95        90\\n'"
      ]
     },
     "execution_count": 10,
     "metadata": {},
     "output_type": "execute_result"
    }
   ],
   "source": [
    "from sklearn.metrics import classification_report\n",
    "classification_report(y_test,y_pred)"
   ]
  },
  {
   "cell_type": "code",
   "execution_count": 11,
   "id": "89840d27",
   "metadata": {},
   "outputs": [],
   "source": [
    "from sklearn.decomposition import PCA\n",
    "pca=PCA(n_components=0.95)"
   ]
  },
  {
   "cell_type": "code",
   "execution_count": 12,
   "id": "744d5f89",
   "metadata": {},
   "outputs": [
    {
     "data": {
      "text/plain": [
       "PCA(n_components=0.95)"
      ]
     },
     "execution_count": 12,
     "metadata": {},
     "output_type": "execute_result"
    }
   ],
   "source": [
    "pca.fit(x_train)"
   ]
  },
  {
   "cell_type": "code",
   "execution_count": 13,
   "id": "b0590d3d",
   "metadata": {},
   "outputs": [
    {
     "name": "stdout",
     "output_type": "stream",
     "text": [
      "(60, 2)\n"
     ]
    }
   ],
   "source": [
    "x_train_transformed=pca.transform(x_train)\n",
    "print(x_train_transformed.shape)"
   ]
  },
  {
   "cell_type": "code",
   "execution_count": 14,
   "id": "01d0d306",
   "metadata": {},
   "outputs": [
    {
     "name": "stdout",
     "output_type": "stream",
     "text": [
      "(90, 2)\n"
     ]
    }
   ],
   "source": [
    "x_test_transformed=pca.transform(x_test)\n",
    "print(x_test_transformed.shape)"
   ]
  },
  {
   "cell_type": "code",
   "execution_count": 15,
   "id": "88fa977d",
   "metadata": {},
   "outputs": [],
   "source": [
    "new_model=LogisticRegression(penalty='l1',solver='liblinear')"
   ]
  },
  {
   "cell_type": "code",
   "execution_count": 16,
   "id": "17fa0ac3",
   "metadata": {},
   "outputs": [],
   "source": [
    "new_model.fit(x_train_transformed,y_train)\n",
    "new_prediction=new_model.predict(x_test_transformed)"
   ]
  },
  {
   "cell_type": "code",
   "execution_count": 17,
   "id": "f01c419f",
   "metadata": {},
   "outputs": [],
   "source": [
    "from sklearn.metrics import accuracy_score\n",
    "new_accuracy=accuracy_score(new_prediction,y_test)"
   ]
  },
  {
   "cell_type": "code",
   "execution_count": 18,
   "id": "85f84ef7",
   "metadata": {},
   "outputs": [
    {
     "data": {
      "text/plain": [
       "0.9111111111111111"
      ]
     },
     "execution_count": 18,
     "metadata": {},
     "output_type": "execute_result"
    }
   ],
   "source": [
    "new_accuracy"
   ]
  },
  {
   "cell_type": "code",
   "execution_count": 19,
   "id": "ec719259",
   "metadata": {},
   "outputs": [],
   "source": [
    "from sklearn.metrics import precision_score\n",
    "new_accuracy=precision_score(new_prediction,y_test,average='macro')"
   ]
  },
  {
   "cell_type": "code",
   "execution_count": 20,
   "id": "72abc439",
   "metadata": {},
   "outputs": [
    {
     "data": {
      "text/plain": [
       "0.9279279279279279"
      ]
     },
     "execution_count": 20,
     "metadata": {},
     "output_type": "execute_result"
    }
   ],
   "source": [
    "new_accuracy"
   ]
  },
  {
   "cell_type": "code",
   "execution_count": null,
   "id": "493e3d61",
   "metadata": {},
   "outputs": [],
   "source": []
  }
 ],
 "metadata": {
  "kernelspec": {
   "display_name": "Python 3 (ipykernel)",
   "language": "python",
   "name": "python3"
  },
  "language_info": {
   "codemirror_mode": {
    "name": "ipython",
    "version": 3
   },
   "file_extension": ".py",
   "mimetype": "text/x-python",
   "name": "python",
   "nbconvert_exporter": "python",
   "pygments_lexer": "ipython3",
   "version": "3.9.12"
  }
 },
 "nbformat": 4,
 "nbformat_minor": 5
}
