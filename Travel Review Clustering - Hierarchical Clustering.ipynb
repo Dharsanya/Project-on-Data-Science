{
 "cells": [
  {
   "cell_type": "markdown",
   "metadata": {
    "id": "pKclqie2F0x2"
   },
   "source": [
    "<a id='import_packages'></a>\n",
    "## 1. Import Packages"
   ]
  },
  {
   "cell_type": "code",
   "execution_count": 1,
   "metadata": {
    "id": "p4IZkhKqF0x3"
   },
   "outputs": [],
   "source": [
    "import pandas as pd\n",
    "import numpy as np\n",
    "import matplotlib.pyplot as plt\n",
    "import seaborn as sns\n",
    "# Set default setting of seaborn\n",
    "sns.set()\n"
   ]
  },
  {
   "cell_type": "markdown",
   "metadata": {
    "id": "kU0x_MNQF0x5"
   },
   "source": [
    "<a id='Read_Data'></a>\n",
    "## 2. Read the Data"
   ]
  },
  {
   "cell_type": "code",
   "execution_count": 2,
   "metadata": {
    "id": "GdnaVYcoF0x7",
    "outputId": "4330c5a4-6681-41ca-85a0-1ead364018db"
   },
   "outputs": [
    {
     "data": {
      "text/html": [
       "<div>\n",
       "<style scoped>\n",
       "    .dataframe tbody tr th:only-of-type {\n",
       "        vertical-align: middle;\n",
       "    }\n",
       "\n",
       "    .dataframe tbody tr th {\n",
       "        vertical-align: top;\n",
       "    }\n",
       "\n",
       "    .dataframe thead th {\n",
       "        text-align: right;\n",
       "    }\n",
       "</style>\n",
       "<table border=\"1\" class=\"dataframe\">\n",
       "  <thead>\n",
       "    <tr style=\"text-align: right;\">\n",
       "      <th></th>\n",
       "      <th>User</th>\n",
       "      <th>Category 1</th>\n",
       "      <th>Category 2</th>\n",
       "      <th>Category 3</th>\n",
       "      <th>Category 4</th>\n",
       "      <th>Category 5</th>\n",
       "      <th>Category 6</th>\n",
       "      <th>Category 7</th>\n",
       "      <th>Category 8</th>\n",
       "      <th>Category 9</th>\n",
       "      <th>...</th>\n",
       "      <th>Category 16</th>\n",
       "      <th>Category 17</th>\n",
       "      <th>Category 18</th>\n",
       "      <th>Category 19</th>\n",
       "      <th>Category 20</th>\n",
       "      <th>Category 21</th>\n",
       "      <th>Category 22</th>\n",
       "      <th>Category 23</th>\n",
       "      <th>Category 24</th>\n",
       "      <th>Unnamed: 25</th>\n",
       "    </tr>\n",
       "  </thead>\n",
       "  <tbody>\n",
       "    <tr>\n",
       "      <th>0</th>\n",
       "      <td>User 1</td>\n",
       "      <td>0.0</td>\n",
       "      <td>0.0</td>\n",
       "      <td>3.63</td>\n",
       "      <td>3.65</td>\n",
       "      <td>5.0</td>\n",
       "      <td>2.92</td>\n",
       "      <td>5.0</td>\n",
       "      <td>2.35</td>\n",
       "      <td>2.33</td>\n",
       "      <td>...</td>\n",
       "      <td>0.59</td>\n",
       "      <td>0.5</td>\n",
       "      <td>0.0</td>\n",
       "      <td>0.5</td>\n",
       "      <td>0.0</td>\n",
       "      <td>0.0</td>\n",
       "      <td>0.0</td>\n",
       "      <td>0.0</td>\n",
       "      <td>0.0</td>\n",
       "      <td>NaN</td>\n",
       "    </tr>\n",
       "    <tr>\n",
       "      <th>1</th>\n",
       "      <td>User 2</td>\n",
       "      <td>0.0</td>\n",
       "      <td>0.0</td>\n",
       "      <td>3.63</td>\n",
       "      <td>3.65</td>\n",
       "      <td>5.0</td>\n",
       "      <td>2.92</td>\n",
       "      <td>5.0</td>\n",
       "      <td>2.64</td>\n",
       "      <td>2.33</td>\n",
       "      <td>...</td>\n",
       "      <td>0.59</td>\n",
       "      <td>0.5</td>\n",
       "      <td>0.0</td>\n",
       "      <td>0.5</td>\n",
       "      <td>0.0</td>\n",
       "      <td>0.0</td>\n",
       "      <td>0.0</td>\n",
       "      <td>0.0</td>\n",
       "      <td>0.0</td>\n",
       "      <td>NaN</td>\n",
       "    </tr>\n",
       "    <tr>\n",
       "      <th>2</th>\n",
       "      <td>User 3</td>\n",
       "      <td>0.0</td>\n",
       "      <td>0.0</td>\n",
       "      <td>3.63</td>\n",
       "      <td>3.63</td>\n",
       "      <td>5.0</td>\n",
       "      <td>2.92</td>\n",
       "      <td>5.0</td>\n",
       "      <td>2.64</td>\n",
       "      <td>2.33</td>\n",
       "      <td>...</td>\n",
       "      <td>0.59</td>\n",
       "      <td>0.5</td>\n",
       "      <td>0.0</td>\n",
       "      <td>0.5</td>\n",
       "      <td>0.0</td>\n",
       "      <td>0.0</td>\n",
       "      <td>0.0</td>\n",
       "      <td>0.0</td>\n",
       "      <td>0.0</td>\n",
       "      <td>NaN</td>\n",
       "    </tr>\n",
       "    <tr>\n",
       "      <th>3</th>\n",
       "      <td>User 4</td>\n",
       "      <td>0.0</td>\n",
       "      <td>0.5</td>\n",
       "      <td>3.63</td>\n",
       "      <td>3.63</td>\n",
       "      <td>5.0</td>\n",
       "      <td>2.92</td>\n",
       "      <td>5.0</td>\n",
       "      <td>2.35</td>\n",
       "      <td>2.33</td>\n",
       "      <td>...</td>\n",
       "      <td>0.59</td>\n",
       "      <td>0.5</td>\n",
       "      <td>0.0</td>\n",
       "      <td>0.5</td>\n",
       "      <td>0.0</td>\n",
       "      <td>0.0</td>\n",
       "      <td>0.0</td>\n",
       "      <td>0.0</td>\n",
       "      <td>0.0</td>\n",
       "      <td>NaN</td>\n",
       "    </tr>\n",
       "    <tr>\n",
       "      <th>4</th>\n",
       "      <td>User 5</td>\n",
       "      <td>0.0</td>\n",
       "      <td>0.0</td>\n",
       "      <td>3.63</td>\n",
       "      <td>3.63</td>\n",
       "      <td>5.0</td>\n",
       "      <td>2.92</td>\n",
       "      <td>5.0</td>\n",
       "      <td>2.64</td>\n",
       "      <td>2.33</td>\n",
       "      <td>...</td>\n",
       "      <td>0.59</td>\n",
       "      <td>0.5</td>\n",
       "      <td>0.0</td>\n",
       "      <td>0.5</td>\n",
       "      <td>0.0</td>\n",
       "      <td>0.0</td>\n",
       "      <td>0.0</td>\n",
       "      <td>0.0</td>\n",
       "      <td>0.0</td>\n",
       "      <td>NaN</td>\n",
       "    </tr>\n",
       "  </tbody>\n",
       "</table>\n",
       "<p>5 rows × 26 columns</p>\n",
       "</div>"
      ],
      "text/plain": [
       "     User  Category 1  Category 2  Category 3  Category 4  Category 5  \\\n",
       "0  User 1         0.0         0.0        3.63        3.65         5.0   \n",
       "1  User 2         0.0         0.0        3.63        3.65         5.0   \n",
       "2  User 3         0.0         0.0        3.63        3.63         5.0   \n",
       "3  User 4         0.0         0.5        3.63        3.63         5.0   \n",
       "4  User 5         0.0         0.0        3.63        3.63         5.0   \n",
       "\n",
       "   Category 6  Category 7  Category 8  Category 9  ...  Category 16  \\\n",
       "0        2.92         5.0        2.35        2.33  ...         0.59   \n",
       "1        2.92         5.0        2.64        2.33  ...         0.59   \n",
       "2        2.92         5.0        2.64        2.33  ...         0.59   \n",
       "3        2.92         5.0        2.35        2.33  ...         0.59   \n",
       "4        2.92         5.0        2.64        2.33  ...         0.59   \n",
       "\n",
       "  Category 17  Category 18  Category 19  Category 20  Category 21  \\\n",
       "0         0.5          0.0          0.5          0.0          0.0   \n",
       "1         0.5          0.0          0.5          0.0          0.0   \n",
       "2         0.5          0.0          0.5          0.0          0.0   \n",
       "3         0.5          0.0          0.5          0.0          0.0   \n",
       "4         0.5          0.0          0.5          0.0          0.0   \n",
       "\n",
       "   Category 22  Category 23  Category 24  Unnamed: 25  \n",
       "0          0.0          0.0          0.0          NaN  \n",
       "1          0.0          0.0          0.0          NaN  \n",
       "2          0.0          0.0          0.0          NaN  \n",
       "3          0.0          0.0          0.0          NaN  \n",
       "4          0.0          0.0          0.0          NaN  \n",
       "\n",
       "[5 rows x 26 columns]"
      ]
     },
     "execution_count": 2,
     "metadata": {},
     "output_type": "execute_result"
    }
   ],
   "source": [
    "# read the data\n",
    "raw_data = pd.read_csv(\"C:/Users/USER/Downloads/HierarchicalClustering/google_review_ratings.csv\")\n",
    "\n",
    "# print the first five rows of the data\n",
    "raw_data.head()"
   ]
  },
  {
   "cell_type": "markdown",
   "metadata": {
    "id": "5gfExyKvF0x9"
   },
   "source": [
    "<a id='Data_Types'></a>\n",
    "## 3. Data Types and Dimensions"
   ]
  },
  {
   "cell_type": "code",
   "execution_count": 3,
   "metadata": {
    "id": "QY3OKotjF0x-",
    "outputId": "6f17ad3e-aa66-4399-b54d-de908eb6a358"
   },
   "outputs": [
    {
     "name": "stdout",
     "output_type": "stream",
     "text": [
      "<class 'pandas.core.frame.DataFrame'>\n",
      "RangeIndex: 5456 entries, 0 to 5455\n",
      "Data columns (total 26 columns):\n",
      " #   Column       Non-Null Count  Dtype  \n",
      "---  ------       --------------  -----  \n",
      " 0   User         5456 non-null   object \n",
      " 1   Category 1   5456 non-null   float64\n",
      " 2   Category 2   5456 non-null   float64\n",
      " 3   Category 3   5456 non-null   float64\n",
      " 4   Category 4   5456 non-null   float64\n",
      " 5   Category 5   5456 non-null   float64\n",
      " 6   Category 6   5456 non-null   float64\n",
      " 7   Category 7   5456 non-null   float64\n",
      " 8   Category 8   5456 non-null   float64\n",
      " 9   Category 9   5456 non-null   float64\n",
      " 10  Category 10  5456 non-null   float64\n",
      " 11  Category 11  5456 non-null   object \n",
      " 12  Category 12  5455 non-null   float64\n",
      " 13  Category 13  5456 non-null   float64\n",
      " 14  Category 14  5456 non-null   float64\n",
      " 15  Category 15  5456 non-null   float64\n",
      " 16  Category 16  5456 non-null   float64\n",
      " 17  Category 17  5456 non-null   float64\n",
      " 18  Category 18  5456 non-null   float64\n",
      " 19  Category 19  5456 non-null   float64\n",
      " 20  Category 20  5456 non-null   float64\n",
      " 21  Category 21  5456 non-null   float64\n",
      " 22  Category 22  5456 non-null   float64\n",
      " 23  Category 23  5456 non-null   float64\n",
      " 24  Category 24  5455 non-null   float64\n",
      " 25  Unnamed: 25  2 non-null      float64\n",
      "dtypes: float64(24), object(2)\n",
      "memory usage: 1.1+ MB\n"
     ]
    }
   ],
   "source": [
    "# check the data types for variables\n",
    "raw_data.info()"
   ]
  },
  {
   "cell_type": "markdown",
   "metadata": {
    "id": "qCWPCGKLF0x_"
   },
   "source": [
    "**Before manipulation of data, let's check dimension of dataset**"
   ]
  },
  {
   "cell_type": "code",
   "execution_count": 4,
   "metadata": {
    "id": "cuZugNsjF0yA",
    "outputId": "e1c6cd00-f060-40bf-85a8-e2f1294599d4",
    "scrolled": true
   },
   "outputs": [
    {
     "name": "stdout",
     "output_type": "stream",
     "text": [
      "(5456, 26)\n"
     ]
    }
   ],
   "source": [
    "# get the shape\n",
    "print(raw_data.shape)"
   ]
  },
  {
   "cell_type": "markdown",
   "metadata": {
    "id": "6qjbqkdIF0yA"
   },
   "source": [
    "**We see that dataframe has 5456 instances and 26 features**"
   ]
  },
  {
   "cell_type": "markdown",
   "metadata": {
    "id": "_QQDKEhZF0yB"
   },
   "source": [
    "<a id='Data_Manipulation'></a>\n",
    "## 4. Data Manipulation\n",
    "Here we will change features names and remove redundant feature"
   ]
  },
  {
   "cell_type": "markdown",
   "metadata": {
    "id": "VyyXJK_1F0yB"
   },
   "source": [
    "**Droping redundant feature**"
   ]
  },
  {
   "cell_type": "code",
   "execution_count": 5,
   "metadata": {
    "id": "D_rPi8V9F0yE",
    "outputId": "bae4ea1a-da4f-4c93-8d66-cbd2fffbc01d",
    "scrolled": false
   },
   "outputs": [
    {
     "data": {
      "text/html": [
       "<div>\n",
       "<style scoped>\n",
       "    .dataframe tbody tr th:only-of-type {\n",
       "        vertical-align: middle;\n",
       "    }\n",
       "\n",
       "    .dataframe tbody tr th {\n",
       "        vertical-align: top;\n",
       "    }\n",
       "\n",
       "    .dataframe thead th {\n",
       "        text-align: right;\n",
       "    }\n",
       "</style>\n",
       "<table border=\"1\" class=\"dataframe\">\n",
       "  <thead>\n",
       "    <tr style=\"text-align: right;\">\n",
       "      <th></th>\n",
       "      <th>User</th>\n",
       "      <th>Category 1</th>\n",
       "      <th>Category 2</th>\n",
       "      <th>Category 3</th>\n",
       "      <th>Category 4</th>\n",
       "      <th>Category 5</th>\n",
       "      <th>Category 6</th>\n",
       "      <th>Category 7</th>\n",
       "      <th>Category 8</th>\n",
       "      <th>Category 9</th>\n",
       "      <th>...</th>\n",
       "      <th>Category 15</th>\n",
       "      <th>Category 16</th>\n",
       "      <th>Category 17</th>\n",
       "      <th>Category 18</th>\n",
       "      <th>Category 19</th>\n",
       "      <th>Category 20</th>\n",
       "      <th>Category 21</th>\n",
       "      <th>Category 22</th>\n",
       "      <th>Category 23</th>\n",
       "      <th>Category 24</th>\n",
       "    </tr>\n",
       "  </thead>\n",
       "  <tbody>\n",
       "    <tr>\n",
       "      <th>0</th>\n",
       "      <td>User 1</td>\n",
       "      <td>0.0</td>\n",
       "      <td>0.0</td>\n",
       "      <td>3.63</td>\n",
       "      <td>3.65</td>\n",
       "      <td>5.0</td>\n",
       "      <td>2.92</td>\n",
       "      <td>5.0</td>\n",
       "      <td>2.35</td>\n",
       "      <td>2.33</td>\n",
       "      <td>...</td>\n",
       "      <td>1.74</td>\n",
       "      <td>0.59</td>\n",
       "      <td>0.5</td>\n",
       "      <td>0.0</td>\n",
       "      <td>0.5</td>\n",
       "      <td>0.0</td>\n",
       "      <td>0.0</td>\n",
       "      <td>0.0</td>\n",
       "      <td>0.0</td>\n",
       "      <td>0.0</td>\n",
       "    </tr>\n",
       "    <tr>\n",
       "      <th>1</th>\n",
       "      <td>User 2</td>\n",
       "      <td>0.0</td>\n",
       "      <td>0.0</td>\n",
       "      <td>3.63</td>\n",
       "      <td>3.65</td>\n",
       "      <td>5.0</td>\n",
       "      <td>2.92</td>\n",
       "      <td>5.0</td>\n",
       "      <td>2.64</td>\n",
       "      <td>2.33</td>\n",
       "      <td>...</td>\n",
       "      <td>1.74</td>\n",
       "      <td>0.59</td>\n",
       "      <td>0.5</td>\n",
       "      <td>0.0</td>\n",
       "      <td>0.5</td>\n",
       "      <td>0.0</td>\n",
       "      <td>0.0</td>\n",
       "      <td>0.0</td>\n",
       "      <td>0.0</td>\n",
       "      <td>0.0</td>\n",
       "    </tr>\n",
       "    <tr>\n",
       "      <th>2</th>\n",
       "      <td>User 3</td>\n",
       "      <td>0.0</td>\n",
       "      <td>0.0</td>\n",
       "      <td>3.63</td>\n",
       "      <td>3.63</td>\n",
       "      <td>5.0</td>\n",
       "      <td>2.92</td>\n",
       "      <td>5.0</td>\n",
       "      <td>2.64</td>\n",
       "      <td>2.33</td>\n",
       "      <td>...</td>\n",
       "      <td>1.74</td>\n",
       "      <td>0.59</td>\n",
       "      <td>0.5</td>\n",
       "      <td>0.0</td>\n",
       "      <td>0.5</td>\n",
       "      <td>0.0</td>\n",
       "      <td>0.0</td>\n",
       "      <td>0.0</td>\n",
       "      <td>0.0</td>\n",
       "      <td>0.0</td>\n",
       "    </tr>\n",
       "    <tr>\n",
       "      <th>3</th>\n",
       "      <td>User 4</td>\n",
       "      <td>0.0</td>\n",
       "      <td>0.5</td>\n",
       "      <td>3.63</td>\n",
       "      <td>3.63</td>\n",
       "      <td>5.0</td>\n",
       "      <td>2.92</td>\n",
       "      <td>5.0</td>\n",
       "      <td>2.35</td>\n",
       "      <td>2.33</td>\n",
       "      <td>...</td>\n",
       "      <td>1.74</td>\n",
       "      <td>0.59</td>\n",
       "      <td>0.5</td>\n",
       "      <td>0.0</td>\n",
       "      <td>0.5</td>\n",
       "      <td>0.0</td>\n",
       "      <td>0.0</td>\n",
       "      <td>0.0</td>\n",
       "      <td>0.0</td>\n",
       "      <td>0.0</td>\n",
       "    </tr>\n",
       "    <tr>\n",
       "      <th>4</th>\n",
       "      <td>User 5</td>\n",
       "      <td>0.0</td>\n",
       "      <td>0.0</td>\n",
       "      <td>3.63</td>\n",
       "      <td>3.63</td>\n",
       "      <td>5.0</td>\n",
       "      <td>2.92</td>\n",
       "      <td>5.0</td>\n",
       "      <td>2.64</td>\n",
       "      <td>2.33</td>\n",
       "      <td>...</td>\n",
       "      <td>1.74</td>\n",
       "      <td>0.59</td>\n",
       "      <td>0.5</td>\n",
       "      <td>0.0</td>\n",
       "      <td>0.5</td>\n",
       "      <td>0.0</td>\n",
       "      <td>0.0</td>\n",
       "      <td>0.0</td>\n",
       "      <td>0.0</td>\n",
       "      <td>0.0</td>\n",
       "    </tr>\n",
       "  </tbody>\n",
       "</table>\n",
       "<p>5 rows × 25 columns</p>\n",
       "</div>"
      ],
      "text/plain": [
       "     User  Category 1  Category 2  Category 3  Category 4  Category 5  \\\n",
       "0  User 1         0.0         0.0        3.63        3.65         5.0   \n",
       "1  User 2         0.0         0.0        3.63        3.65         5.0   \n",
       "2  User 3         0.0         0.0        3.63        3.63         5.0   \n",
       "3  User 4         0.0         0.5        3.63        3.63         5.0   \n",
       "4  User 5         0.0         0.0        3.63        3.63         5.0   \n",
       "\n",
       "   Category 6  Category 7  Category 8  Category 9  ...  Category 15  \\\n",
       "0        2.92         5.0        2.35        2.33  ...         1.74   \n",
       "1        2.92         5.0        2.64        2.33  ...         1.74   \n",
       "2        2.92         5.0        2.64        2.33  ...         1.74   \n",
       "3        2.92         5.0        2.35        2.33  ...         1.74   \n",
       "4        2.92         5.0        2.64        2.33  ...         1.74   \n",
       "\n",
       "  Category 16  Category 17  Category 18  Category 19  Category 20  \\\n",
       "0        0.59          0.5          0.0          0.5          0.0   \n",
       "1        0.59          0.5          0.0          0.5          0.0   \n",
       "2        0.59          0.5          0.0          0.5          0.0   \n",
       "3        0.59          0.5          0.0          0.5          0.0   \n",
       "4        0.59          0.5          0.0          0.5          0.0   \n",
       "\n",
       "   Category 21  Category 22  Category 23  Category 24  \n",
       "0          0.0          0.0          0.0          0.0  \n",
       "1          0.0          0.0          0.0          0.0  \n",
       "2          0.0          0.0          0.0          0.0  \n",
       "3          0.0          0.0          0.0          0.0  \n",
       "4          0.0          0.0          0.0          0.0  \n",
       "\n",
       "[5 rows x 25 columns]"
      ]
     },
     "execution_count": 5,
     "metadata": {},
     "output_type": "execute_result"
    }
   ],
   "source": [
    "# Using drop() function to remove redundant feature\n",
    "data = raw_data.drop(['Unnamed: 25'] ,axis = 1)\n",
    "data.head()"
   ]
  },
  {
   "cell_type": "markdown",
   "metadata": {
    "id": "1V9b1uZPF0yE"
   },
   "source": [
    "**Renaming features**"
   ]
  },
  {
   "cell_type": "markdown",
   "metadata": {
    "id": "PiJN4FJ6F0yF"
   },
   "source": [
    "To perform the action we will create list containing actual names of features"
   ]
  },
  {
   "cell_type": "code",
   "execution_count": 6,
   "metadata": {
    "id": "Zv3cExAXF0yF"
   },
   "outputs": [],
   "source": [
    "column_names = ['user_id', 'churches', 'resorts', 'beaches', 'parks', \n",
    "                'theatres', 'museums', 'malls', 'zoo', 'restaurants', \n",
    "                'pubs_bars', 'local_services', 'burger_pizza_shops', \n",
    "                'hotels_other_lodgings', 'juice_bars', 'art_galleries', \n",
    "                'dance_clubs', 'swimming_pools', 'gyms', 'bakeries', \n",
    "                'beauty_spas', 'cafes', 'view_points', 'monuments', 'gardens']\n"
   ]
  },
  {
   "cell_type": "markdown",
   "metadata": {
    "id": "0qV8AcGIF0yG"
   },
   "source": [
    "Applying above columns names to dataframe columns"
   ]
  },
  {
   "cell_type": "code",
   "execution_count": 7,
   "metadata": {
    "id": "eSeHrTyCF0yG"
   },
   "outputs": [],
   "source": [
    "data.columns = column_names"
   ]
  },
  {
   "cell_type": "markdown",
   "metadata": {
    "id": "Fb6M23yQF0yH"
   },
   "source": [
    "Checking if changes are applied or not"
   ]
  },
  {
   "cell_type": "code",
   "execution_count": 8,
   "metadata": {
    "id": "misCHFD4F0yH",
    "outputId": "3342f0d5-8a76-4612-ebeb-ea2b3c157a94",
    "scrolled": true
   },
   "outputs": [
    {
     "data": {
      "text/html": [
       "<div>\n",
       "<style scoped>\n",
       "    .dataframe tbody tr th:only-of-type {\n",
       "        vertical-align: middle;\n",
       "    }\n",
       "\n",
       "    .dataframe tbody tr th {\n",
       "        vertical-align: top;\n",
       "    }\n",
       "\n",
       "    .dataframe thead th {\n",
       "        text-align: right;\n",
       "    }\n",
       "</style>\n",
       "<table border=\"1\" class=\"dataframe\">\n",
       "  <thead>\n",
       "    <tr style=\"text-align: right;\">\n",
       "      <th></th>\n",
       "      <th>user_id</th>\n",
       "      <th>churches</th>\n",
       "      <th>resorts</th>\n",
       "      <th>beaches</th>\n",
       "      <th>parks</th>\n",
       "      <th>theatres</th>\n",
       "      <th>museums</th>\n",
       "      <th>malls</th>\n",
       "      <th>zoo</th>\n",
       "      <th>restaurants</th>\n",
       "      <th>...</th>\n",
       "      <th>art_galleries</th>\n",
       "      <th>dance_clubs</th>\n",
       "      <th>swimming_pools</th>\n",
       "      <th>gyms</th>\n",
       "      <th>bakeries</th>\n",
       "      <th>beauty_spas</th>\n",
       "      <th>cafes</th>\n",
       "      <th>view_points</th>\n",
       "      <th>monuments</th>\n",
       "      <th>gardens</th>\n",
       "    </tr>\n",
       "  </thead>\n",
       "  <tbody>\n",
       "    <tr>\n",
       "      <th>0</th>\n",
       "      <td>User 1</td>\n",
       "      <td>0.0</td>\n",
       "      <td>0.0</td>\n",
       "      <td>3.63</td>\n",
       "      <td>3.65</td>\n",
       "      <td>5.0</td>\n",
       "      <td>2.92</td>\n",
       "      <td>5.0</td>\n",
       "      <td>2.35</td>\n",
       "      <td>2.33</td>\n",
       "      <td>...</td>\n",
       "      <td>1.74</td>\n",
       "      <td>0.59</td>\n",
       "      <td>0.5</td>\n",
       "      <td>0.0</td>\n",
       "      <td>0.5</td>\n",
       "      <td>0.0</td>\n",
       "      <td>0.0</td>\n",
       "      <td>0.0</td>\n",
       "      <td>0.0</td>\n",
       "      <td>0.0</td>\n",
       "    </tr>\n",
       "    <tr>\n",
       "      <th>1</th>\n",
       "      <td>User 2</td>\n",
       "      <td>0.0</td>\n",
       "      <td>0.0</td>\n",
       "      <td>3.63</td>\n",
       "      <td>3.65</td>\n",
       "      <td>5.0</td>\n",
       "      <td>2.92</td>\n",
       "      <td>5.0</td>\n",
       "      <td>2.64</td>\n",
       "      <td>2.33</td>\n",
       "      <td>...</td>\n",
       "      <td>1.74</td>\n",
       "      <td>0.59</td>\n",
       "      <td>0.5</td>\n",
       "      <td>0.0</td>\n",
       "      <td>0.5</td>\n",
       "      <td>0.0</td>\n",
       "      <td>0.0</td>\n",
       "      <td>0.0</td>\n",
       "      <td>0.0</td>\n",
       "      <td>0.0</td>\n",
       "    </tr>\n",
       "    <tr>\n",
       "      <th>2</th>\n",
       "      <td>User 3</td>\n",
       "      <td>0.0</td>\n",
       "      <td>0.0</td>\n",
       "      <td>3.63</td>\n",
       "      <td>3.63</td>\n",
       "      <td>5.0</td>\n",
       "      <td>2.92</td>\n",
       "      <td>5.0</td>\n",
       "      <td>2.64</td>\n",
       "      <td>2.33</td>\n",
       "      <td>...</td>\n",
       "      <td>1.74</td>\n",
       "      <td>0.59</td>\n",
       "      <td>0.5</td>\n",
       "      <td>0.0</td>\n",
       "      <td>0.5</td>\n",
       "      <td>0.0</td>\n",
       "      <td>0.0</td>\n",
       "      <td>0.0</td>\n",
       "      <td>0.0</td>\n",
       "      <td>0.0</td>\n",
       "    </tr>\n",
       "    <tr>\n",
       "      <th>3</th>\n",
       "      <td>User 4</td>\n",
       "      <td>0.0</td>\n",
       "      <td>0.5</td>\n",
       "      <td>3.63</td>\n",
       "      <td>3.63</td>\n",
       "      <td>5.0</td>\n",
       "      <td>2.92</td>\n",
       "      <td>5.0</td>\n",
       "      <td>2.35</td>\n",
       "      <td>2.33</td>\n",
       "      <td>...</td>\n",
       "      <td>1.74</td>\n",
       "      <td>0.59</td>\n",
       "      <td>0.5</td>\n",
       "      <td>0.0</td>\n",
       "      <td>0.5</td>\n",
       "      <td>0.0</td>\n",
       "      <td>0.0</td>\n",
       "      <td>0.0</td>\n",
       "      <td>0.0</td>\n",
       "      <td>0.0</td>\n",
       "    </tr>\n",
       "    <tr>\n",
       "      <th>4</th>\n",
       "      <td>User 5</td>\n",
       "      <td>0.0</td>\n",
       "      <td>0.0</td>\n",
       "      <td>3.63</td>\n",
       "      <td>3.63</td>\n",
       "      <td>5.0</td>\n",
       "      <td>2.92</td>\n",
       "      <td>5.0</td>\n",
       "      <td>2.64</td>\n",
       "      <td>2.33</td>\n",
       "      <td>...</td>\n",
       "      <td>1.74</td>\n",
       "      <td>0.59</td>\n",
       "      <td>0.5</td>\n",
       "      <td>0.0</td>\n",
       "      <td>0.5</td>\n",
       "      <td>0.0</td>\n",
       "      <td>0.0</td>\n",
       "      <td>0.0</td>\n",
       "      <td>0.0</td>\n",
       "      <td>0.0</td>\n",
       "    </tr>\n",
       "  </tbody>\n",
       "</table>\n",
       "<p>5 rows × 25 columns</p>\n",
       "</div>"
      ],
      "text/plain": [
       "  user_id  churches  resorts  beaches  parks  theatres  museums  malls   zoo  \\\n",
       "0  User 1       0.0      0.0     3.63   3.65       5.0     2.92    5.0  2.35   \n",
       "1  User 2       0.0      0.0     3.63   3.65       5.0     2.92    5.0  2.64   \n",
       "2  User 3       0.0      0.0     3.63   3.63       5.0     2.92    5.0  2.64   \n",
       "3  User 4       0.0      0.5     3.63   3.63       5.0     2.92    5.0  2.35   \n",
       "4  User 5       0.0      0.0     3.63   3.63       5.0     2.92    5.0  2.64   \n",
       "\n",
       "   restaurants  ...  art_galleries dance_clubs  swimming_pools  gyms  \\\n",
       "0         2.33  ...           1.74        0.59             0.5   0.0   \n",
       "1         2.33  ...           1.74        0.59             0.5   0.0   \n",
       "2         2.33  ...           1.74        0.59             0.5   0.0   \n",
       "3         2.33  ...           1.74        0.59             0.5   0.0   \n",
       "4         2.33  ...           1.74        0.59             0.5   0.0   \n",
       "\n",
       "   bakeries  beauty_spas  cafes  view_points  monuments  gardens  \n",
       "0       0.5          0.0    0.0          0.0        0.0      0.0  \n",
       "1       0.5          0.0    0.0          0.0        0.0      0.0  \n",
       "2       0.5          0.0    0.0          0.0        0.0      0.0  \n",
       "3       0.5          0.0    0.0          0.0        0.0      0.0  \n",
       "4       0.5          0.0    0.0          0.0        0.0      0.0  \n",
       "\n",
       "[5 rows x 25 columns]"
      ]
     },
     "execution_count": 8,
     "metadata": {},
     "output_type": "execute_result"
    }
   ],
   "source": [
    "data.head()"
   ]
  },
  {
   "cell_type": "markdown",
   "metadata": {
    "id": "tm-3M9g4F0yH"
   },
   "source": [
    "Columns are renamed"
   ]
  },
  {
   "cell_type": "code",
   "execution_count": 9,
   "metadata": {
    "id": "j2XIjfBkF0yI",
    "outputId": "31cd1c69-2318-42af-bc40-85f6974f084d"
   },
   "outputs": [
    {
     "name": "stdout",
     "output_type": "stream",
     "text": [
      "<class 'pandas.core.frame.DataFrame'>\n",
      "RangeIndex: 5456 entries, 0 to 5455\n",
      "Data columns (total 25 columns):\n",
      " #   Column                 Non-Null Count  Dtype  \n",
      "---  ------                 --------------  -----  \n",
      " 0   user_id                5456 non-null   object \n",
      " 1   churches               5456 non-null   float64\n",
      " 2   resorts                5456 non-null   float64\n",
      " 3   beaches                5456 non-null   float64\n",
      " 4   parks                  5456 non-null   float64\n",
      " 5   theatres               5456 non-null   float64\n",
      " 6   museums                5456 non-null   float64\n",
      " 7   malls                  5456 non-null   float64\n",
      " 8   zoo                    5456 non-null   float64\n",
      " 9   restaurants            5456 non-null   float64\n",
      " 10  pubs_bars              5456 non-null   float64\n",
      " 11  local_services         5456 non-null   object \n",
      " 12  burger_pizza_shops     5455 non-null   float64\n",
      " 13  hotels_other_lodgings  5456 non-null   float64\n",
      " 14  juice_bars             5456 non-null   float64\n",
      " 15  art_galleries          5456 non-null   float64\n",
      " 16  dance_clubs            5456 non-null   float64\n",
      " 17  swimming_pools         5456 non-null   float64\n",
      " 18  gyms                   5456 non-null   float64\n",
      " 19  bakeries               5456 non-null   float64\n",
      " 20  beauty_spas            5456 non-null   float64\n",
      " 21  cafes                  5456 non-null   float64\n",
      " 22  view_points            5456 non-null   float64\n",
      " 23  monuments              5456 non-null   float64\n",
      " 24  gardens                5455 non-null   float64\n",
      "dtypes: float64(23), object(2)\n",
      "memory usage: 1.0+ MB\n"
     ]
    }
   ],
   "source": [
    "data.info()"
   ]
  },
  {
   "cell_type": "markdown",
   "metadata": {
    "id": "h6M4-HqbF0yJ"
   },
   "source": [
    "**Changing data type of local_services**"
   ]
  },
  {
   "cell_type": "code",
   "execution_count": 11,
   "metadata": {
    "id": "Y5hJRPsGF0yK",
    "outputId": "4dc92021-79c7-4817-d769-2596a4eca790"
   },
   "outputs": [
    {
     "data": {
      "text/plain": [
       "array(['1.7', '1.73', '1.71', '1.69', '1.67', '1.65', '1.66', '1.64',\n",
       "       '1.63', '5', '1.56', '1.55', '1.53', '1.52', '1.51', '1.5', '1.49',\n",
       "       '1.48', '1.46', '2.13', '2.12', '2.1', '2.09', '2.08', '2.07',\n",
       "       '2.06', '2.05', '2.04', '2.03', '2.01', '2', '1.98', '1.97',\n",
       "       '1.95', '1.93', '1.91', '1.9', '1.88', '1.86', '1.84', '1.83',\n",
       "       '1.81', '1.79', '1.77', '1.74', '1.72', '1.68', '1.61', '1.6',\n",
       "       '1.59', '1.58', '1.99', '2.47', '2.35', '2.48', '2.59', '3.39',\n",
       "       '2.31', '2.78', '2.79', '2.77', '2.76', '2.75', '2.74', '2.72',\n",
       "       '2.71', '2.69', '2.68', '2.66', '2.65', '2.63', '2.61', '2.57',\n",
       "       '2.55', '2.53', '2.51', '2.49', '1.94', '1.92', '1.82', '1.76',\n",
       "       '1.62', '4.08', '4.04', '4.02', '4.01', '4', '3.99', '3.98',\n",
       "       '3.96', '3.95', '3.94', '3.93', '3.91', '3.9', '3.88', '3.87',\n",
       "       '3.86', '3.84', '3.85', '2.17', '3', '2.99', '2.82', '2.83',\n",
       "       '2.81', '2.8', '2.73', '2.67', '2.64', '2.62', '2.54', '2.52',\n",
       "       '2.5', '2.02', '1.57', '1.54', '1.47', '1.87', '1.85', '1.78',\n",
       "       '2.6', '1.45', '1.43', '1.41', '1.39', '1.37', '1.36', '1.34',\n",
       "       '1.32', '1.3', '1.28', '1.26', '1.24', '1.22', '1.2', '1.18',\n",
       "       '1.16', '1.14', '1.12', '1.1', '1.08', '1.07', '1.05', '1.03',\n",
       "       '1.01', '0.99', '0.97', '0.96', '0.94', '0.92', '0.9', '0.88',\n",
       "       '0.87', '0.85', '0.83', '0.82', '0.84', '0.86', '3.35', '3.34',\n",
       "       '3.33', '3.32', '3.31', '3.3', '3.29', '3.28', '3.27', '3.26',\n",
       "       '3.25', '3.24', '3.22', '3.21', '3.19', '3.17', '3.16', '3.14',\n",
       "       '3.08', '3.06', '3.04', '3.02', '2.98', '2.97', '2.94', '2.92',\n",
       "       '2.91', '2.89', '2.87', '2.85', '2.7', '2.28', '2.26', '2.25',\n",
       "       '2.45', '2.43', '2.41', '2.39', '2.37', '2.34', '2.32', '2.3',\n",
       "       '2.24', '2.23', '2.21', '2.19', '2.18', '2.15', '2.14', '2.11',\n",
       "       '1.89', '1.75', '1.8', '1.44', '1.42', '1.17', '1.19', '1.35',\n",
       "       '1.38', '1.33', '1.31', '1.29', '1.27', '1.25', '1.23', '1.21',\n",
       "       '1.06', '1.04', '1.02', '1', '0.98', '0.95', '0.93', '0.91',\n",
       "       '4.95', '4.96', '3.07', '2.9', '2.88', '2.84', '2.22', '2.29',\n",
       "       '2.27', '2.2', '1.96', '3.82', '3.11', '2.93', '2.16', '3.74',\n",
       "       '3.72', '2.58', '2.44', '2.42', '2.4', '2.33', '1.4', '1.09',\n",
       "       '3.15', '3.13', '3.12', '3.1', '3.09', '2.96', '2.95', '2.86',\n",
       "       '2.38', '2.36', '3.56', '0.89', '0.81', '4.98', '3.4', '4.06',\n",
       "       '4.05', '4.03', '3.97', '3.03', '3.01', '3.18', '1.15', '1.13',\n",
       "       '1.11', '3.23', '2.46', '2\\t2.', '0.8', '4.94', '3.92', '3.2',\n",
       "       '3.05', '0.79', '0.78', '4.09', '4.97', '2.56', '3.54'],\n",
       "      dtype=object)"
      ]
     },
     "execution_count": 11,
     "metadata": {},
     "output_type": "execute_result"
    }
   ],
   "source": [
    "data['local_services'].unique() # Getting all unique values"
   ]
  },
  {
   "cell_type": "markdown",
   "metadata": {
    "id": "AMK42ROPF0yL"
   },
   "source": [
    "**Drop rows where local_services is equal to '2\\t2.'**"
   ]
  },
  {
   "cell_type": "code",
   "execution_count": 12,
   "metadata": {
    "id": "oObKjqDNF0yL",
    "outputId": "da8bd259-83e3-410e-a405-fa539026f94f"
   },
   "outputs": [
    {
     "data": {
      "text/plain": [
       "2712    2\\t2.\n",
       "Name: local_services, dtype: object"
      ]
     },
     "execution_count": 12,
     "metadata": {},
     "output_type": "execute_result"
    }
   ],
   "source": [
    "# Get row number where local services is invalid\n",
    "data[data['local_services'] == '2\\t2.']['local_services']"
   ]
  },
  {
   "cell_type": "markdown",
   "metadata": {
    "id": "6jMsLj9mF0yL"
   },
   "source": [
    "Droping row 2712"
   ]
  },
  {
   "cell_type": "code",
   "execution_count": 13,
   "metadata": {
    "id": "u_pCYOdCF0yQ"
   },
   "outputs": [],
   "source": [
    "data = data.drop(data[data['local_services'] == '2\\t2.'].index)"
   ]
  },
  {
   "cell_type": "markdown",
   "metadata": {
    "id": "X2IabBpyF0yQ"
   },
   "source": [
    "Now, we can changing data type of local_services"
   ]
  },
  {
   "cell_type": "code",
   "execution_count": 14,
   "metadata": {
    "id": "OphSUYzUF0yQ"
   },
   "outputs": [],
   "source": [
    "data[['local_services']] = data[['local_services']].apply(pd.to_numeric) "
   ]
  },
  {
   "cell_type": "code",
   "execution_count": 15,
   "metadata": {
    "id": "RHugstrZF0yR",
    "outputId": "2cfe37e1-b391-48d7-f573-f788be776d92"
   },
   "outputs": [
    {
     "name": "stdout",
     "output_type": "stream",
     "text": [
      "<class 'pandas.core.frame.DataFrame'>\n",
      "Int64Index: 5455 entries, 0 to 5455\n",
      "Data columns (total 25 columns):\n",
      " #   Column                 Non-Null Count  Dtype  \n",
      "---  ------                 --------------  -----  \n",
      " 0   user_id                5455 non-null   object \n",
      " 1   churches               5455 non-null   float64\n",
      " 2   resorts                5455 non-null   float64\n",
      " 3   beaches                5455 non-null   float64\n",
      " 4   parks                  5455 non-null   float64\n",
      " 5   theatres               5455 non-null   float64\n",
      " 6   museums                5455 non-null   float64\n",
      " 7   malls                  5455 non-null   float64\n",
      " 8   zoo                    5455 non-null   float64\n",
      " 9   restaurants            5455 non-null   float64\n",
      " 10  pubs_bars              5455 non-null   float64\n",
      " 11  local_services         5455 non-null   float64\n",
      " 12  burger_pizza_shops     5455 non-null   float64\n",
      " 13  hotels_other_lodgings  5455 non-null   float64\n",
      " 14  juice_bars             5455 non-null   float64\n",
      " 15  art_galleries          5455 non-null   float64\n",
      " 16  dance_clubs            5455 non-null   float64\n",
      " 17  swimming_pools         5455 non-null   float64\n",
      " 18  gyms                   5455 non-null   float64\n",
      " 19  bakeries               5455 non-null   float64\n",
      " 20  beauty_spas            5455 non-null   float64\n",
      " 21  cafes                  5455 non-null   float64\n",
      " 22  view_points            5455 non-null   float64\n",
      " 23  monuments              5455 non-null   float64\n",
      " 24  gardens                5454 non-null   float64\n",
      "dtypes: float64(24), object(1)\n",
      "memory usage: 1.1+ MB\n"
     ]
    }
   ],
   "source": [
    "data.info()"
   ]
  },
  {
   "cell_type": "markdown",
   "metadata": {
    "id": "dG5mlsRVF0yR"
   },
   "source": [
    "All the features are numeric except the user_id as it is categorical in nature "
   ]
  },
  {
   "cell_type": "code",
   "execution_count": 16,
   "metadata": {
    "id": "aB1YM9MeF0yR"
   },
   "outputs": [],
   "source": [
    "data_manipulated = data.copy(deep =True ) # Creating a copy of dataframe"
   ]
  },
  {
   "cell_type": "markdown",
   "metadata": {
    "id": "DLcguGLPF0yS"
   },
   "source": [
    "<a id='Statistical_Summary'></a>\n",
    "## 5. Statistical Summary\n"
   ]
  },
  {
   "cell_type": "code",
   "execution_count": 17,
   "metadata": {
    "id": "lj2-aC6BF0yS",
    "outputId": "2302fce4-ab74-4672-daf5-49257c9a7cb8"
   },
   "outputs": [
    {
     "data": {
      "text/html": [
       "<div>\n",
       "<style scoped>\n",
       "    .dataframe tbody tr th:only-of-type {\n",
       "        vertical-align: middle;\n",
       "    }\n",
       "\n",
       "    .dataframe tbody tr th {\n",
       "        vertical-align: top;\n",
       "    }\n",
       "\n",
       "    .dataframe thead th {\n",
       "        text-align: right;\n",
       "    }\n",
       "</style>\n",
       "<table border=\"1\" class=\"dataframe\">\n",
       "  <thead>\n",
       "    <tr style=\"text-align: right;\">\n",
       "      <th></th>\n",
       "      <th>churches</th>\n",
       "      <th>resorts</th>\n",
       "      <th>beaches</th>\n",
       "      <th>parks</th>\n",
       "      <th>theatres</th>\n",
       "      <th>museums</th>\n",
       "      <th>malls</th>\n",
       "      <th>zoo</th>\n",
       "      <th>restaurants</th>\n",
       "      <th>pubs_bars</th>\n",
       "      <th>...</th>\n",
       "      <th>art_galleries</th>\n",
       "      <th>dance_clubs</th>\n",
       "      <th>swimming_pools</th>\n",
       "      <th>gyms</th>\n",
       "      <th>bakeries</th>\n",
       "      <th>beauty_spas</th>\n",
       "      <th>cafes</th>\n",
       "      <th>view_points</th>\n",
       "      <th>monuments</th>\n",
       "      <th>gardens</th>\n",
       "    </tr>\n",
       "  </thead>\n",
       "  <tbody>\n",
       "    <tr>\n",
       "      <th>count</th>\n",
       "      <td>5455.000000</td>\n",
       "      <td>5455.000000</td>\n",
       "      <td>5455.000000</td>\n",
       "      <td>5455.000000</td>\n",
       "      <td>5455.000000</td>\n",
       "      <td>5455.000000</td>\n",
       "      <td>5455.000000</td>\n",
       "      <td>5455.000000</td>\n",
       "      <td>5455.000000</td>\n",
       "      <td>5455.000000</td>\n",
       "      <td>...</td>\n",
       "      <td>5455.000000</td>\n",
       "      <td>5455.000000</td>\n",
       "      <td>5455.000000</td>\n",
       "      <td>5455.000000</td>\n",
       "      <td>5455.000000</td>\n",
       "      <td>5455.000000</td>\n",
       "      <td>5455.000000</td>\n",
       "      <td>5455.000000</td>\n",
       "      <td>5455.000000</td>\n",
       "      <td>5454.000000</td>\n",
       "    </tr>\n",
       "    <tr>\n",
       "      <th>mean</th>\n",
       "      <td>1.455674</td>\n",
       "      <td>2.319824</td>\n",
       "      <td>2.489520</td>\n",
       "      <td>2.797192</td>\n",
       "      <td>2.959278</td>\n",
       "      <td>2.893809</td>\n",
       "      <td>3.351778</td>\n",
       "      <td>2.541047</td>\n",
       "      <td>3.126301</td>\n",
       "      <td>2.833093</td>\n",
       "      <td>...</td>\n",
       "      <td>2.206060</td>\n",
       "      <td>1.192821</td>\n",
       "      <td>0.949175</td>\n",
       "      <td>0.822374</td>\n",
       "      <td>0.969072</td>\n",
       "      <td>0.999443</td>\n",
       "      <td>0.965098</td>\n",
       "      <td>1.749941</td>\n",
       "      <td>1.530818</td>\n",
       "      <td>1.560570</td>\n",
       "    </tr>\n",
       "    <tr>\n",
       "      <th>std</th>\n",
       "      <td>0.827673</td>\n",
       "      <td>1.421542</td>\n",
       "      <td>1.247852</td>\n",
       "      <td>1.309084</td>\n",
       "      <td>1.338948</td>\n",
       "      <td>1.282301</td>\n",
       "      <td>1.413338</td>\n",
       "      <td>1.111338</td>\n",
       "      <td>1.356767</td>\n",
       "      <td>1.307509</td>\n",
       "      <td>...</td>\n",
       "      <td>1.715701</td>\n",
       "      <td>1.107105</td>\n",
       "      <td>0.973623</td>\n",
       "      <td>0.947993</td>\n",
       "      <td>1.202844</td>\n",
       "      <td>1.193097</td>\n",
       "      <td>0.928332</td>\n",
       "      <td>1.598275</td>\n",
       "      <td>1.316172</td>\n",
       "      <td>1.171784</td>\n",
       "    </tr>\n",
       "    <tr>\n",
       "      <th>min</th>\n",
       "      <td>0.000000</td>\n",
       "      <td>0.000000</td>\n",
       "      <td>0.000000</td>\n",
       "      <td>0.830000</td>\n",
       "      <td>1.120000</td>\n",
       "      <td>1.110000</td>\n",
       "      <td>1.120000</td>\n",
       "      <td>0.860000</td>\n",
       "      <td>0.840000</td>\n",
       "      <td>0.810000</td>\n",
       "      <td>...</td>\n",
       "      <td>0.000000</td>\n",
       "      <td>0.000000</td>\n",
       "      <td>0.000000</td>\n",
       "      <td>0.000000</td>\n",
       "      <td>0.000000</td>\n",
       "      <td>0.000000</td>\n",
       "      <td>0.000000</td>\n",
       "      <td>0.000000</td>\n",
       "      <td>0.000000</td>\n",
       "      <td>0.000000</td>\n",
       "    </tr>\n",
       "    <tr>\n",
       "      <th>25%</th>\n",
       "      <td>0.920000</td>\n",
       "      <td>1.360000</td>\n",
       "      <td>1.540000</td>\n",
       "      <td>1.730000</td>\n",
       "      <td>1.770000</td>\n",
       "      <td>1.790000</td>\n",
       "      <td>1.930000</td>\n",
       "      <td>1.620000</td>\n",
       "      <td>1.800000</td>\n",
       "      <td>1.640000</td>\n",
       "      <td>...</td>\n",
       "      <td>0.860000</td>\n",
       "      <td>0.690000</td>\n",
       "      <td>0.580000</td>\n",
       "      <td>0.530000</td>\n",
       "      <td>0.520000</td>\n",
       "      <td>0.540000</td>\n",
       "      <td>0.570000</td>\n",
       "      <td>0.740000</td>\n",
       "      <td>0.790000</td>\n",
       "      <td>0.880000</td>\n",
       "    </tr>\n",
       "    <tr>\n",
       "      <th>50%</th>\n",
       "      <td>1.340000</td>\n",
       "      <td>1.910000</td>\n",
       "      <td>2.060000</td>\n",
       "      <td>2.460000</td>\n",
       "      <td>2.670000</td>\n",
       "      <td>2.680000</td>\n",
       "      <td>3.230000</td>\n",
       "      <td>2.170000</td>\n",
       "      <td>2.800000</td>\n",
       "      <td>2.680000</td>\n",
       "      <td>...</td>\n",
       "      <td>1.330000</td>\n",
       "      <td>0.800000</td>\n",
       "      <td>0.740000</td>\n",
       "      <td>0.690000</td>\n",
       "      <td>0.690000</td>\n",
       "      <td>0.690000</td>\n",
       "      <td>0.760000</td>\n",
       "      <td>1.030000</td>\n",
       "      <td>1.070000</td>\n",
       "      <td>1.290000</td>\n",
       "    </tr>\n",
       "    <tr>\n",
       "      <th>75%</th>\n",
       "      <td>1.810000</td>\n",
       "      <td>2.685000</td>\n",
       "      <td>2.740000</td>\n",
       "      <td>4.095000</td>\n",
       "      <td>4.315000</td>\n",
       "      <td>3.840000</td>\n",
       "      <td>5.000000</td>\n",
       "      <td>3.190000</td>\n",
       "      <td>5.000000</td>\n",
       "      <td>3.530000</td>\n",
       "      <td>...</td>\n",
       "      <td>4.440000</td>\n",
       "      <td>1.160000</td>\n",
       "      <td>0.910000</td>\n",
       "      <td>0.840000</td>\n",
       "      <td>0.860000</td>\n",
       "      <td>0.860000</td>\n",
       "      <td>1.000000</td>\n",
       "      <td>2.070000</td>\n",
       "      <td>1.560000</td>\n",
       "      <td>1.660000</td>\n",
       "    </tr>\n",
       "    <tr>\n",
       "      <th>max</th>\n",
       "      <td>5.000000</td>\n",
       "      <td>5.000000</td>\n",
       "      <td>5.000000</td>\n",
       "      <td>5.000000</td>\n",
       "      <td>5.000000</td>\n",
       "      <td>5.000000</td>\n",
       "      <td>5.000000</td>\n",
       "      <td>5.000000</td>\n",
       "      <td>5.000000</td>\n",
       "      <td>5.000000</td>\n",
       "      <td>...</td>\n",
       "      <td>5.000000</td>\n",
       "      <td>5.000000</td>\n",
       "      <td>5.000000</td>\n",
       "      <td>5.000000</td>\n",
       "      <td>5.000000</td>\n",
       "      <td>5.000000</td>\n",
       "      <td>5.000000</td>\n",
       "      <td>5.000000</td>\n",
       "      <td>5.000000</td>\n",
       "      <td>5.000000</td>\n",
       "    </tr>\n",
       "  </tbody>\n",
       "</table>\n",
       "<p>8 rows × 24 columns</p>\n",
       "</div>"
      ],
      "text/plain": [
       "          churches      resorts      beaches        parks     theatres  \\\n",
       "count  5455.000000  5455.000000  5455.000000  5455.000000  5455.000000   \n",
       "mean      1.455674     2.319824     2.489520     2.797192     2.959278   \n",
       "std       0.827673     1.421542     1.247852     1.309084     1.338948   \n",
       "min       0.000000     0.000000     0.000000     0.830000     1.120000   \n",
       "25%       0.920000     1.360000     1.540000     1.730000     1.770000   \n",
       "50%       1.340000     1.910000     2.060000     2.460000     2.670000   \n",
       "75%       1.810000     2.685000     2.740000     4.095000     4.315000   \n",
       "max       5.000000     5.000000     5.000000     5.000000     5.000000   \n",
       "\n",
       "           museums        malls          zoo  restaurants    pubs_bars  ...  \\\n",
       "count  5455.000000  5455.000000  5455.000000  5455.000000  5455.000000  ...   \n",
       "mean      2.893809     3.351778     2.541047     3.126301     2.833093  ...   \n",
       "std       1.282301     1.413338     1.111338     1.356767     1.307509  ...   \n",
       "min       1.110000     1.120000     0.860000     0.840000     0.810000  ...   \n",
       "25%       1.790000     1.930000     1.620000     1.800000     1.640000  ...   \n",
       "50%       2.680000     3.230000     2.170000     2.800000     2.680000  ...   \n",
       "75%       3.840000     5.000000     3.190000     5.000000     3.530000  ...   \n",
       "max       5.000000     5.000000     5.000000     5.000000     5.000000  ...   \n",
       "\n",
       "       art_galleries  dance_clubs  swimming_pools         gyms     bakeries  \\\n",
       "count    5455.000000  5455.000000     5455.000000  5455.000000  5455.000000   \n",
       "mean        2.206060     1.192821        0.949175     0.822374     0.969072   \n",
       "std         1.715701     1.107105        0.973623     0.947993     1.202844   \n",
       "min         0.000000     0.000000        0.000000     0.000000     0.000000   \n",
       "25%         0.860000     0.690000        0.580000     0.530000     0.520000   \n",
       "50%         1.330000     0.800000        0.740000     0.690000     0.690000   \n",
       "75%         4.440000     1.160000        0.910000     0.840000     0.860000   \n",
       "max         5.000000     5.000000        5.000000     5.000000     5.000000   \n",
       "\n",
       "       beauty_spas        cafes  view_points    monuments      gardens  \n",
       "count  5455.000000  5455.000000  5455.000000  5455.000000  5454.000000  \n",
       "mean      0.999443     0.965098     1.749941     1.530818     1.560570  \n",
       "std       1.193097     0.928332     1.598275     1.316172     1.171784  \n",
       "min       0.000000     0.000000     0.000000     0.000000     0.000000  \n",
       "25%       0.540000     0.570000     0.740000     0.790000     0.880000  \n",
       "50%       0.690000     0.760000     1.030000     1.070000     1.290000  \n",
       "75%       0.860000     1.000000     2.070000     1.560000     1.660000  \n",
       "max       5.000000     5.000000     5.000000     5.000000     5.000000  \n",
       "\n",
       "[8 rows x 24 columns]"
      ]
     },
     "execution_count": 17,
     "metadata": {},
     "output_type": "execute_result"
    }
   ],
   "source": [
    "# data frame with numerical features\n",
    "data_manipulated.describe()"
   ]
  },
  {
   "cell_type": "code",
   "execution_count": 18,
   "metadata": {
    "id": "OiqGhAJEF0yT",
    "outputId": "569a409c-4a25-4182-d385-cf585812a88b"
   },
   "outputs": [
    {
     "data": {
      "text/html": [
       "<div>\n",
       "<style scoped>\n",
       "    .dataframe tbody tr th:only-of-type {\n",
       "        vertical-align: middle;\n",
       "    }\n",
       "\n",
       "    .dataframe tbody tr th {\n",
       "        vertical-align: top;\n",
       "    }\n",
       "\n",
       "    .dataframe thead th {\n",
       "        text-align: right;\n",
       "    }\n",
       "</style>\n",
       "<table border=\"1\" class=\"dataframe\">\n",
       "  <thead>\n",
       "    <tr style=\"text-align: right;\">\n",
       "      <th></th>\n",
       "      <th>user_id</th>\n",
       "    </tr>\n",
       "  </thead>\n",
       "  <tbody>\n",
       "    <tr>\n",
       "      <th>count</th>\n",
       "      <td>5455</td>\n",
       "    </tr>\n",
       "    <tr>\n",
       "      <th>unique</th>\n",
       "      <td>5455</td>\n",
       "    </tr>\n",
       "    <tr>\n",
       "      <th>top</th>\n",
       "      <td>User 1</td>\n",
       "    </tr>\n",
       "    <tr>\n",
       "      <th>freq</th>\n",
       "      <td>1</td>\n",
       "    </tr>\n",
       "  </tbody>\n",
       "</table>\n",
       "</div>"
      ],
      "text/plain": [
       "       user_id\n",
       "count     5455\n",
       "unique    5455\n",
       "top     User 1\n",
       "freq         1"
      ]
     },
     "execution_count": 18,
     "metadata": {},
     "output_type": "execute_result"
    }
   ],
   "source": [
    "# data frame with categorical features\n",
    "data.describe(include='object')"
   ]
  },
  {
   "cell_type": "markdown",
   "metadata": {
    "id": "KGp0inFAF0yU"
   },
   "source": [
    "<a id='Handling_Missing_Values'></a>\n",
    "## 6. Handling Missing Values\n",
    "If the missing values are not handled properly we may end up drawing an inaccurate inference about the data. Due to improper handling, the result obtained will differ from the ones where the missing values are present."
   ]
  },
  {
   "cell_type": "code",
   "execution_count": 19,
   "metadata": {
    "id": "wOu4QemsF0yd",
    "outputId": "95e45555-d994-47ca-952a-91d0affb18eb",
    "scrolled": true
   },
   "outputs": [
    {
     "name": "stdout",
     "output_type": "stream",
     "text": [
      "user_id                  0\n",
      "churches                 0\n",
      "resorts                  0\n",
      "beaches                  0\n",
      "parks                    0\n",
      "theatres                 0\n",
      "museums                  0\n",
      "malls                    0\n",
      "zoo                      0\n",
      "restaurants              0\n",
      "pubs_bars                0\n",
      "local_services           0\n",
      "burger_pizza_shops       0\n",
      "hotels_other_lodgings    0\n",
      "juice_bars               0\n",
      "art_galleries            0\n",
      "dance_clubs              0\n",
      "swimming_pools           0\n",
      "gyms                     0\n",
      "bakeries                 0\n",
      "beauty_spas              0\n",
      "cafes                    0\n",
      "view_points              0\n",
      "monuments                0\n",
      "gardens                  1\n",
      "dtype: int64\n"
     ]
    }
   ],
   "source": [
    "# get the count of missing values\n",
    "missing_values = data_manipulated.isnull().sum()\n",
    "\n",
    "# print the count of missing values\n",
    "print(missing_values)"
   ]
  },
  {
   "cell_type": "code",
   "execution_count": 20,
   "metadata": {
    "id": "qb8XanCeF0ye"
   },
   "outputs": [
    {
     "name": "stderr",
     "output_type": "stream",
     "text": [
      "C:\\Users\\USER\\AppData\\Local\\Temp\\ipykernel_3392\\3154654579.py:1: FutureWarning: Dropping of nuisance columns in DataFrame reductions (with 'numeric_only=None') is deprecated; in a future version this will raise TypeError.  Select only valid columns before calling the reduction.\n",
      "  data_no_missing = data_manipulated.fillna(data_manipulated.mean())\n"
     ]
    }
   ],
   "source": [
    "data_no_missing = data_manipulated.fillna(data_manipulated.mean())"
   ]
  },
  {
   "cell_type": "code",
   "execution_count": 21,
   "metadata": {
    "id": "3e0TBf5zF0yf",
    "outputId": "ddd298ec-d39c-4c8b-b8b4-3a2acb42500b"
   },
   "outputs": [
    {
     "name": "stdout",
     "output_type": "stream",
     "text": [
      "user_id                  0\n",
      "churches                 0\n",
      "resorts                  0\n",
      "beaches                  0\n",
      "parks                    0\n",
      "theatres                 0\n",
      "museums                  0\n",
      "malls                    0\n",
      "zoo                      0\n",
      "restaurants              0\n",
      "pubs_bars                0\n",
      "local_services           0\n",
      "burger_pizza_shops       0\n",
      "hotels_other_lodgings    0\n",
      "juice_bars               0\n",
      "art_galleries            0\n",
      "dance_clubs              0\n",
      "swimming_pools           0\n",
      "gyms                     0\n",
      "bakeries                 0\n",
      "beauty_spas              0\n",
      "cafes                    0\n",
      "view_points              0\n",
      "monuments                0\n",
      "gardens                  0\n",
      "dtype: int64\n"
     ]
    }
   ],
   "source": [
    "# Rechecking missing values\n",
    "missing_values = data_no_missing.isnull().sum()\n",
    "\n",
    "# print the count of missing values\n",
    "print(missing_values)"
   ]
  },
  {
   "cell_type": "markdown",
   "metadata": {
    "id": "7Ujh8IJ2F0yf"
   },
   "source": [
    "There are no missing values present in the data."
   ]
  },
  {
   "cell_type": "markdown",
   "metadata": {
    "id": "BvUU86quF0yg"
   },
   "source": [
    "<a id='Exploratory_Data_Analysis'></a>\n",
    "## 7. Exploratory Data Analysis\n"
   ]
  },
  {
   "cell_type": "markdown",
   "metadata": {
    "id": "YC5jiPT8F0yg"
   },
   "source": [
    "**PDF's of features**"
   ]
  },
  {
   "cell_type": "code",
   "execution_count": 22,
   "metadata": {
    "id": "U8WLqw6uF0yg",
    "outputId": "eb480d04-066d-42aa-bf63-65988198ba6c"
   },
   "outputs": [
    {
     "data": {
      "image/png": "[encoded data removed]",
      "text/plain": [
       "<Figure size 1296x1296 with 25 Axes>"
      ]
     },
     "metadata": {},
     "output_type": "display_data"
    }
   ],
   "source": [
    "fig = data_no_missing.hist(figsize = (18,18))\n"
   ]
  },
  {
   "cell_type": "markdown",
   "metadata": {
    "id": "ZRPB9Z9_F0yh"
   },
   "source": [
    "**Lets check if users have rated all the features**"
   ]
  },
  {
   "cell_type": "code",
   "execution_count": 23,
   "metadata": {
    "id": "G8-SDKtEF0yh",
    "outputId": "1e46a57c-57ad-48e0-89da-1609b93079de"
   },
   "outputs": [
    {
     "data": {
      "text/plain": [
       "parks                    True\n",
       "theatres                 True\n",
       "museums                  True\n",
       "malls                    True\n",
       "zoo                      True\n",
       "restaurants              True\n",
       "pubs_bars                True\n",
       "local_services           True\n",
       "burger_pizza_shops       True\n",
       "hotels_other_lodgings    True\n",
       "juice_bars               True\n",
       "Name: min, dtype: bool"
      ]
     },
     "execution_count": 23,
     "metadata": {},
     "output_type": "execute_result"
    }
   ],
   "source": [
    "data_description = data_no_missing.describe() \n",
    "rated = data_description.loc['min'] > 0\n",
    "rated[rated]\n"
   ]
  },
  {
   "cell_type": "markdown",
   "metadata": {
    "id": "Rd-RNiohF0yi"
   },
   "source": [
    "Visualizing number of reviews for each category"
   ]
  },
  {
   "cell_type": "code",
   "execution_count": 24,
   "metadata": {
    "id": "ac2frcIpF0yi",
    "outputId": "71a3553b-05f3-408e-869b-0235eed52562"
   },
   "outputs": [
    {
     "data": {
      "text/plain": [
       "bakeries                 4409\n",
       "gyms                     4438\n",
       "beauty_spas              4559\n",
       "cafes                    4851\n",
       "swimming_pools           4976\n",
       "view_points              5110\n",
       "monuments                5153\n",
       "gardens                  5230\n",
       "churches                 5260\n",
       "dance_clubs              5343\n",
       "resorts                  5365\n",
       "art_galleries            5451\n",
       "beaches                  5451\n",
       "pubs_bars                5455\n",
       "local_services           5455\n",
       "zoo                      5455\n",
       "hotels_other_lodgings    5455\n",
       "juice_bars               5455\n",
       "malls                    5455\n",
       "museums                  5455\n",
       "theatres                 5455\n",
       "parks                    5455\n",
       "restaurants              5455\n",
       "burger_pizza_shops       5455\n",
       "dtype: int64"
      ]
     },
     "execution_count": 24,
     "metadata": {},
     "output_type": "execute_result"
    }
   ],
   "source": [
    "# Creating the dataframe containg number of review for each feature\n",
    "reviews = data_no_missing[column_names[1:]].astype(bool).sum(axis=0).sort_values()\n",
    "reviews"
   ]
  },
  {
   "cell_type": "code",
   "execution_count": 25,
   "metadata": {
    "id": "ez9s8n2DF0yj"
   },
   "outputs": [],
   "source": [
    "column_names = data_no_missing.columns.values"
   ]
  },
  {
   "cell_type": "code",
   "execution_count": 26,
   "metadata": {
    "id": "fG9qWKwFF0yj",
    "outputId": "2aff89c9-aa69-4ab9-a5b2-4fa9d81eae24"
   },
   "outputs": [
    {
     "data": {
      "text/plain": [
       "Text(0.5, 1.0, 'No of reviews under each category')"
      ]
     },
     "execution_count": 26,
     "metadata": {},
     "output_type": "execute_result"
    },
    {
     "data": {
      "image/png": "[encoded data removed]",
      "text/plain": [
       "<Figure size 720x504 with 1 Axes>"
      ]
     },
     "metadata": {},
     "output_type": "display_data"
    }
   ],
   "source": [
    "plt.figure(figsize=(10,7))\n",
    "plt.barh(np.arange(len(column_names[1:])), reviews.values, align='center', alpha=0.5)\n",
    "plt.yticks(np.arange(len(column_names[1:])), reviews.index)\n",
    "plt.xlabel('No of reviews')\n",
    "plt.ylabel('Categories')\n",
    "plt.title('No of reviews under each category')"
   ]
  },
  {
   "cell_type": "markdown",
   "metadata": {
    "id": "b8ADO_r3F0yj"
   },
   "source": [
    "**Now let's check how many users have given reviews to the features**"
   ]
  },
  {
   "cell_type": "code",
   "execution_count": 27,
   "metadata": {
    "id": "1p6gS13wF0yk",
    "outputId": "19cb080f-b20c-4329-c9b4-c27e6b9a0c34"
   },
   "outputs": [
    {
     "data": {
      "text/plain": [
       "24    3724\n",
       "23     505\n",
       "21     457\n",
       "20     243\n",
       "22     167\n",
       "19     148\n",
       "18     114\n",
       "17      69\n",
       "16      22\n",
       "15       6\n",
       "dtype: int64"
      ]
     },
     "execution_count": 27,
     "metadata": {},
     "output_type": "execute_result"
    }
   ],
   "source": [
    "# Creating a dataframe to store number of reviews by users\n",
    "no_of_reviews = data_no_missing[column_names[1:]].astype(bool).sum(axis=1).value_counts()\n",
    "no_of_reviews"
   ]
  },
  {
   "cell_type": "code",
   "execution_count": 28,
   "metadata": {
    "id": "1XwGkQsMF0yk",
    "outputId": "31869149-69ae-4175-8df5-655652a3abfd"
   },
   "outputs": [
    {
     "data": {
      "text/plain": [
       "Text(0.5, 1.0, 'No of Categories vs No of reviews')"
      ]
     },
     "execution_count": 28,
     "metadata": {},
     "output_type": "execute_result"
    },
    {
     "data": {
      "image/png": "[encoded data removed]",
      "text/plain": [
       "<Figure size 720x504 with 1 Axes>"
      ]
     },
     "metadata": {},
     "output_type": "display_data"
    }
   ],
   "source": [
    "# Plotting the number of customers vs numbe of review\n",
    "plt.figure(figsize=(10,7))\n",
    "plt.bar(np.arange(len(no_of_reviews)), no_of_reviews.values, align='center', alpha=0.5)\n",
    "plt.xticks(np.arange(len(no_of_reviews)), no_of_reviews.index)\n",
    "plt.ylabel('No of reviews')\n",
    "plt.xlabel('No of categories')\n",
    "plt.title('No of Categories vs No of reviews')"
   ]
  },
  {
   "cell_type": "markdown",
   "metadata": {
    "id": "ojUmUOBdF0yl"
   },
   "source": [
    "**Conclusion**\n",
    "\n",
    "Around 3500 users have given a rating for all the 24 categories and the least no of rating given by a user is 15. So for users with lesser number of ratings a recommender system can be built"
   ]
  },
  {
   "cell_type": "markdown",
   "metadata": {
    "id": "u9Lf0CsgF0yl"
   },
   "source": [
    "**Now let's check Average rating per feature**"
   ]
  },
  {
   "cell_type": "code",
   "execution_count": 29,
   "metadata": {
    "id": "-Tt8PqdFF0yl",
    "outputId": "f250dfcf-61c7-4ca6-ae3c-dff9f2c3cdf7"
   },
   "outputs": [
    {
     "data": {
      "text/plain": [
       "gyms                     0.822374\n",
       "swimming_pools           0.949175\n",
       "cafes                    0.965098\n",
       "bakeries                 0.969072\n",
       "beauty_spas              0.999443\n",
       "dance_clubs              1.192821\n",
       "churches                 1.455674\n",
       "monuments                1.530818\n",
       "gardens                  1.560570\n",
       "view_points              1.749941\n",
       "burger_pizza_shops       2.078339\n",
       "hotels_other_lodgings    2.125747\n",
       "juice_bars               2.190346\n",
       "art_galleries            2.206060\n",
       "resorts                  2.319824\n",
       "beaches                  2.489520\n",
       "zoo                      2.541047\n",
       "local_services           2.550071\n",
       "parks                    2.797192\n",
       "pubs_bars                2.833093\n",
       "museums                  2.893809\n",
       "theatres                 2.959278\n",
       "restaurants              3.126301\n",
       "malls                    3.351778\n",
       "dtype: float64"
      ]
     },
     "execution_count": 29,
     "metadata": {},
     "output_type": "execute_result"
    }
   ],
   "source": [
    "# Creating a dataframe to store average rating for each feature\n",
    "avg_rating = data_no_missing[column_names[1:]].mean() # average rating is calculated by dividing count by it's mean\n",
    "avg_rating = avg_rating.sort_values() # sorting the rating in increasing order\n",
    "avg_rating"
   ]
  },
  {
   "cell_type": "code",
   "execution_count": 30,
   "metadata": {
    "id": "DvCp1uYuF0ym",
    "outputId": "6144077f-72b2-4468-fb78-a275da170b1a",
    "scrolled": true
   },
   "outputs": [
    {
     "data": {
      "text/plain": [
       "Text(0.5, 1.0, 'Average rating per Category')"
      ]
     },
     "execution_count": 30,
     "metadata": {},
     "output_type": "execute_result"
    },
    {
     "data": {
      "image/png": "[encoded data removed]",
      "text/plain": [
       "<Figure size 720x504 with 1 Axes>"
      ]
     },
     "metadata": {},
     "output_type": "display_data"
    }
   ],
   "source": [
    "# Plotting average rating plots\n",
    "plt.figure(figsize=(10,7))\n",
    "plt.barh(np.arange(len(column_names[1:])), avg_rating.values, align='center', alpha=0.5)\n",
    "plt.yticks(np.arange(len(column_names[1:])), avg_rating.index)\n",
    "plt.xlabel('Average Rating')\n",
    "plt.title('Average rating per Category')"
   ]
  },
  {
   "cell_type": "markdown",
   "metadata": {
    "id": "t2iRDU7pF0yn"
   },
   "source": [
    "Creating a id column"
   ]
  },
  {
   "cell_type": "code",
   "execution_count": 31,
   "metadata": {
    "id": "xpbI6iDAF0yn",
    "outputId": "2d5d248d-992b-4ce5-ef03-13a213e6b523"
   },
   "outputs": [
    {
     "data": {
      "text/html": [
       "<div>\n",
       "<style scoped>\n",
       "    .dataframe tbody tr th:only-of-type {\n",
       "        vertical-align: middle;\n",
       "    }\n",
       "\n",
       "    .dataframe tbody tr th {\n",
       "        vertical-align: top;\n",
       "    }\n",
       "\n",
       "    .dataframe thead th {\n",
       "        text-align: right;\n",
       "    }\n",
       "</style>\n",
       "<table border=\"1\" class=\"dataframe\">\n",
       "  <thead>\n",
       "    <tr style=\"text-align: right;\">\n",
       "      <th></th>\n",
       "      <th>churches</th>\n",
       "      <th>resorts</th>\n",
       "      <th>beaches</th>\n",
       "      <th>parks</th>\n",
       "      <th>theatres</th>\n",
       "      <th>museums</th>\n",
       "      <th>malls</th>\n",
       "      <th>zoo</th>\n",
       "      <th>restaurants</th>\n",
       "      <th>pubs_bars</th>\n",
       "      <th>...</th>\n",
       "      <th>dance_clubs</th>\n",
       "      <th>swimming_pools</th>\n",
       "      <th>gyms</th>\n",
       "      <th>bakeries</th>\n",
       "      <th>beauty_spas</th>\n",
       "      <th>cafes</th>\n",
       "      <th>view_points</th>\n",
       "      <th>monuments</th>\n",
       "      <th>gardens</th>\n",
       "      <th>id</th>\n",
       "    </tr>\n",
       "  </thead>\n",
       "  <tbody>\n",
       "    <tr>\n",
       "      <th>0</th>\n",
       "      <td>0.0</td>\n",
       "      <td>0.0</td>\n",
       "      <td>3.63</td>\n",
       "      <td>3.65</td>\n",
       "      <td>5.0</td>\n",
       "      <td>2.92</td>\n",
       "      <td>5.0</td>\n",
       "      <td>2.35</td>\n",
       "      <td>2.33</td>\n",
       "      <td>2.64</td>\n",
       "      <td>...</td>\n",
       "      <td>0.59</td>\n",
       "      <td>0.5</td>\n",
       "      <td>0.0</td>\n",
       "      <td>0.5</td>\n",
       "      <td>0.0</td>\n",
       "      <td>0.0</td>\n",
       "      <td>0.0</td>\n",
       "      <td>0.0</td>\n",
       "      <td>0.0</td>\n",
       "      <td>1</td>\n",
       "    </tr>\n",
       "    <tr>\n",
       "      <th>1</th>\n",
       "      <td>0.0</td>\n",
       "      <td>0.0</td>\n",
       "      <td>3.63</td>\n",
       "      <td>3.65</td>\n",
       "      <td>5.0</td>\n",
       "      <td>2.92</td>\n",
       "      <td>5.0</td>\n",
       "      <td>2.64</td>\n",
       "      <td>2.33</td>\n",
       "      <td>2.65</td>\n",
       "      <td>...</td>\n",
       "      <td>0.59</td>\n",
       "      <td>0.5</td>\n",
       "      <td>0.0</td>\n",
       "      <td>0.5</td>\n",
       "      <td>0.0</td>\n",
       "      <td>0.0</td>\n",
       "      <td>0.0</td>\n",
       "      <td>0.0</td>\n",
       "      <td>0.0</td>\n",
       "      <td>2</td>\n",
       "    </tr>\n",
       "    <tr>\n",
       "      <th>2</th>\n",
       "      <td>0.0</td>\n",
       "      <td>0.0</td>\n",
       "      <td>3.63</td>\n",
       "      <td>3.63</td>\n",
       "      <td>5.0</td>\n",
       "      <td>2.92</td>\n",
       "      <td>5.0</td>\n",
       "      <td>2.64</td>\n",
       "      <td>2.33</td>\n",
       "      <td>2.64</td>\n",
       "      <td>...</td>\n",
       "      <td>0.59</td>\n",
       "      <td>0.5</td>\n",
       "      <td>0.0</td>\n",
       "      <td>0.5</td>\n",
       "      <td>0.0</td>\n",
       "      <td>0.0</td>\n",
       "      <td>0.0</td>\n",
       "      <td>0.0</td>\n",
       "      <td>0.0</td>\n",
       "      <td>3</td>\n",
       "    </tr>\n",
       "    <tr>\n",
       "      <th>3</th>\n",
       "      <td>0.0</td>\n",
       "      <td>0.5</td>\n",
       "      <td>3.63</td>\n",
       "      <td>3.63</td>\n",
       "      <td>5.0</td>\n",
       "      <td>2.92</td>\n",
       "      <td>5.0</td>\n",
       "      <td>2.35</td>\n",
       "      <td>2.33</td>\n",
       "      <td>2.64</td>\n",
       "      <td>...</td>\n",
       "      <td>0.59</td>\n",
       "      <td>0.5</td>\n",
       "      <td>0.0</td>\n",
       "      <td>0.5</td>\n",
       "      <td>0.0</td>\n",
       "      <td>0.0</td>\n",
       "      <td>0.0</td>\n",
       "      <td>0.0</td>\n",
       "      <td>0.0</td>\n",
       "      <td>4</td>\n",
       "    </tr>\n",
       "    <tr>\n",
       "      <th>4</th>\n",
       "      <td>0.0</td>\n",
       "      <td>0.0</td>\n",
       "      <td>3.63</td>\n",
       "      <td>3.63</td>\n",
       "      <td>5.0</td>\n",
       "      <td>2.92</td>\n",
       "      <td>5.0</td>\n",
       "      <td>2.64</td>\n",
       "      <td>2.33</td>\n",
       "      <td>2.64</td>\n",
       "      <td>...</td>\n",
       "      <td>0.59</td>\n",
       "      <td>0.5</td>\n",
       "      <td>0.0</td>\n",
       "      <td>0.5</td>\n",
       "      <td>0.0</td>\n",
       "      <td>0.0</td>\n",
       "      <td>0.0</td>\n",
       "      <td>0.0</td>\n",
       "      <td>0.0</td>\n",
       "      <td>5</td>\n",
       "    </tr>\n",
       "  </tbody>\n",
       "</table>\n",
       "<p>5 rows × 25 columns</p>\n",
       "</div>"
      ],
      "text/plain": [
       "   churches  resorts  beaches  parks  theatres  museums  malls   zoo  \\\n",
       "0       0.0      0.0     3.63   3.65       5.0     2.92    5.0  2.35   \n",
       "1       0.0      0.0     3.63   3.65       5.0     2.92    5.0  2.64   \n",
       "2       0.0      0.0     3.63   3.63       5.0     2.92    5.0  2.64   \n",
       "3       0.0      0.5     3.63   3.63       5.0     2.92    5.0  2.35   \n",
       "4       0.0      0.0     3.63   3.63       5.0     2.92    5.0  2.64   \n",
       "\n",
       "   restaurants  pubs_bars  ...  dance_clubs  swimming_pools  gyms  bakeries  \\\n",
       "0         2.33       2.64  ...         0.59             0.5   0.0       0.5   \n",
       "1         2.33       2.65  ...         0.59             0.5   0.0       0.5   \n",
       "2         2.33       2.64  ...         0.59             0.5   0.0       0.5   \n",
       "3         2.33       2.64  ...         0.59             0.5   0.0       0.5   \n",
       "4         2.33       2.64  ...         0.59             0.5   0.0       0.5   \n",
       "\n",
       "   beauty_spas  cafes  view_points  monuments  gardens  id  \n",
       "0          0.0    0.0          0.0        0.0      0.0   1  \n",
       "1          0.0    0.0          0.0        0.0      0.0   2  \n",
       "2          0.0    0.0          0.0        0.0      0.0   3  \n",
       "3          0.0    0.0          0.0        0.0      0.0   4  \n",
       "4          0.0    0.0          0.0        0.0      0.0   5  \n",
       "\n",
       "[5 rows x 25 columns]"
      ]
     },
     "execution_count": 31,
     "metadata": {},
     "output_type": "execute_result"
    }
   ],
   "source": [
    "data_1 = data_no_missing.copy()\n",
    "\n",
    "new = data_1['user_id'].str.split(' ',n=2,expand=True)\n",
    "data_1['user'] = new[0]\n",
    "data_1['id'] = new[1]\n",
    "data_1 = data_1.drop(['user_id','user'],axis=1)\n",
    "data_1.head()"
   ]
  },
  {
   "cell_type": "code",
   "execution_count": 32,
   "metadata": {
    "id": "qXvdLqLfF0yn",
    "outputId": "0efc9d2f-8f9f-4c96-a0c1-6cd10337fb5c"
   },
   "outputs": [
    {
     "data": {
      "text/html": [
       "<div>\n",
       "<style scoped>\n",
       "    .dataframe tbody tr th:only-of-type {\n",
       "        vertical-align: middle;\n",
       "    }\n",
       "\n",
       "    .dataframe tbody tr th {\n",
       "        vertical-align: top;\n",
       "    }\n",
       "\n",
       "    .dataframe thead th {\n",
       "        text-align: right;\n",
       "    }\n",
       "</style>\n",
       "<table border=\"1\" class=\"dataframe\">\n",
       "  <thead>\n",
       "    <tr style=\"text-align: right;\">\n",
       "      <th></th>\n",
       "      <th>churches</th>\n",
       "      <th>resorts</th>\n",
       "      <th>beaches</th>\n",
       "      <th>parks</th>\n",
       "      <th>theatres</th>\n",
       "      <th>museums</th>\n",
       "      <th>malls</th>\n",
       "      <th>zoo</th>\n",
       "      <th>restaurants</th>\n",
       "      <th>pubs_bars</th>\n",
       "      <th>...</th>\n",
       "      <th>dance_clubs</th>\n",
       "      <th>swimming_pools</th>\n",
       "      <th>gyms</th>\n",
       "      <th>bakeries</th>\n",
       "      <th>beauty_spas</th>\n",
       "      <th>cafes</th>\n",
       "      <th>view_points</th>\n",
       "      <th>monuments</th>\n",
       "      <th>gardens</th>\n",
       "      <th>id</th>\n",
       "    </tr>\n",
       "  </thead>\n",
       "  <tbody>\n",
       "    <tr>\n",
       "      <th>0</th>\n",
       "      <td>0.0</td>\n",
       "      <td>0.0</td>\n",
       "      <td>3.63</td>\n",
       "      <td>3.65</td>\n",
       "      <td>5.0</td>\n",
       "      <td>2.92</td>\n",
       "      <td>5.0</td>\n",
       "      <td>2.35</td>\n",
       "      <td>2.33</td>\n",
       "      <td>2.64</td>\n",
       "      <td>...</td>\n",
       "      <td>0.59</td>\n",
       "      <td>0.5</td>\n",
       "      <td>0.0</td>\n",
       "      <td>0.5</td>\n",
       "      <td>0.0</td>\n",
       "      <td>0.0</td>\n",
       "      <td>0.0</td>\n",
       "      <td>0.0</td>\n",
       "      <td>0.0</td>\n",
       "      <td>1</td>\n",
       "    </tr>\n",
       "    <tr>\n",
       "      <th>1</th>\n",
       "      <td>0.0</td>\n",
       "      <td>0.0</td>\n",
       "      <td>3.63</td>\n",
       "      <td>3.65</td>\n",
       "      <td>5.0</td>\n",
       "      <td>2.92</td>\n",
       "      <td>5.0</td>\n",
       "      <td>2.64</td>\n",
       "      <td>2.33</td>\n",
       "      <td>2.65</td>\n",
       "      <td>...</td>\n",
       "      <td>0.59</td>\n",
       "      <td>0.5</td>\n",
       "      <td>0.0</td>\n",
       "      <td>0.5</td>\n",
       "      <td>0.0</td>\n",
       "      <td>0.0</td>\n",
       "      <td>0.0</td>\n",
       "      <td>0.0</td>\n",
       "      <td>0.0</td>\n",
       "      <td>2</td>\n",
       "    </tr>\n",
       "    <tr>\n",
       "      <th>2</th>\n",
       "      <td>0.0</td>\n",
       "      <td>0.0</td>\n",
       "      <td>3.63</td>\n",
       "      <td>3.63</td>\n",
       "      <td>5.0</td>\n",
       "      <td>2.92</td>\n",
       "      <td>5.0</td>\n",
       "      <td>2.64</td>\n",
       "      <td>2.33</td>\n",
       "      <td>2.64</td>\n",
       "      <td>...</td>\n",
       "      <td>0.59</td>\n",
       "      <td>0.5</td>\n",
       "      <td>0.0</td>\n",
       "      <td>0.5</td>\n",
       "      <td>0.0</td>\n",
       "      <td>0.0</td>\n",
       "      <td>0.0</td>\n",
       "      <td>0.0</td>\n",
       "      <td>0.0</td>\n",
       "      <td>3</td>\n",
       "    </tr>\n",
       "    <tr>\n",
       "      <th>3</th>\n",
       "      <td>0.0</td>\n",
       "      <td>0.5</td>\n",
       "      <td>3.63</td>\n",
       "      <td>3.63</td>\n",
       "      <td>5.0</td>\n",
       "      <td>2.92</td>\n",
       "      <td>5.0</td>\n",
       "      <td>2.35</td>\n",
       "      <td>2.33</td>\n",
       "      <td>2.64</td>\n",
       "      <td>...</td>\n",
       "      <td>0.59</td>\n",
       "      <td>0.5</td>\n",
       "      <td>0.0</td>\n",
       "      <td>0.5</td>\n",
       "      <td>0.0</td>\n",
       "      <td>0.0</td>\n",
       "      <td>0.0</td>\n",
       "      <td>0.0</td>\n",
       "      <td>0.0</td>\n",
       "      <td>4</td>\n",
       "    </tr>\n",
       "    <tr>\n",
       "      <th>4</th>\n",
       "      <td>0.0</td>\n",
       "      <td>0.0</td>\n",
       "      <td>3.63</td>\n",
       "      <td>3.63</td>\n",
       "      <td>5.0</td>\n",
       "      <td>2.92</td>\n",
       "      <td>5.0</td>\n",
       "      <td>2.64</td>\n",
       "      <td>2.33</td>\n",
       "      <td>2.64</td>\n",
       "      <td>...</td>\n",
       "      <td>0.59</td>\n",
       "      <td>0.5</td>\n",
       "      <td>0.0</td>\n",
       "      <td>0.5</td>\n",
       "      <td>0.0</td>\n",
       "      <td>0.0</td>\n",
       "      <td>0.0</td>\n",
       "      <td>0.0</td>\n",
       "      <td>0.0</td>\n",
       "      <td>5</td>\n",
       "    </tr>\n",
       "  </tbody>\n",
       "</table>\n",
       "<p>5 rows × 25 columns</p>\n",
       "</div>"
      ],
      "text/plain": [
       "   churches  resorts  beaches  parks  theatres  museums  malls   zoo  \\\n",
       "0       0.0      0.0     3.63   3.65       5.0     2.92    5.0  2.35   \n",
       "1       0.0      0.0     3.63   3.65       5.0     2.92    5.0  2.64   \n",
       "2       0.0      0.0     3.63   3.63       5.0     2.92    5.0  2.64   \n",
       "3       0.0      0.5     3.63   3.63       5.0     2.92    5.0  2.35   \n",
       "4       0.0      0.0     3.63   3.63       5.0     2.92    5.0  2.64   \n",
       "\n",
       "   restaurants  pubs_bars  ...  dance_clubs  swimming_pools  gyms  bakeries  \\\n",
       "0         2.33       2.64  ...         0.59             0.5   0.0       0.5   \n",
       "1         2.33       2.65  ...         0.59             0.5   0.0       0.5   \n",
       "2         2.33       2.64  ...         0.59             0.5   0.0       0.5   \n",
       "3         2.33       2.64  ...         0.59             0.5   0.0       0.5   \n",
       "4         2.33       2.64  ...         0.59             0.5   0.0       0.5   \n",
       "\n",
       "   beauty_spas  cafes  view_points  monuments  gardens  id  \n",
       "0          0.0    0.0          0.0        0.0      0.0   1  \n",
       "1          0.0    0.0          0.0        0.0      0.0   2  \n",
       "2          0.0    0.0          0.0        0.0      0.0   3  \n",
       "3          0.0    0.0          0.0        0.0      0.0   4  \n",
       "4          0.0    0.0          0.0        0.0      0.0   5  \n",
       "\n",
       "[5 rows x 25 columns]"
      ]
     },
     "execution_count": 32,
     "metadata": {},
     "output_type": "execute_result"
    }
   ],
   "source": [
    "data_final = data_1.copy(deep = True)\n",
    "data_final.head()"
   ]
  },
  {
   "cell_type": "markdown",
   "metadata": {
    "id": "TBZgtfrKF0yo"
   },
   "source": [
    "<a id='Hierarchical_Clustering'></a>\n",
    "## 8. Hierarchical Clustering"
   ]
  },
  {
   "cell_type": "markdown",
   "metadata": {
    "id": "xl3HVSiWF0yo"
   },
   "source": [
    "**import relevant packages**"
   ]
  },
  {
   "cell_type": "code",
   "execution_count": 33,
   "metadata": {
    "id": "L46inJz-F0yo"
   },
   "outputs": [],
   "source": [
    "import scipy.cluster.hierarchy as sch\n",
    "from sklearn.preprocessing import scale as s\n",
    "from scipy.cluster.hierarchy import dendrogram, linkage"
   ]
  },
  {
   "cell_type": "code",
   "execution_count": 34,
   "metadata": {
    "id": "kDzw2syAF0yp",
    "outputId": "08433bfc-221d-4131-95f3-5d77658abae9"
   },
   "outputs": [
    {
     "data": {
      "text/plain": [
       "array([[2.99000000e+02, 3.00000000e+02, 1.00005000e+00, 2.00000000e+00],\n",
       "       [6.72000000e+02, 6.73000000e+02, 1.00005000e+00, 2.00000000e+00],\n",
       "       [2.16000000e+03, 2.16100000e+03, 1.00005000e+00, 2.00000000e+00],\n",
       "       ...,\n",
       "       [1.09000000e+04, 1.09030000e+04, 3.22742555e+04, 2.06400000e+03],\n",
       "       [1.09040000e+04, 1.09050000e+04, 6.91444681e+04, 3.39100000e+03],\n",
       "       [1.09060000e+04, 1.09070000e+04, 1.38206963e+05, 5.45500000e+03]])"
      ]
     },
     "execution_count": 34,
     "metadata": {},
     "output_type": "execute_result"
    }
   ],
   "source": [
    "Z = sch.linkage(data_final,method='ward')\n",
    "Z\n"
   ]
  },
  {
   "cell_type": "code",
   "execution_count": 35,
   "metadata": {
    "id": "jSzHUNTBF0yp",
    "outputId": "07a20ccd-d77f-4236-a3d6-52df111c7e74",
    "scrolled": true
   },
   "outputs": [
    {
     "data": {
      "text/plain": [
       "Text(0.5, 1.0, 'Hierarchical Clustering')"
      ]
     },
     "execution_count": 35,
     "metadata": {},
     "output_type": "execute_result"
    },
    {
     "data": {
      "image/png": "[encoded data removed]",
      "text/plain": [
       "<Figure size 432x288 with 1 Axes>"
      ]
     },
     "metadata": {},
     "output_type": "display_data"
    }
   ],
   "source": [
    "# Creating and plotting a dendogram\n",
    "den = sch.dendrogram(Z)\n",
    "plt.tick_params(\n",
    "    axis='x',          \n",
    "    which='both',      \n",
    "    bottom=False,     \n",
    "    top=False,         \n",
    "    labelbottom=False) \n",
    "plt.title('Hierarchical Clustering')\n"
   ]
  },
  {
   "cell_type": "markdown",
   "metadata": {
    "id": "itq3c2-8F0yq"
   },
   "source": [
    "**Creating a function to determine the cutting line**\n"
   ]
  },
  {
   "cell_type": "code",
   "execution_count": 36,
   "metadata": {
    "id": "JxKIIIsCF0yq"
   },
   "outputs": [],
   "source": [
    "def fd(*args, **kwargs):\n",
    "    max_d = kwargs.pop('max_d', None)\n",
    "    if max_d and 'color_threshold' not in kwargs:\n",
    "        kwargs['color_threshold'] = max_d\n",
    "    annotate_above = kwargs.pop('annotate_above', 0)\n",
    "\n",
    "    ddata = dendrogram(*args, **kwargs)\n",
    "\n",
    "    if not kwargs.get('no_plot', False):\n",
    "        plt.title('Hierarchical Clustering Dendrogram (truncated)')\n",
    "        plt.xlabel('sample index or (cluster size)')\n",
    "        plt.ylabel('distance')\n",
    "        for i, d, c in zip(ddata['icoord'], ddata['dcoord'], ddata['color_list']):\n",
    "            x = 0.5 * sum(i[1:3])\n",
    "            y = d[1]\n",
    "            if y > annotate_above:\n",
    "                plt.plot(x, y, 'o', c=c)\n",
    "                plt.annotate(\"%.3g\" % y, (x, y), xytext=(0, -5),\n",
    "                             textcoords='offset points',\n",
    "                             va='top', ha='center')\n",
    "        if max_d:\n",
    "            plt.axhline(y=max_d, c='k')\n",
    "    return ddata"
   ]
  },
  {
   "cell_type": "markdown",
   "metadata": {
    "id": "jw-199oJF0yr"
   },
   "source": [
    "**Creating a dendogram with cutting line**"
   ]
  },
  {
   "cell_type": "markdown",
   "metadata": {
    "id": "620mymT9F0yr"
   },
   "source": [
    "Observing the height of each dendrogram division we decided to go with 80000 where the line would be drawn and 30000 to determine the dendrogram nodes"
   ]
  },
  {
   "cell_type": "code",
   "execution_count": 37,
   "metadata": {
    "id": "J5BIEirYF0yr",
    "outputId": "52cc8f3a-2522-4fb5-d2e4-df4b3fe97964"
   },
   "outputs": [
    {
     "data": {
      "image/png": "[encoded data removed]",
      "text/plain": [
       "<Figure size 432x288 with 1 Axes>"
      ]
     },
     "metadata": {},
     "output_type": "display_data"
    }
   ],
   "source": [
    "fd(Z,leaf_rotation=90.,show_contracted=True,annotate_above=30000,max_d=80000)\n",
    "plt.tick_params(\n",
    "    axis='x',          \n",
    "    which='both',      \n",
    "    bottom=False,     \n",
    "    top=False,         \n",
    "    labelbottom=False)"
   ]
  },
  {
   "cell_type": "markdown",
   "metadata": {
    "id": "Y9qNZr57F0ys"
   },
   "source": [
    "**Creating a hierarchical clustering model**"
   ]
  },
  {
   "cell_type": "code",
   "execution_count": 38,
   "metadata": {
    "id": "jpfk_3b7F0ys"
   },
   "outputs": [],
   "source": [
    "# Importing packages\n",
    "from sklearn.cluster import AgglomerativeClustering "
   ]
  },
  {
   "cell_type": "code",
   "execution_count": 39,
   "metadata": {
    "id": "10txAPbqF0yt"
   },
   "outputs": [],
   "source": [
    "# Creating a Agglomerative Clustering\n",
    "hc_model = AgglomerativeClustering(n_clusters = 2, affinity = 'euclidean', linkage ='ward')"
   ]
  },
  {
   "cell_type": "code",
   "execution_count": 40,
   "metadata": {
    "id": "GVUgl1ABF0yt"
   },
   "outputs": [],
   "source": [
    "# Fitting the model\n",
    "y_cluster = hc_model.fit_predict(data_final)"
   ]
  },
  {
   "cell_type": "markdown",
   "metadata": {
    "id": "-RyYReP9F0yt"
   },
   "source": [
    "Adding the cluster column"
   ]
  },
  {
   "cell_type": "code",
   "execution_count": 41,
   "metadata": {
    "id": "oah8jF0HF0yt"
   },
   "outputs": [],
   "source": [
    "data_clustered = data_final.copy()"
   ]
  },
  {
   "cell_type": "code",
   "execution_count": 42,
   "metadata": {
    "id": "Tn8BhIYhF0yu"
   },
   "outputs": [],
   "source": [
    "data_clustered[\"Cluster\"] = y_cluster.astype('object')"
   ]
  },
  {
   "cell_type": "code",
   "execution_count": 43,
   "metadata": {
    "id": "r55Fv1EnF0yu",
    "outputId": "460c5b9c-0de3-475d-c484-f5fcd4815409",
    "scrolled": false
   },
   "outputs": [
    {
     "data": {
      "text/html": [
       "<div>\n",
       "<style scoped>\n",
       "    .dataframe tbody tr th:only-of-type {\n",
       "        vertical-align: middle;\n",
       "    }\n",
       "\n",
       "    .dataframe tbody tr th {\n",
       "        vertical-align: top;\n",
       "    }\n",
       "\n",
       "    .dataframe thead th {\n",
       "        text-align: right;\n",
       "    }\n",
       "</style>\n",
       "<table border=\"1\" class=\"dataframe\">\n",
       "  <thead>\n",
       "    <tr style=\"text-align: right;\">\n",
       "      <th></th>\n",
       "      <th>churches</th>\n",
       "      <th>resorts</th>\n",
       "      <th>beaches</th>\n",
       "      <th>parks</th>\n",
       "      <th>theatres</th>\n",
       "      <th>museums</th>\n",
       "      <th>malls</th>\n",
       "      <th>zoo</th>\n",
       "      <th>restaurants</th>\n",
       "      <th>pubs_bars</th>\n",
       "      <th>...</th>\n",
       "      <th>swimming_pools</th>\n",
       "      <th>gyms</th>\n",
       "      <th>bakeries</th>\n",
       "      <th>beauty_spas</th>\n",
       "      <th>cafes</th>\n",
       "      <th>view_points</th>\n",
       "      <th>monuments</th>\n",
       "      <th>gardens</th>\n",
       "      <th>id</th>\n",
       "      <th>Cluster</th>\n",
       "    </tr>\n",
       "  </thead>\n",
       "  <tbody>\n",
       "    <tr>\n",
       "      <th>0</th>\n",
       "      <td>0.0</td>\n",
       "      <td>0.0</td>\n",
       "      <td>3.63</td>\n",
       "      <td>3.65</td>\n",
       "      <td>5.0</td>\n",
       "      <td>2.92</td>\n",
       "      <td>5.0</td>\n",
       "      <td>2.35</td>\n",
       "      <td>2.33</td>\n",
       "      <td>2.64</td>\n",
       "      <td>...</td>\n",
       "      <td>0.5</td>\n",
       "      <td>0.0</td>\n",
       "      <td>0.5</td>\n",
       "      <td>0.0</td>\n",
       "      <td>0.0</td>\n",
       "      <td>0.0</td>\n",
       "      <td>0.0</td>\n",
       "      <td>0.0</td>\n",
       "      <td>1</td>\n",
       "      <td>1</td>\n",
       "    </tr>\n",
       "    <tr>\n",
       "      <th>1</th>\n",
       "      <td>0.0</td>\n",
       "      <td>0.0</td>\n",
       "      <td>3.63</td>\n",
       "      <td>3.65</td>\n",
       "      <td>5.0</td>\n",
       "      <td>2.92</td>\n",
       "      <td>5.0</td>\n",
       "      <td>2.64</td>\n",
       "      <td>2.33</td>\n",
       "      <td>2.65</td>\n",
       "      <td>...</td>\n",
       "      <td>0.5</td>\n",
       "      <td>0.0</td>\n",
       "      <td>0.5</td>\n",
       "      <td>0.0</td>\n",
       "      <td>0.0</td>\n",
       "      <td>0.0</td>\n",
       "      <td>0.0</td>\n",
       "      <td>0.0</td>\n",
       "      <td>2</td>\n",
       "      <td>1</td>\n",
       "    </tr>\n",
       "    <tr>\n",
       "      <th>2</th>\n",
       "      <td>0.0</td>\n",
       "      <td>0.0</td>\n",
       "      <td>3.63</td>\n",
       "      <td>3.63</td>\n",
       "      <td>5.0</td>\n",
       "      <td>2.92</td>\n",
       "      <td>5.0</td>\n",
       "      <td>2.64</td>\n",
       "      <td>2.33</td>\n",
       "      <td>2.64</td>\n",
       "      <td>...</td>\n",
       "      <td>0.5</td>\n",
       "      <td>0.0</td>\n",
       "      <td>0.5</td>\n",
       "      <td>0.0</td>\n",
       "      <td>0.0</td>\n",
       "      <td>0.0</td>\n",
       "      <td>0.0</td>\n",
       "      <td>0.0</td>\n",
       "      <td>3</td>\n",
       "      <td>1</td>\n",
       "    </tr>\n",
       "    <tr>\n",
       "      <th>3</th>\n",
       "      <td>0.0</td>\n",
       "      <td>0.5</td>\n",
       "      <td>3.63</td>\n",
       "      <td>3.63</td>\n",
       "      <td>5.0</td>\n",
       "      <td>2.92</td>\n",
       "      <td>5.0</td>\n",
       "      <td>2.35</td>\n",
       "      <td>2.33</td>\n",
       "      <td>2.64</td>\n",
       "      <td>...</td>\n",
       "      <td>0.5</td>\n",
       "      <td>0.0</td>\n",
       "      <td>0.5</td>\n",
       "      <td>0.0</td>\n",
       "      <td>0.0</td>\n",
       "      <td>0.0</td>\n",
       "      <td>0.0</td>\n",
       "      <td>0.0</td>\n",
       "      <td>4</td>\n",
       "      <td>1</td>\n",
       "    </tr>\n",
       "    <tr>\n",
       "      <th>4</th>\n",
       "      <td>0.0</td>\n",
       "      <td>0.0</td>\n",
       "      <td>3.63</td>\n",
       "      <td>3.63</td>\n",
       "      <td>5.0</td>\n",
       "      <td>2.92</td>\n",
       "      <td>5.0</td>\n",
       "      <td>2.64</td>\n",
       "      <td>2.33</td>\n",
       "      <td>2.64</td>\n",
       "      <td>...</td>\n",
       "      <td>0.5</td>\n",
       "      <td>0.0</td>\n",
       "      <td>0.5</td>\n",
       "      <td>0.0</td>\n",
       "      <td>0.0</td>\n",
       "      <td>0.0</td>\n",
       "      <td>0.0</td>\n",
       "      <td>0.0</td>\n",
       "      <td>5</td>\n",
       "      <td>1</td>\n",
       "    </tr>\n",
       "  </tbody>\n",
       "</table>\n",
       "<p>5 rows × 26 columns</p>\n",
       "</div>"
      ],
      "text/plain": [
       "   churches  resorts  beaches  parks  theatres  museums  malls   zoo  \\\n",
       "0       0.0      0.0     3.63   3.65       5.0     2.92    5.0  2.35   \n",
       "1       0.0      0.0     3.63   3.65       5.0     2.92    5.0  2.64   \n",
       "2       0.0      0.0     3.63   3.63       5.0     2.92    5.0  2.64   \n",
       "3       0.0      0.5     3.63   3.63       5.0     2.92    5.0  2.35   \n",
       "4       0.0      0.0     3.63   3.63       5.0     2.92    5.0  2.64   \n",
       "\n",
       "   restaurants  pubs_bars  ...  swimming_pools  gyms  bakeries  beauty_spas  \\\n",
       "0         2.33       2.64  ...             0.5   0.0       0.5          0.0   \n",
       "1         2.33       2.65  ...             0.5   0.0       0.5          0.0   \n",
       "2         2.33       2.64  ...             0.5   0.0       0.5          0.0   \n",
       "3         2.33       2.64  ...             0.5   0.0       0.5          0.0   \n",
       "4         2.33       2.64  ...             0.5   0.0       0.5          0.0   \n",
       "\n",
       "   cafes  view_points  monuments  gardens  id  Cluster  \n",
       "0    0.0          0.0        0.0      0.0   1        1  \n",
       "1    0.0          0.0        0.0      0.0   2        1  \n",
       "2    0.0          0.0        0.0      0.0   3        1  \n",
       "3    0.0          0.0        0.0      0.0   4        1  \n",
       "4    0.0          0.0        0.0      0.0   5        1  \n",
       "\n",
       "[5 rows x 26 columns]"
      ]
     },
     "execution_count": 43,
     "metadata": {},
     "output_type": "execute_result"
    }
   ],
   "source": [
    "data_clustered.head()"
   ]
  },
  {
   "cell_type": "markdown",
   "metadata": {
    "id": "vSjIgte4F0yu"
   },
   "source": [
    "**Visualizing the clusters**"
   ]
  },
  {
   "cell_type": "code",
   "execution_count": 44,
   "metadata": {
    "id": "k2tsk2TvF0yv",
    "outputId": "f3d2f707-ab46-43e9-e5bf-f0e39147af20"
   },
   "outputs": [
    {
     "data": {
      "text/plain": [
       "['churches',\n",
       " 'resorts',\n",
       " 'beaches',\n",
       " 'parks',\n",
       " 'theatres',\n",
       " 'museums',\n",
       " 'malls',\n",
       " 'zoo',\n",
       " 'restaurants',\n",
       " 'pubs_bars',\n",
       " 'local_services',\n",
       " 'burger_pizza_shops',\n",
       " 'hotels_other_lodgings',\n",
       " 'juice_bars',\n",
       " 'art_galleries',\n",
       " 'dance_clubs',\n",
       " 'swimming_pools',\n",
       " 'gyms',\n",
       " 'bakeries',\n",
       " 'beauty_spas',\n",
       " 'cafes',\n",
       " 'view_points',\n",
       " 'monuments',\n",
       " 'gardens',\n",
       " 'id']"
      ]
     },
     "execution_count": 44,
     "metadata": {},
     "output_type": "execute_result"
    }
   ],
   "source": [
    "cols = list(data_final.columns)\n",
    "#cols.remove(\"user_id\")\n",
    "cols"
   ]
  }
 ],
 "metadata": {
  "colab": {
   "name": "Travel Review Clustering.ipynb",
   "provenance": []
  },
  "kernelspec": {
   "display_name": "Python 3 (ipykernel)",
   "language": "python",
   "name": "python3"
  },
  "language_info": {
   "codemirror_mode": {
    "name": "ipython",
    "version": 3
   },
   "file_extension": ".py",
   "mimetype": "text/x-python",
   "name": "python",
   "nbconvert_exporter": "python",
   "pygments_lexer": "ipython3",
   "version": "3.9.12"
  }
 },
 "nbformat": 4,
 "nbformat_minor": 1
}
