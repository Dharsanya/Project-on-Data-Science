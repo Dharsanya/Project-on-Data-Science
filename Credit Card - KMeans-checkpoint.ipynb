{
 "cells": [
  {
   "cell_type": "markdown",
   "id": "da00853e",
   "metadata": {},
   "source": [
    "# TEST : PART 1"
   ]
  },
  {
   "cell_type": "code",
   "execution_count": 1,
   "id": "e861a0b4",
   "metadata": {},
   "outputs": [
    {
     "data": {
      "text/html": [
       "<div>\n",
       "<style scoped>\n",
       "    .dataframe tbody tr th:only-of-type {\n",
       "        vertical-align: middle;\n",
       "    }\n",
       "\n",
       "    .dataframe tbody tr th {\n",
       "        vertical-align: top;\n",
       "    }\n",
       "\n",
       "    .dataframe thead th {\n",
       "        text-align: right;\n",
       "    }\n",
       "</style>\n",
       "<table border=\"1\" class=\"dataframe\">\n",
       "  <thead>\n",
       "    <tr style=\"text-align: right;\">\n",
       "      <th></th>\n",
       "      <th>CUST_ID</th>\n",
       "      <th>BALANCE</th>\n",
       "      <th>BALANCE_FREQUENCY</th>\n",
       "      <th>PURCHASES</th>\n",
       "      <th>ONEOFF_PURCHASES</th>\n",
       "      <th>INSTALLMENTS_PURCHASES</th>\n",
       "      <th>CASH_ADVANCE</th>\n",
       "      <th>PURCHASES_FREQUENCY</th>\n",
       "      <th>ONEOFF_PURCHASES_FREQUENCY</th>\n",
       "      <th>PURCHASES_INSTALLMENTS_FREQUENCY</th>\n",
       "      <th>CASH_ADVANCE_FREQUENCY</th>\n",
       "      <th>CASH_ADVANCE_TRX</th>\n",
       "      <th>PURCHASES_TRX</th>\n",
       "      <th>CREDIT_LIMIT</th>\n",
       "      <th>PAYMENTS</th>\n",
       "      <th>MINIMUM_PAYMENTS</th>\n",
       "      <th>PRC_FULL_PAYMENT</th>\n",
       "      <th>TENURE</th>\n",
       "    </tr>\n",
       "  </thead>\n",
       "  <tbody>\n",
       "    <tr>\n",
       "      <th>0</th>\n",
       "      <td>C10001</td>\n",
       "      <td>40.900749</td>\n",
       "      <td>0.818182</td>\n",
       "      <td>95.40</td>\n",
       "      <td>0.00</td>\n",
       "      <td>95.40</td>\n",
       "      <td>0.000000</td>\n",
       "      <td>0.166667</td>\n",
       "      <td>0.000000</td>\n",
       "      <td>0.083333</td>\n",
       "      <td>0.000000</td>\n",
       "      <td>0</td>\n",
       "      <td>2</td>\n",
       "      <td>1000.0</td>\n",
       "      <td>201.802084</td>\n",
       "      <td>139.509787</td>\n",
       "      <td>0.000000</td>\n",
       "      <td>12</td>\n",
       "    </tr>\n",
       "    <tr>\n",
       "      <th>1</th>\n",
       "      <td>C10002</td>\n",
       "      <td>3202.467416</td>\n",
       "      <td>0.909091</td>\n",
       "      <td>0.00</td>\n",
       "      <td>0.00</td>\n",
       "      <td>0.00</td>\n",
       "      <td>6442.945483</td>\n",
       "      <td>0.000000</td>\n",
       "      <td>0.000000</td>\n",
       "      <td>0.000000</td>\n",
       "      <td>0.250000</td>\n",
       "      <td>4</td>\n",
       "      <td>0</td>\n",
       "      <td>7000.0</td>\n",
       "      <td>4103.032597</td>\n",
       "      <td>1072.340217</td>\n",
       "      <td>0.222222</td>\n",
       "      <td>12</td>\n",
       "    </tr>\n",
       "    <tr>\n",
       "      <th>2</th>\n",
       "      <td>C10003</td>\n",
       "      <td>2495.148862</td>\n",
       "      <td>1.000000</td>\n",
       "      <td>773.17</td>\n",
       "      <td>773.17</td>\n",
       "      <td>0.00</td>\n",
       "      <td>0.000000</td>\n",
       "      <td>1.000000</td>\n",
       "      <td>1.000000</td>\n",
       "      <td>0.000000</td>\n",
       "      <td>0.000000</td>\n",
       "      <td>0</td>\n",
       "      <td>12</td>\n",
       "      <td>7500.0</td>\n",
       "      <td>622.066742</td>\n",
       "      <td>627.284787</td>\n",
       "      <td>0.000000</td>\n",
       "      <td>12</td>\n",
       "    </tr>\n",
       "    <tr>\n",
       "      <th>3</th>\n",
       "      <td>C10004</td>\n",
       "      <td>1666.670542</td>\n",
       "      <td>0.636364</td>\n",
       "      <td>1499.00</td>\n",
       "      <td>1499.00</td>\n",
       "      <td>0.00</td>\n",
       "      <td>205.788017</td>\n",
       "      <td>0.083333</td>\n",
       "      <td>0.083333</td>\n",
       "      <td>0.000000</td>\n",
       "      <td>0.083333</td>\n",
       "      <td>1</td>\n",
       "      <td>1</td>\n",
       "      <td>7500.0</td>\n",
       "      <td>0.000000</td>\n",
       "      <td>NaN</td>\n",
       "      <td>0.000000</td>\n",
       "      <td>12</td>\n",
       "    </tr>\n",
       "    <tr>\n",
       "      <th>4</th>\n",
       "      <td>C10005</td>\n",
       "      <td>817.714335</td>\n",
       "      <td>1.000000</td>\n",
       "      <td>16.00</td>\n",
       "      <td>16.00</td>\n",
       "      <td>0.00</td>\n",
       "      <td>0.000000</td>\n",
       "      <td>0.083333</td>\n",
       "      <td>0.083333</td>\n",
       "      <td>0.000000</td>\n",
       "      <td>0.000000</td>\n",
       "      <td>0</td>\n",
       "      <td>1</td>\n",
       "      <td>1200.0</td>\n",
       "      <td>678.334763</td>\n",
       "      <td>244.791237</td>\n",
       "      <td>0.000000</td>\n",
       "      <td>12</td>\n",
       "    </tr>\n",
       "    <tr>\n",
       "      <th>...</th>\n",
       "      <td>...</td>\n",
       "      <td>...</td>\n",
       "      <td>...</td>\n",
       "      <td>...</td>\n",
       "      <td>...</td>\n",
       "      <td>...</td>\n",
       "      <td>...</td>\n",
       "      <td>...</td>\n",
       "      <td>...</td>\n",
       "      <td>...</td>\n",
       "      <td>...</td>\n",
       "      <td>...</td>\n",
       "      <td>...</td>\n",
       "      <td>...</td>\n",
       "      <td>...</td>\n",
       "      <td>...</td>\n",
       "      <td>...</td>\n",
       "      <td>...</td>\n",
       "    </tr>\n",
       "    <tr>\n",
       "      <th>8945</th>\n",
       "      <td>C19186</td>\n",
       "      <td>28.493517</td>\n",
       "      <td>1.000000</td>\n",
       "      <td>291.12</td>\n",
       "      <td>0.00</td>\n",
       "      <td>291.12</td>\n",
       "      <td>0.000000</td>\n",
       "      <td>1.000000</td>\n",
       "      <td>0.000000</td>\n",
       "      <td>0.833333</td>\n",
       "      <td>0.000000</td>\n",
       "      <td>0</td>\n",
       "      <td>6</td>\n",
       "      <td>1000.0</td>\n",
       "      <td>325.594462</td>\n",
       "      <td>48.886365</td>\n",
       "      <td>0.500000</td>\n",
       "      <td>6</td>\n",
       "    </tr>\n",
       "    <tr>\n",
       "      <th>8946</th>\n",
       "      <td>C19187</td>\n",
       "      <td>19.183215</td>\n",
       "      <td>1.000000</td>\n",
       "      <td>300.00</td>\n",
       "      <td>0.00</td>\n",
       "      <td>300.00</td>\n",
       "      <td>0.000000</td>\n",
       "      <td>1.000000</td>\n",
       "      <td>0.000000</td>\n",
       "      <td>0.833333</td>\n",
       "      <td>0.000000</td>\n",
       "      <td>0</td>\n",
       "      <td>6</td>\n",
       "      <td>1000.0</td>\n",
       "      <td>275.861322</td>\n",
       "      <td>NaN</td>\n",
       "      <td>0.000000</td>\n",
       "      <td>6</td>\n",
       "    </tr>\n",
       "    <tr>\n",
       "      <th>8947</th>\n",
       "      <td>C19188</td>\n",
       "      <td>23.398673</td>\n",
       "      <td>0.833333</td>\n",
       "      <td>144.40</td>\n",
       "      <td>0.00</td>\n",
       "      <td>144.40</td>\n",
       "      <td>0.000000</td>\n",
       "      <td>0.833333</td>\n",
       "      <td>0.000000</td>\n",
       "      <td>0.666667</td>\n",
       "      <td>0.000000</td>\n",
       "      <td>0</td>\n",
       "      <td>5</td>\n",
       "      <td>1000.0</td>\n",
       "      <td>81.270775</td>\n",
       "      <td>82.418369</td>\n",
       "      <td>0.250000</td>\n",
       "      <td>6</td>\n",
       "    </tr>\n",
       "    <tr>\n",
       "      <th>8948</th>\n",
       "      <td>C19189</td>\n",
       "      <td>13.457564</td>\n",
       "      <td>0.833333</td>\n",
       "      <td>0.00</td>\n",
       "      <td>0.00</td>\n",
       "      <td>0.00</td>\n",
       "      <td>36.558778</td>\n",
       "      <td>0.000000</td>\n",
       "      <td>0.000000</td>\n",
       "      <td>0.000000</td>\n",
       "      <td>0.166667</td>\n",
       "      <td>2</td>\n",
       "      <td>0</td>\n",
       "      <td>500.0</td>\n",
       "      <td>52.549959</td>\n",
       "      <td>55.755628</td>\n",
       "      <td>0.250000</td>\n",
       "      <td>6</td>\n",
       "    </tr>\n",
       "    <tr>\n",
       "      <th>8949</th>\n",
       "      <td>C19190</td>\n",
       "      <td>372.708075</td>\n",
       "      <td>0.666667</td>\n",
       "      <td>1093.25</td>\n",
       "      <td>1093.25</td>\n",
       "      <td>0.00</td>\n",
       "      <td>127.040008</td>\n",
       "      <td>0.666667</td>\n",
       "      <td>0.666667</td>\n",
       "      <td>0.000000</td>\n",
       "      <td>0.333333</td>\n",
       "      <td>2</td>\n",
       "      <td>23</td>\n",
       "      <td>1200.0</td>\n",
       "      <td>63.165404</td>\n",
       "      <td>88.288956</td>\n",
       "      <td>0.000000</td>\n",
       "      <td>6</td>\n",
       "    </tr>\n",
       "  </tbody>\n",
       "</table>\n",
       "<p>8950 rows × 18 columns</p>\n",
       "</div>"
      ],
      "text/plain": [
       "     CUST_ID      BALANCE  BALANCE_FREQUENCY  PURCHASES  ONEOFF_PURCHASES  \\\n",
       "0     C10001    40.900749           0.818182      95.40              0.00   \n",
       "1     C10002  3202.467416           0.909091       0.00              0.00   \n",
       "2     C10003  2495.148862           1.000000     773.17            773.17   \n",
       "3     C10004  1666.670542           0.636364    1499.00           1499.00   \n",
       "4     C10005   817.714335           1.000000      16.00             16.00   \n",
       "...      ...          ...                ...        ...               ...   \n",
       "8945  C19186    28.493517           1.000000     291.12              0.00   \n",
       "8946  C19187    19.183215           1.000000     300.00              0.00   \n",
       "8947  C19188    23.398673           0.833333     144.40              0.00   \n",
       "8948  C19189    13.457564           0.833333       0.00              0.00   \n",
       "8949  C19190   372.708075           0.666667    1093.25           1093.25   \n",
       "\n",
       "      INSTALLMENTS_PURCHASES  CASH_ADVANCE  PURCHASES_FREQUENCY  \\\n",
       "0                      95.40      0.000000             0.166667   \n",
       "1                       0.00   6442.945483             0.000000   \n",
       "2                       0.00      0.000000             1.000000   \n",
       "3                       0.00    205.788017             0.083333   \n",
       "4                       0.00      0.000000             0.083333   \n",
       "...                      ...           ...                  ...   \n",
       "8945                  291.12      0.000000             1.000000   \n",
       "8946                  300.00      0.000000             1.000000   \n",
       "8947                  144.40      0.000000             0.833333   \n",
       "8948                    0.00     36.558778             0.000000   \n",
       "8949                    0.00    127.040008             0.666667   \n",
       "\n",
       "      ONEOFF_PURCHASES_FREQUENCY  PURCHASES_INSTALLMENTS_FREQUENCY  \\\n",
       "0                       0.000000                          0.083333   \n",
       "1                       0.000000                          0.000000   \n",
       "2                       1.000000                          0.000000   \n",
       "3                       0.083333                          0.000000   \n",
       "4                       0.083333                          0.000000   \n",
       "...                          ...                               ...   \n",
       "8945                    0.000000                          0.833333   \n",
       "8946                    0.000000                          0.833333   \n",
       "8947                    0.000000                          0.666667   \n",
       "8948                    0.000000                          0.000000   \n",
       "8949                    0.666667                          0.000000   \n",
       "\n",
       "      CASH_ADVANCE_FREQUENCY  CASH_ADVANCE_TRX  PURCHASES_TRX  CREDIT_LIMIT  \\\n",
       "0                   0.000000                 0              2        1000.0   \n",
       "1                   0.250000                 4              0        7000.0   \n",
       "2                   0.000000                 0             12        7500.0   \n",
       "3                   0.083333                 1              1        7500.0   \n",
       "4                   0.000000                 0              1        1200.0   \n",
       "...                      ...               ...            ...           ...   \n",
       "8945                0.000000                 0              6        1000.0   \n",
       "8946                0.000000                 0              6        1000.0   \n",
       "8947                0.000000                 0              5        1000.0   \n",
       "8948                0.166667                 2              0         500.0   \n",
       "8949                0.333333                 2             23        1200.0   \n",
       "\n",
       "         PAYMENTS  MINIMUM_PAYMENTS  PRC_FULL_PAYMENT  TENURE  \n",
       "0      201.802084        139.509787          0.000000      12  \n",
       "1     4103.032597       1072.340217          0.222222      12  \n",
       "2      622.066742        627.284787          0.000000      12  \n",
       "3        0.000000               NaN          0.000000      12  \n",
       "4      678.334763        244.791237          0.000000      12  \n",
       "...           ...               ...               ...     ...  \n",
       "8945   325.594462         48.886365          0.500000       6  \n",
       "8946   275.861322               NaN          0.000000       6  \n",
       "8947    81.270775         82.418369          0.250000       6  \n",
       "8948    52.549959         55.755628          0.250000       6  \n",
       "8949    63.165404         88.288956          0.000000       6  \n",
       "\n",
       "[8950 rows x 18 columns]"
      ]
     },
     "execution_count": 1,
     "metadata": {},
     "output_type": "execute_result"
    }
   ],
   "source": [
    "import pandas as pd\n",
    "import statsmodels.api as sm\n",
    "file=pd.read_csv(\"C:/Users/USER/Downloads/Paper2/credit_card.csv\")\n",
    "df=pd.DataFrame(file)\n",
    "df"
   ]
  },
  {
   "cell_type": "code",
   "execution_count": 5,
   "id": "79b0e571",
   "metadata": {},
   "outputs": [
    {
     "data": {
      "text/html": [
       "<div>\n",
       "<style scoped>\n",
       "    .dataframe tbody tr th:only-of-type {\n",
       "        vertical-align: middle;\n",
       "    }\n",
       "\n",
       "    .dataframe tbody tr th {\n",
       "        vertical-align: top;\n",
       "    }\n",
       "\n",
       "    .dataframe thead th {\n",
       "        text-align: right;\n",
       "    }\n",
       "</style>\n",
       "<table border=\"1\" class=\"dataframe\">\n",
       "  <thead>\n",
       "    <tr style=\"text-align: right;\">\n",
       "      <th></th>\n",
       "      <th>BALANCE</th>\n",
       "      <th>BALANCE_FREQUENCY</th>\n",
       "      <th>PURCHASES</th>\n",
       "      <th>ONEOFF_PURCHASES</th>\n",
       "      <th>INSTALLMENTS_PURCHASES</th>\n",
       "      <th>CASH_ADVANCE</th>\n",
       "      <th>PURCHASES_FREQUENCY</th>\n",
       "      <th>ONEOFF_PURCHASES_FREQUENCY</th>\n",
       "      <th>PURCHASES_INSTALLMENTS_FREQUENCY</th>\n",
       "      <th>CASH_ADVANCE_FREQUENCY</th>\n",
       "      <th>CASH_ADVANCE_TRX</th>\n",
       "      <th>PURCHASES_TRX</th>\n",
       "      <th>CREDIT_LIMIT</th>\n",
       "      <th>PAYMENTS</th>\n",
       "      <th>MINIMUM_PAYMENTS</th>\n",
       "      <th>PRC_FULL_PAYMENT</th>\n",
       "      <th>TENURE</th>\n",
       "    </tr>\n",
       "  </thead>\n",
       "  <tbody>\n",
       "    <tr>\n",
       "      <th>count</th>\n",
       "      <td>8950.000000</td>\n",
       "      <td>8950.000000</td>\n",
       "      <td>8950.000000</td>\n",
       "      <td>8950.000000</td>\n",
       "      <td>8950.000000</td>\n",
       "      <td>8950.000000</td>\n",
       "      <td>8950.000000</td>\n",
       "      <td>8950.000000</td>\n",
       "      <td>8950.000000</td>\n",
       "      <td>8950.000000</td>\n",
       "      <td>8950.000000</td>\n",
       "      <td>8950.000000</td>\n",
       "      <td>8949.000000</td>\n",
       "      <td>8950.000000</td>\n",
       "      <td>8637.000000</td>\n",
       "      <td>8950.000000</td>\n",
       "      <td>8950.000000</td>\n",
       "    </tr>\n",
       "    <tr>\n",
       "      <th>mean</th>\n",
       "      <td>1564.474828</td>\n",
       "      <td>0.877271</td>\n",
       "      <td>1003.204834</td>\n",
       "      <td>592.437371</td>\n",
       "      <td>411.067645</td>\n",
       "      <td>978.871112</td>\n",
       "      <td>0.490351</td>\n",
       "      <td>0.202458</td>\n",
       "      <td>0.364437</td>\n",
       "      <td>0.135144</td>\n",
       "      <td>3.248827</td>\n",
       "      <td>14.709832</td>\n",
       "      <td>4494.449450</td>\n",
       "      <td>1733.143852</td>\n",
       "      <td>864.206542</td>\n",
       "      <td>0.153715</td>\n",
       "      <td>11.517318</td>\n",
       "    </tr>\n",
       "    <tr>\n",
       "      <th>std</th>\n",
       "      <td>2081.531879</td>\n",
       "      <td>0.236904</td>\n",
       "      <td>2136.634782</td>\n",
       "      <td>1659.887917</td>\n",
       "      <td>904.338115</td>\n",
       "      <td>2097.163877</td>\n",
       "      <td>0.401371</td>\n",
       "      <td>0.298336</td>\n",
       "      <td>0.397448</td>\n",
       "      <td>0.200121</td>\n",
       "      <td>6.824647</td>\n",
       "      <td>24.857649</td>\n",
       "      <td>3638.815725</td>\n",
       "      <td>2895.063757</td>\n",
       "      <td>2372.446607</td>\n",
       "      <td>0.292499</td>\n",
       "      <td>1.338331</td>\n",
       "    </tr>\n",
       "    <tr>\n",
       "      <th>min</th>\n",
       "      <td>0.000000</td>\n",
       "      <td>0.000000</td>\n",
       "      <td>0.000000</td>\n",
       "      <td>0.000000</td>\n",
       "      <td>0.000000</td>\n",
       "      <td>0.000000</td>\n",
       "      <td>0.000000</td>\n",
       "      <td>0.000000</td>\n",
       "      <td>0.000000</td>\n",
       "      <td>0.000000</td>\n",
       "      <td>0.000000</td>\n",
       "      <td>0.000000</td>\n",
       "      <td>50.000000</td>\n",
       "      <td>0.000000</td>\n",
       "      <td>0.019163</td>\n",
       "      <td>0.000000</td>\n",
       "      <td>6.000000</td>\n",
       "    </tr>\n",
       "    <tr>\n",
       "      <th>25%</th>\n",
       "      <td>128.281915</td>\n",
       "      <td>0.888889</td>\n",
       "      <td>39.635000</td>\n",
       "      <td>0.000000</td>\n",
       "      <td>0.000000</td>\n",
       "      <td>0.000000</td>\n",
       "      <td>0.083333</td>\n",
       "      <td>0.000000</td>\n",
       "      <td>0.000000</td>\n",
       "      <td>0.000000</td>\n",
       "      <td>0.000000</td>\n",
       "      <td>1.000000</td>\n",
       "      <td>1600.000000</td>\n",
       "      <td>383.276166</td>\n",
       "      <td>169.123707</td>\n",
       "      <td>0.000000</td>\n",
       "      <td>12.000000</td>\n",
       "    </tr>\n",
       "    <tr>\n",
       "      <th>50%</th>\n",
       "      <td>873.385231</td>\n",
       "      <td>1.000000</td>\n",
       "      <td>361.280000</td>\n",
       "      <td>38.000000</td>\n",
       "      <td>89.000000</td>\n",
       "      <td>0.000000</td>\n",
       "      <td>0.500000</td>\n",
       "      <td>0.083333</td>\n",
       "      <td>0.166667</td>\n",
       "      <td>0.000000</td>\n",
       "      <td>0.000000</td>\n",
       "      <td>7.000000</td>\n",
       "      <td>3000.000000</td>\n",
       "      <td>856.901546</td>\n",
       "      <td>312.343947</td>\n",
       "      <td>0.000000</td>\n",
       "      <td>12.000000</td>\n",
       "    </tr>\n",
       "    <tr>\n",
       "      <th>75%</th>\n",
       "      <td>2054.140036</td>\n",
       "      <td>1.000000</td>\n",
       "      <td>1110.130000</td>\n",
       "      <td>577.405000</td>\n",
       "      <td>468.637500</td>\n",
       "      <td>1113.821139</td>\n",
       "      <td>0.916667</td>\n",
       "      <td>0.300000</td>\n",
       "      <td>0.750000</td>\n",
       "      <td>0.222222</td>\n",
       "      <td>4.000000</td>\n",
       "      <td>17.000000</td>\n",
       "      <td>6500.000000</td>\n",
       "      <td>1901.134317</td>\n",
       "      <td>825.485459</td>\n",
       "      <td>0.142857</td>\n",
       "      <td>12.000000</td>\n",
       "    </tr>\n",
       "    <tr>\n",
       "      <th>max</th>\n",
       "      <td>19043.138560</td>\n",
       "      <td>1.000000</td>\n",
       "      <td>49039.570000</td>\n",
       "      <td>40761.250000</td>\n",
       "      <td>22500.000000</td>\n",
       "      <td>47137.211760</td>\n",
       "      <td>1.000000</td>\n",
       "      <td>1.000000</td>\n",
       "      <td>1.000000</td>\n",
       "      <td>1.500000</td>\n",
       "      <td>123.000000</td>\n",
       "      <td>358.000000</td>\n",
       "      <td>30000.000000</td>\n",
       "      <td>50721.483360</td>\n",
       "      <td>76406.207520</td>\n",
       "      <td>1.000000</td>\n",
       "      <td>12.000000</td>\n",
       "    </tr>\n",
       "  </tbody>\n",
       "</table>\n",
       "</div>"
      ],
      "text/plain": [
       "            BALANCE  BALANCE_FREQUENCY     PURCHASES  ONEOFF_PURCHASES  \\\n",
       "count   8950.000000        8950.000000   8950.000000       8950.000000   \n",
       "mean    1564.474828           0.877271   1003.204834        592.437371   \n",
       "std     2081.531879           0.236904   2136.634782       1659.887917   \n",
       "min        0.000000           0.000000      0.000000          0.000000   \n",
       "25%      128.281915           0.888889     39.635000          0.000000   \n",
       "50%      873.385231           1.000000    361.280000         38.000000   \n",
       "75%     2054.140036           1.000000   1110.130000        577.405000   \n",
       "max    19043.138560           1.000000  49039.570000      40761.250000   \n",
       "\n",
       "       INSTALLMENTS_PURCHASES  CASH_ADVANCE  PURCHASES_FREQUENCY  \\\n",
       "count             8950.000000   8950.000000          8950.000000   \n",
       "mean               411.067645    978.871112             0.490351   \n",
       "std                904.338115   2097.163877             0.401371   \n",
       "min                  0.000000      0.000000             0.000000   \n",
       "25%                  0.000000      0.000000             0.083333   \n",
       "50%                 89.000000      0.000000             0.500000   \n",
       "75%                468.637500   1113.821139             0.916667   \n",
       "max              22500.000000  47137.211760             1.000000   \n",
       "\n",
       "       ONEOFF_PURCHASES_FREQUENCY  PURCHASES_INSTALLMENTS_FREQUENCY  \\\n",
       "count                 8950.000000                       8950.000000   \n",
       "mean                     0.202458                          0.364437   \n",
       "std                      0.298336                          0.397448   \n",
       "min                      0.000000                          0.000000   \n",
       "25%                      0.000000                          0.000000   \n",
       "50%                      0.083333                          0.166667   \n",
       "75%                      0.300000                          0.750000   \n",
       "max                      1.000000                          1.000000   \n",
       "\n",
       "       CASH_ADVANCE_FREQUENCY  CASH_ADVANCE_TRX  PURCHASES_TRX  CREDIT_LIMIT  \\\n",
       "count             8950.000000       8950.000000    8950.000000   8949.000000   \n",
       "mean                 0.135144          3.248827      14.709832   4494.449450   \n",
       "std                  0.200121          6.824647      24.857649   3638.815725   \n",
       "min                  0.000000          0.000000       0.000000     50.000000   \n",
       "25%                  0.000000          0.000000       1.000000   1600.000000   \n",
       "50%                  0.000000          0.000000       7.000000   3000.000000   \n",
       "75%                  0.222222          4.000000      17.000000   6500.000000   \n",
       "max                  1.500000        123.000000     358.000000  30000.000000   \n",
       "\n",
       "           PAYMENTS  MINIMUM_PAYMENTS  PRC_FULL_PAYMENT       TENURE  \n",
       "count   8950.000000       8637.000000       8950.000000  8950.000000  \n",
       "mean    1733.143852        864.206542          0.153715    11.517318  \n",
       "std     2895.063757       2372.446607          0.292499     1.338331  \n",
       "min        0.000000          0.019163          0.000000     6.000000  \n",
       "25%      383.276166        169.123707          0.000000    12.000000  \n",
       "50%      856.901546        312.343947          0.000000    12.000000  \n",
       "75%     1901.134317        825.485459          0.142857    12.000000  \n",
       "max    50721.483360      76406.207520          1.000000    12.000000  "
      ]
     },
     "execution_count": 5,
     "metadata": {},
     "output_type": "execute_result"
    }
   ],
   "source": [
    "df.describe()"
   ]
  },
  {
   "cell_type": "code",
   "execution_count": 3,
   "id": "ee61c9bc",
   "metadata": {},
   "outputs": [
    {
     "data": {
      "text/plain": [
       "(8950, 18)"
      ]
     },
     "execution_count": 3,
     "metadata": {},
     "output_type": "execute_result"
    }
   ],
   "source": [
    "df.shape"
   ]
  },
  {
   "cell_type": "code",
   "execution_count": 4,
   "id": "d757150a",
   "metadata": {},
   "outputs": [
    {
     "data": {
      "text/plain": [
       "CUST_ID                               0\n",
       "BALANCE                               0\n",
       "BALANCE_FREQUENCY                     0\n",
       "PURCHASES                             0\n",
       "ONEOFF_PURCHASES                      0\n",
       "INSTALLMENTS_PURCHASES                0\n",
       "CASH_ADVANCE                          0\n",
       "PURCHASES_FREQUENCY                   0\n",
       "ONEOFF_PURCHASES_FREQUENCY            0\n",
       "PURCHASES_INSTALLMENTS_FREQUENCY      0\n",
       "CASH_ADVANCE_FREQUENCY                0\n",
       "CASH_ADVANCE_TRX                      0\n",
       "PURCHASES_TRX                         0\n",
       "CREDIT_LIMIT                          1\n",
       "PAYMENTS                              0\n",
       "MINIMUM_PAYMENTS                    313\n",
       "PRC_FULL_PAYMENT                      0\n",
       "TENURE                                0\n",
       "dtype: int64"
      ]
     },
     "execution_count": 4,
     "metadata": {},
     "output_type": "execute_result"
    }
   ],
   "source": [
    "df.isnull().sum()"
   ]
  },
  {
   "cell_type": "code",
   "execution_count": 6,
   "id": "94916b85",
   "metadata": {},
   "outputs": [
    {
     "data": {
      "text/plain": [
       "0       False\n",
       "1       False\n",
       "2       False\n",
       "3       False\n",
       "4       False\n",
       "        ...  \n",
       "8945    False\n",
       "8946    False\n",
       "8947    False\n",
       "8948    False\n",
       "8949    False\n",
       "Length: 8950, dtype: bool"
      ]
     },
     "execution_count": 6,
     "metadata": {},
     "output_type": "execute_result"
    }
   ],
   "source": [
    "df.duplicated()"
   ]
  },
  {
   "cell_type": "markdown",
   "id": "736c3f89",
   "metadata": {},
   "source": [
    "# Q1.What does the primary analysis of several categorical features reveal?"
   ]
  },
  {
   "cell_type": "code",
   "execution_count": 8,
   "id": "65f49325",
   "metadata": {},
   "outputs": [
    {
     "name": "stderr",
     "output_type": "stream",
     "text": [
      "Matplotlib is building the font cache; this may take a moment.\n"
     ]
    },
    {
     "data": {
      "image/png": "[encoded data removed]",
      "text/plain": [
       "<Figure size 864x864 with 20 Axes>"
      ]
     },
     "metadata": {
      "needs_background": "light"
     },
     "output_type": "display_data"
    }
   ],
   "source": [
    "import matplotlib.pyplot as plt\n",
    "plotting=df.hist(figsize=(12,12),color='red')"
   ]
  },
  {
   "cell_type": "code",
   "execution_count": 10,
   "id": "286da245",
   "metadata": {},
   "outputs": [
    {
     "data": {
      "text/plain": [
       "<AxesSubplot:xlabel='TENURE', ylabel='count'>"
      ]
     },
     "execution_count": 10,
     "metadata": {},
     "output_type": "execute_result"
    },
    {
     "data": {
      "image/png": "[encoded data removed]",
      "text/plain": [
       "<Figure size 432x288 with 1 Axes>"
      ]
     },
     "metadata": {
      "needs_background": "light"
     },
     "output_type": "display_data"
    }
   ],
   "source": [
    "import seaborn as sns\n",
    "sns.countplot(x='TENURE',data=df)"
   ]
  },
  {
   "cell_type": "code",
   "execution_count": 18,
   "id": "404c44fc",
   "metadata": {},
   "outputs": [
    {
     "data": {
      "text/plain": [
       "<BarContainer object of 8950 artists>"
      ]
     },
     "execution_count": 18,
     "metadata": {},
     "output_type": "execute_result"
    },
    {
     "data": {
      "image/png": "[encoded data removed]",
      "text/plain": [
       "<Figure size 432x288 with 1 Axes>"
      ]
     },
     "metadata": {
      "needs_background": "light"
     },
     "output_type": "display_data"
    }
   ],
   "source": [
    "plt.bar(df['TENURE'],height=df['PURCHASES_FREQUENCY'].values)"
   ]
  },
  {
   "cell_type": "markdown",
   "id": "f066c6fd",
   "metadata": {},
   "source": [
    "The above graph shows that People who have high Purchase frequency has Higher Tenure and they can have Credit card."
   ]
  },
  {
   "cell_type": "code",
   "execution_count": 14,
   "id": "215bb91f",
   "metadata": {},
   "outputs": [
    {
     "data": {
      "text/plain": [
       "<BarContainer object of 8950 artists>"
      ]
     },
     "execution_count": 14,
     "metadata": {},
     "output_type": "execute_result"
    },
    {
     "data": {
      "image/png": "[encoded data removed]",
      "text/plain": [
       "<Figure size 432x288 with 1 Axes>"
      ]
     },
     "metadata": {
      "needs_background": "light"
     },
     "output_type": "display_data"
    }
   ],
   "source": [
    "plt.bar(df['TENURE'],height=df['PRC_FULL_PAYMENT'].values)"
   ]
  },
  {
   "cell_type": "markdown",
   "id": "8e7552e8",
   "metadata": {},
   "source": [
    "The above graph shows that the people who have made full payments have higher tenure."
   ]
  },
  {
   "cell_type": "markdown",
   "id": "344cd863",
   "metadata": {},
   "source": [
    "# Q2.Perform the following Exploratory Data Analysis tasks:"
   ]
  },
  {
   "cell_type": "markdown",
   "id": "34c4e8b4",
   "metadata": {},
   "source": [
    "# a. Missing Value Analysis"
   ]
  },
  {
   "cell_type": "code",
   "execution_count": 21,
   "id": "d4e42d43",
   "metadata": {},
   "outputs": [
    {
     "data": {
      "text/plain": [
       "CUST_ID                               0\n",
       "BALANCE                               0\n",
       "BALANCE_FREQUENCY                     0\n",
       "PURCHASES                             0\n",
       "ONEOFF_PURCHASES                      0\n",
       "INSTALLMENTS_PURCHASES                0\n",
       "CASH_ADVANCE                          0\n",
       "PURCHASES_FREQUENCY                   0\n",
       "ONEOFF_PURCHASES_FREQUENCY            0\n",
       "PURCHASES_INSTALLMENTS_FREQUENCY      0\n",
       "CASH_ADVANCE_FREQUENCY                0\n",
       "CASH_ADVANCE_TRX                      0\n",
       "PURCHASES_TRX                         0\n",
       "CREDIT_LIMIT                          1\n",
       "PAYMENTS                              0\n",
       "MINIMUM_PAYMENTS                    313\n",
       "PRC_FULL_PAYMENT                      0\n",
       "TENURE                                0\n",
       "dtype: int64"
      ]
     },
     "execution_count": 21,
     "metadata": {},
     "output_type": "execute_result"
    }
   ],
   "source": [
    "#FIND MISSING VALUES\n",
    "\n",
    "df.isnull().sum()"
   ]
  },
  {
   "cell_type": "code",
   "execution_count": 25,
   "id": "c3dc9291",
   "metadata": {},
   "outputs": [],
   "source": [
    "df.MINIMUM_PAYMENTS.fillna(df.MINIMUM_PAYMENTS.mode()[0],inplace=True)\n",
    "df.CREDIT_LIMIT.fillna(df.CREDIT_LIMIT.mode()[0],inplace=True)"
   ]
  },
  {
   "cell_type": "code",
   "execution_count": 26,
   "id": "9e837dcd",
   "metadata": {},
   "outputs": [
    {
     "data": {
      "text/plain": [
       "CUST_ID                             0\n",
       "BALANCE                             0\n",
       "BALANCE_FREQUENCY                   0\n",
       "PURCHASES                           0\n",
       "ONEOFF_PURCHASES                    0\n",
       "INSTALLMENTS_PURCHASES              0\n",
       "CASH_ADVANCE                        0\n",
       "PURCHASES_FREQUENCY                 0\n",
       "ONEOFF_PURCHASES_FREQUENCY          0\n",
       "PURCHASES_INSTALLMENTS_FREQUENCY    0\n",
       "CASH_ADVANCE_FREQUENCY              0\n",
       "CASH_ADVANCE_TRX                    0\n",
       "PURCHASES_TRX                       0\n",
       "CREDIT_LIMIT                        0\n",
       "PAYMENTS                            0\n",
       "MINIMUM_PAYMENTS                    0\n",
       "PRC_FULL_PAYMENT                    0\n",
       "TENURE                              0\n",
       "dtype: int64"
      ]
     },
     "execution_count": 26,
     "metadata": {},
     "output_type": "execute_result"
    }
   ],
   "source": [
    "#MISSING VALUES\n",
    "\n",
    "df.isnull().sum()"
   ]
  },
  {
   "cell_type": "markdown",
   "id": "3a82cb71",
   "metadata": {},
   "source": [
    "# c. Deal with correlated variables"
   ]
  },
  {
   "cell_type": "code",
   "execution_count": 27,
   "id": "d98216e7",
   "metadata": {},
   "outputs": [
    {
     "data": {
      "text/html": [
       "<div>\n",
       "<style scoped>\n",
       "    .dataframe tbody tr th:only-of-type {\n",
       "        vertical-align: middle;\n",
       "    }\n",
       "\n",
       "    .dataframe tbody tr th {\n",
       "        vertical-align: top;\n",
       "    }\n",
       "\n",
       "    .dataframe thead th {\n",
       "        text-align: right;\n",
       "    }\n",
       "</style>\n",
       "<table border=\"1\" class=\"dataframe\">\n",
       "  <thead>\n",
       "    <tr style=\"text-align: right;\">\n",
       "      <th></th>\n",
       "      <th>BALANCE</th>\n",
       "      <th>BALANCE_FREQUENCY</th>\n",
       "      <th>PURCHASES</th>\n",
       "      <th>ONEOFF_PURCHASES</th>\n",
       "      <th>INSTALLMENTS_PURCHASES</th>\n",
       "      <th>CASH_ADVANCE</th>\n",
       "      <th>PURCHASES_FREQUENCY</th>\n",
       "      <th>ONEOFF_PURCHASES_FREQUENCY</th>\n",
       "      <th>PURCHASES_INSTALLMENTS_FREQUENCY</th>\n",
       "      <th>CASH_ADVANCE_FREQUENCY</th>\n",
       "      <th>CASH_ADVANCE_TRX</th>\n",
       "      <th>PURCHASES_TRX</th>\n",
       "      <th>CREDIT_LIMIT</th>\n",
       "      <th>PAYMENTS</th>\n",
       "      <th>MINIMUM_PAYMENTS</th>\n",
       "      <th>PRC_FULL_PAYMENT</th>\n",
       "      <th>TENURE</th>\n",
       "    </tr>\n",
       "  </thead>\n",
       "  <tbody>\n",
       "    <tr>\n",
       "      <th>BALANCE</th>\n",
       "      <td>1.000000</td>\n",
       "      <td>0.322412</td>\n",
       "      <td>0.181261</td>\n",
       "      <td>0.164350</td>\n",
       "      <td>0.126469</td>\n",
       "      <td>0.496692</td>\n",
       "      <td>-0.077944</td>\n",
       "      <td>0.073166</td>\n",
       "      <td>-0.063186</td>\n",
       "      <td>0.449218</td>\n",
       "      <td>0.385152</td>\n",
       "      <td>0.154338</td>\n",
       "      <td>0.531296</td>\n",
       "      <td>0.322802</td>\n",
       "      <td>0.397997</td>\n",
       "      <td>-0.318959</td>\n",
       "      <td>0.072692</td>\n",
       "    </tr>\n",
       "    <tr>\n",
       "      <th>BALANCE_FREQUENCY</th>\n",
       "      <td>0.322412</td>\n",
       "      <td>1.000000</td>\n",
       "      <td>0.133674</td>\n",
       "      <td>0.104323</td>\n",
       "      <td>0.124292</td>\n",
       "      <td>0.099388</td>\n",
       "      <td>0.229715</td>\n",
       "      <td>0.202415</td>\n",
       "      <td>0.176079</td>\n",
       "      <td>0.191873</td>\n",
       "      <td>0.141555</td>\n",
       "      <td>0.189626</td>\n",
       "      <td>0.095931</td>\n",
       "      <td>0.065008</td>\n",
       "      <td>0.131576</td>\n",
       "      <td>-0.095082</td>\n",
       "      <td>0.119776</td>\n",
       "    </tr>\n",
       "    <tr>\n",
       "      <th>PURCHASES</th>\n",
       "      <td>0.181261</td>\n",
       "      <td>0.133674</td>\n",
       "      <td>1.000000</td>\n",
       "      <td>0.916845</td>\n",
       "      <td>0.679896</td>\n",
       "      <td>-0.051474</td>\n",
       "      <td>0.393017</td>\n",
       "      <td>0.498430</td>\n",
       "      <td>0.315567</td>\n",
       "      <td>-0.120143</td>\n",
       "      <td>-0.067175</td>\n",
       "      <td>0.689561</td>\n",
       "      <td>0.356977</td>\n",
       "      <td>0.603264</td>\n",
       "      <td>0.095840</td>\n",
       "      <td>0.180379</td>\n",
       "      <td>0.086288</td>\n",
       "    </tr>\n",
       "    <tr>\n",
       "      <th>ONEOFF_PURCHASES</th>\n",
       "      <td>0.164350</td>\n",
       "      <td>0.104323</td>\n",
       "      <td>0.916845</td>\n",
       "      <td>1.000000</td>\n",
       "      <td>0.330622</td>\n",
       "      <td>-0.031326</td>\n",
       "      <td>0.264937</td>\n",
       "      <td>0.524891</td>\n",
       "      <td>0.127729</td>\n",
       "      <td>-0.082628</td>\n",
       "      <td>-0.046212</td>\n",
       "      <td>0.545523</td>\n",
       "      <td>0.319735</td>\n",
       "      <td>0.567292</td>\n",
       "      <td>0.050294</td>\n",
       "      <td>0.132763</td>\n",
       "      <td>0.064150</td>\n",
       "    </tr>\n",
       "    <tr>\n",
       "      <th>INSTALLMENTS_PURCHASES</th>\n",
       "      <td>0.126469</td>\n",
       "      <td>0.124292</td>\n",
       "      <td>0.679896</td>\n",
       "      <td>0.330622</td>\n",
       "      <td>1.000000</td>\n",
       "      <td>-0.064244</td>\n",
       "      <td>0.442418</td>\n",
       "      <td>0.214042</td>\n",
       "      <td>0.511351</td>\n",
       "      <td>-0.132318</td>\n",
       "      <td>-0.073999</td>\n",
       "      <td>0.628108</td>\n",
       "      <td>0.256515</td>\n",
       "      <td>0.384084</td>\n",
       "      <td>0.134071</td>\n",
       "      <td>0.182569</td>\n",
       "      <td>0.086143</td>\n",
       "    </tr>\n",
       "    <tr>\n",
       "      <th>CASH_ADVANCE</th>\n",
       "      <td>0.496692</td>\n",
       "      <td>0.099388</td>\n",
       "      <td>-0.051474</td>\n",
       "      <td>-0.031326</td>\n",
       "      <td>-0.064244</td>\n",
       "      <td>1.000000</td>\n",
       "      <td>-0.215507</td>\n",
       "      <td>-0.086754</td>\n",
       "      <td>-0.177070</td>\n",
       "      <td>0.628522</td>\n",
       "      <td>0.656498</td>\n",
       "      <td>-0.075850</td>\n",
       "      <td>0.303997</td>\n",
       "      <td>0.453238</td>\n",
       "      <td>0.140780</td>\n",
       "      <td>-0.152935</td>\n",
       "      <td>-0.068312</td>\n",
       "    </tr>\n",
       "    <tr>\n",
       "      <th>PURCHASES_FREQUENCY</th>\n",
       "      <td>-0.077944</td>\n",
       "      <td>0.229715</td>\n",
       "      <td>0.393017</td>\n",
       "      <td>0.264937</td>\n",
       "      <td>0.442418</td>\n",
       "      <td>-0.215507</td>\n",
       "      <td>1.000000</td>\n",
       "      <td>0.501343</td>\n",
       "      <td>0.862934</td>\n",
       "      <td>-0.308478</td>\n",
       "      <td>-0.203478</td>\n",
       "      <td>0.568430</td>\n",
       "      <td>0.119833</td>\n",
       "      <td>0.103464</td>\n",
       "      <td>0.006228</td>\n",
       "      <td>0.305802</td>\n",
       "      <td>0.061506</td>\n",
       "    </tr>\n",
       "    <tr>\n",
       "      <th>ONEOFF_PURCHASES_FREQUENCY</th>\n",
       "      <td>0.073166</td>\n",
       "      <td>0.202415</td>\n",
       "      <td>0.498430</td>\n",
       "      <td>0.524891</td>\n",
       "      <td>0.214042</td>\n",
       "      <td>-0.086754</td>\n",
       "      <td>0.501343</td>\n",
       "      <td>1.000000</td>\n",
       "      <td>0.142329</td>\n",
       "      <td>-0.111716</td>\n",
       "      <td>-0.069088</td>\n",
       "      <td>0.544869</td>\n",
       "      <td>0.295059</td>\n",
       "      <td>0.243537</td>\n",
       "      <td>-0.027248</td>\n",
       "      <td>0.157531</td>\n",
       "      <td>0.082466</td>\n",
       "    </tr>\n",
       "    <tr>\n",
       "      <th>PURCHASES_INSTALLMENTS_FREQUENCY</th>\n",
       "      <td>-0.063186</td>\n",
       "      <td>0.176079</td>\n",
       "      <td>0.315567</td>\n",
       "      <td>0.127729</td>\n",
       "      <td>0.511351</td>\n",
       "      <td>-0.177070</td>\n",
       "      <td>0.862934</td>\n",
       "      <td>0.142329</td>\n",
       "      <td>1.000000</td>\n",
       "      <td>-0.262958</td>\n",
       "      <td>-0.169207</td>\n",
       "      <td>0.529975</td>\n",
       "      <td>0.060794</td>\n",
       "      <td>0.085551</td>\n",
       "      <td>0.032113</td>\n",
       "      <td>0.250087</td>\n",
       "      <td>0.073275</td>\n",
       "    </tr>\n",
       "    <tr>\n",
       "      <th>CASH_ADVANCE_FREQUENCY</th>\n",
       "      <td>0.449218</td>\n",
       "      <td>0.191873</td>\n",
       "      <td>-0.120143</td>\n",
       "      <td>-0.082628</td>\n",
       "      <td>-0.132318</td>\n",
       "      <td>0.628522</td>\n",
       "      <td>-0.308478</td>\n",
       "      <td>-0.111716</td>\n",
       "      <td>-0.262958</td>\n",
       "      <td>1.000000</td>\n",
       "      <td>0.799561</td>\n",
       "      <td>-0.131168</td>\n",
       "      <td>0.132608</td>\n",
       "      <td>0.183192</td>\n",
       "      <td>0.100678</td>\n",
       "      <td>-0.249773</td>\n",
       "      <td>-0.133372</td>\n",
       "    </tr>\n",
       "    <tr>\n",
       "      <th>CASH_ADVANCE_TRX</th>\n",
       "      <td>0.385152</td>\n",
       "      <td>0.141555</td>\n",
       "      <td>-0.067175</td>\n",
       "      <td>-0.046212</td>\n",
       "      <td>-0.073999</td>\n",
       "      <td>0.656498</td>\n",
       "      <td>-0.203478</td>\n",
       "      <td>-0.069088</td>\n",
       "      <td>-0.169207</td>\n",
       "      <td>0.799561</td>\n",
       "      <td>1.000000</td>\n",
       "      <td>-0.066157</td>\n",
       "      <td>0.149713</td>\n",
       "      <td>0.255278</td>\n",
       "      <td>0.111297</td>\n",
       "      <td>-0.169784</td>\n",
       "      <td>-0.043421</td>\n",
       "    </tr>\n",
       "    <tr>\n",
       "      <th>PURCHASES_TRX</th>\n",
       "      <td>0.154338</td>\n",
       "      <td>0.189626</td>\n",
       "      <td>0.689561</td>\n",
       "      <td>0.545523</td>\n",
       "      <td>0.628108</td>\n",
       "      <td>-0.075850</td>\n",
       "      <td>0.568430</td>\n",
       "      <td>0.544869</td>\n",
       "      <td>0.529975</td>\n",
       "      <td>-0.131168</td>\n",
       "      <td>-0.066157</td>\n",
       "      <td>1.000000</td>\n",
       "      <td>0.272902</td>\n",
       "      <td>0.370832</td>\n",
       "      <td>0.098787</td>\n",
       "      <td>0.162066</td>\n",
       "      <td>0.121874</td>\n",
       "    </tr>\n",
       "    <tr>\n",
       "      <th>CREDIT_LIMIT</th>\n",
       "      <td>0.531296</td>\n",
       "      <td>0.095931</td>\n",
       "      <td>0.356977</td>\n",
       "      <td>0.319735</td>\n",
       "      <td>0.256515</td>\n",
       "      <td>0.303997</td>\n",
       "      <td>0.119833</td>\n",
       "      <td>0.295059</td>\n",
       "      <td>0.060794</td>\n",
       "      <td>0.132608</td>\n",
       "      <td>0.149713</td>\n",
       "      <td>0.272902</td>\n",
       "      <td>1.000000</td>\n",
       "      <td>0.421876</td>\n",
       "      <td>0.126800</td>\n",
       "      <td>0.055695</td>\n",
       "      <td>0.139222</td>\n",
       "    </tr>\n",
       "    <tr>\n",
       "      <th>PAYMENTS</th>\n",
       "      <td>0.322802</td>\n",
       "      <td>0.065008</td>\n",
       "      <td>0.603264</td>\n",
       "      <td>0.567292</td>\n",
       "      <td>0.384084</td>\n",
       "      <td>0.453238</td>\n",
       "      <td>0.103464</td>\n",
       "      <td>0.243537</td>\n",
       "      <td>0.085551</td>\n",
       "      <td>0.183192</td>\n",
       "      <td>0.255278</td>\n",
       "      <td>0.370832</td>\n",
       "      <td>0.421876</td>\n",
       "      <td>1.000000</td>\n",
       "      <td>0.129049</td>\n",
       "      <td>0.112138</td>\n",
       "      <td>0.106136</td>\n",
       "    </tr>\n",
       "    <tr>\n",
       "      <th>MINIMUM_PAYMENTS</th>\n",
       "      <td>0.397997</td>\n",
       "      <td>0.131576</td>\n",
       "      <td>0.095840</td>\n",
       "      <td>0.050294</td>\n",
       "      <td>0.134071</td>\n",
       "      <td>0.140780</td>\n",
       "      <td>0.006228</td>\n",
       "      <td>-0.027248</td>\n",
       "      <td>0.032113</td>\n",
       "      <td>0.100678</td>\n",
       "      <td>0.111297</td>\n",
       "      <td>0.098787</td>\n",
       "      <td>0.126800</td>\n",
       "      <td>0.129049</td>\n",
       "      <td>1.000000</td>\n",
       "      <td>-0.135086</td>\n",
       "      <td>0.060070</td>\n",
       "    </tr>\n",
       "    <tr>\n",
       "      <th>PRC_FULL_PAYMENT</th>\n",
       "      <td>-0.318959</td>\n",
       "      <td>-0.095082</td>\n",
       "      <td>0.180379</td>\n",
       "      <td>0.132763</td>\n",
       "      <td>0.182569</td>\n",
       "      <td>-0.152935</td>\n",
       "      <td>0.305802</td>\n",
       "      <td>0.157531</td>\n",
       "      <td>0.250087</td>\n",
       "      <td>-0.249773</td>\n",
       "      <td>-0.169784</td>\n",
       "      <td>0.162066</td>\n",
       "      <td>0.055695</td>\n",
       "      <td>0.112138</td>\n",
       "      <td>-0.135086</td>\n",
       "      <td>1.000000</td>\n",
       "      <td>-0.016486</td>\n",
       "    </tr>\n",
       "    <tr>\n",
       "      <th>TENURE</th>\n",
       "      <td>0.072692</td>\n",
       "      <td>0.119776</td>\n",
       "      <td>0.086288</td>\n",
       "      <td>0.064150</td>\n",
       "      <td>0.086143</td>\n",
       "      <td>-0.068312</td>\n",
       "      <td>0.061506</td>\n",
       "      <td>0.082466</td>\n",
       "      <td>0.073275</td>\n",
       "      <td>-0.133372</td>\n",
       "      <td>-0.043421</td>\n",
       "      <td>0.121874</td>\n",
       "      <td>0.139222</td>\n",
       "      <td>0.106136</td>\n",
       "      <td>0.060070</td>\n",
       "      <td>-0.016486</td>\n",
       "      <td>1.000000</td>\n",
       "    </tr>\n",
       "  </tbody>\n",
       "</table>\n",
       "</div>"
      ],
      "text/plain": [
       "                                   BALANCE  BALANCE_FREQUENCY  PURCHASES  \\\n",
       "BALANCE                           1.000000           0.322412   0.181261   \n",
       "BALANCE_FREQUENCY                 0.322412           1.000000   0.133674   \n",
       "PURCHASES                         0.181261           0.133674   1.000000   \n",
       "ONEOFF_PURCHASES                  0.164350           0.104323   0.916845   \n",
       "INSTALLMENTS_PURCHASES            0.126469           0.124292   0.679896   \n",
       "CASH_ADVANCE                      0.496692           0.099388  -0.051474   \n",
       "PURCHASES_FREQUENCY              -0.077944           0.229715   0.393017   \n",
       "ONEOFF_PURCHASES_FREQUENCY        0.073166           0.202415   0.498430   \n",
       "PURCHASES_INSTALLMENTS_FREQUENCY -0.063186           0.176079   0.315567   \n",
       "CASH_ADVANCE_FREQUENCY            0.449218           0.191873  -0.120143   \n",
       "CASH_ADVANCE_TRX                  0.385152           0.141555  -0.067175   \n",
       "PURCHASES_TRX                     0.154338           0.189626   0.689561   \n",
       "CREDIT_LIMIT                      0.531296           0.095931   0.356977   \n",
       "PAYMENTS                          0.322802           0.065008   0.603264   \n",
       "MINIMUM_PAYMENTS                  0.397997           0.131576   0.095840   \n",
       "PRC_FULL_PAYMENT                 -0.318959          -0.095082   0.180379   \n",
       "TENURE                            0.072692           0.119776   0.086288   \n",
       "\n",
       "                                  ONEOFF_PURCHASES  INSTALLMENTS_PURCHASES  \\\n",
       "BALANCE                                   0.164350                0.126469   \n",
       "BALANCE_FREQUENCY                         0.104323                0.124292   \n",
       "PURCHASES                                 0.916845                0.679896   \n",
       "ONEOFF_PURCHASES                          1.000000                0.330622   \n",
       "INSTALLMENTS_PURCHASES                    0.330622                1.000000   \n",
       "CASH_ADVANCE                             -0.031326               -0.064244   \n",
       "PURCHASES_FREQUENCY                       0.264937                0.442418   \n",
       "ONEOFF_PURCHASES_FREQUENCY                0.524891                0.214042   \n",
       "PURCHASES_INSTALLMENTS_FREQUENCY          0.127729                0.511351   \n",
       "CASH_ADVANCE_FREQUENCY                   -0.082628               -0.132318   \n",
       "CASH_ADVANCE_TRX                         -0.046212               -0.073999   \n",
       "PURCHASES_TRX                             0.545523                0.628108   \n",
       "CREDIT_LIMIT                              0.319735                0.256515   \n",
       "PAYMENTS                                  0.567292                0.384084   \n",
       "MINIMUM_PAYMENTS                          0.050294                0.134071   \n",
       "PRC_FULL_PAYMENT                          0.132763                0.182569   \n",
       "TENURE                                    0.064150                0.086143   \n",
       "\n",
       "                                  CASH_ADVANCE  PURCHASES_FREQUENCY  \\\n",
       "BALANCE                               0.496692            -0.077944   \n",
       "BALANCE_FREQUENCY                     0.099388             0.229715   \n",
       "PURCHASES                            -0.051474             0.393017   \n",
       "ONEOFF_PURCHASES                     -0.031326             0.264937   \n",
       "INSTALLMENTS_PURCHASES               -0.064244             0.442418   \n",
       "CASH_ADVANCE                          1.000000            -0.215507   \n",
       "PURCHASES_FREQUENCY                  -0.215507             1.000000   \n",
       "ONEOFF_PURCHASES_FREQUENCY           -0.086754             0.501343   \n",
       "PURCHASES_INSTALLMENTS_FREQUENCY     -0.177070             0.862934   \n",
       "CASH_ADVANCE_FREQUENCY                0.628522            -0.308478   \n",
       "CASH_ADVANCE_TRX                      0.656498            -0.203478   \n",
       "PURCHASES_TRX                        -0.075850             0.568430   \n",
       "CREDIT_LIMIT                          0.303997             0.119833   \n",
       "PAYMENTS                              0.453238             0.103464   \n",
       "MINIMUM_PAYMENTS                      0.140780             0.006228   \n",
       "PRC_FULL_PAYMENT                     -0.152935             0.305802   \n",
       "TENURE                               -0.068312             0.061506   \n",
       "\n",
       "                                  ONEOFF_PURCHASES_FREQUENCY  \\\n",
       "BALANCE                                             0.073166   \n",
       "BALANCE_FREQUENCY                                   0.202415   \n",
       "PURCHASES                                           0.498430   \n",
       "ONEOFF_PURCHASES                                    0.524891   \n",
       "INSTALLMENTS_PURCHASES                              0.214042   \n",
       "CASH_ADVANCE                                       -0.086754   \n",
       "PURCHASES_FREQUENCY                                 0.501343   \n",
       "ONEOFF_PURCHASES_FREQUENCY                          1.000000   \n",
       "PURCHASES_INSTALLMENTS_FREQUENCY                    0.142329   \n",
       "CASH_ADVANCE_FREQUENCY                             -0.111716   \n",
       "CASH_ADVANCE_TRX                                   -0.069088   \n",
       "PURCHASES_TRX                                       0.544869   \n",
       "CREDIT_LIMIT                                        0.295059   \n",
       "PAYMENTS                                            0.243537   \n",
       "MINIMUM_PAYMENTS                                   -0.027248   \n",
       "PRC_FULL_PAYMENT                                    0.157531   \n",
       "TENURE                                              0.082466   \n",
       "\n",
       "                                  PURCHASES_INSTALLMENTS_FREQUENCY  \\\n",
       "BALANCE                                                  -0.063186   \n",
       "BALANCE_FREQUENCY                                         0.176079   \n",
       "PURCHASES                                                 0.315567   \n",
       "ONEOFF_PURCHASES                                          0.127729   \n",
       "INSTALLMENTS_PURCHASES                                    0.511351   \n",
       "CASH_ADVANCE                                             -0.177070   \n",
       "PURCHASES_FREQUENCY                                       0.862934   \n",
       "ONEOFF_PURCHASES_FREQUENCY                                0.142329   \n",
       "PURCHASES_INSTALLMENTS_FREQUENCY                          1.000000   \n",
       "CASH_ADVANCE_FREQUENCY                                   -0.262958   \n",
       "CASH_ADVANCE_TRX                                         -0.169207   \n",
       "PURCHASES_TRX                                             0.529975   \n",
       "CREDIT_LIMIT                                              0.060794   \n",
       "PAYMENTS                                                  0.085551   \n",
       "MINIMUM_PAYMENTS                                          0.032113   \n",
       "PRC_FULL_PAYMENT                                          0.250087   \n",
       "TENURE                                                    0.073275   \n",
       "\n",
       "                                  CASH_ADVANCE_FREQUENCY  CASH_ADVANCE_TRX  \\\n",
       "BALANCE                                         0.449218          0.385152   \n",
       "BALANCE_FREQUENCY                               0.191873          0.141555   \n",
       "PURCHASES                                      -0.120143         -0.067175   \n",
       "ONEOFF_PURCHASES                               -0.082628         -0.046212   \n",
       "INSTALLMENTS_PURCHASES                         -0.132318         -0.073999   \n",
       "CASH_ADVANCE                                    0.628522          0.656498   \n",
       "PURCHASES_FREQUENCY                            -0.308478         -0.203478   \n",
       "ONEOFF_PURCHASES_FREQUENCY                     -0.111716         -0.069088   \n",
       "PURCHASES_INSTALLMENTS_FREQUENCY               -0.262958         -0.169207   \n",
       "CASH_ADVANCE_FREQUENCY                          1.000000          0.799561   \n",
       "CASH_ADVANCE_TRX                                0.799561          1.000000   \n",
       "PURCHASES_TRX                                  -0.131168         -0.066157   \n",
       "CREDIT_LIMIT                                    0.132608          0.149713   \n",
       "PAYMENTS                                        0.183192          0.255278   \n",
       "MINIMUM_PAYMENTS                                0.100678          0.111297   \n",
       "PRC_FULL_PAYMENT                               -0.249773         -0.169784   \n",
       "TENURE                                         -0.133372         -0.043421   \n",
       "\n",
       "                                  PURCHASES_TRX  CREDIT_LIMIT  PAYMENTS  \\\n",
       "BALANCE                                0.154338      0.531296  0.322802   \n",
       "BALANCE_FREQUENCY                      0.189626      0.095931  0.065008   \n",
       "PURCHASES                              0.689561      0.356977  0.603264   \n",
       "ONEOFF_PURCHASES                       0.545523      0.319735  0.567292   \n",
       "INSTALLMENTS_PURCHASES                 0.628108      0.256515  0.384084   \n",
       "CASH_ADVANCE                          -0.075850      0.303997  0.453238   \n",
       "PURCHASES_FREQUENCY                    0.568430      0.119833  0.103464   \n",
       "ONEOFF_PURCHASES_FREQUENCY             0.544869      0.295059  0.243537   \n",
       "PURCHASES_INSTALLMENTS_FREQUENCY       0.529975      0.060794  0.085551   \n",
       "CASH_ADVANCE_FREQUENCY                -0.131168      0.132608  0.183192   \n",
       "CASH_ADVANCE_TRX                      -0.066157      0.149713  0.255278   \n",
       "PURCHASES_TRX                          1.000000      0.272902  0.370832   \n",
       "CREDIT_LIMIT                           0.272902      1.000000  0.421876   \n",
       "PAYMENTS                               0.370832      0.421876  1.000000   \n",
       "MINIMUM_PAYMENTS                       0.098787      0.126800  0.129049   \n",
       "PRC_FULL_PAYMENT                       0.162066      0.055695  0.112138   \n",
       "TENURE                                 0.121874      0.139222  0.106136   \n",
       "\n",
       "                                  MINIMUM_PAYMENTS  PRC_FULL_PAYMENT    TENURE  \n",
       "BALANCE                                   0.397997         -0.318959  0.072692  \n",
       "BALANCE_FREQUENCY                         0.131576         -0.095082  0.119776  \n",
       "PURCHASES                                 0.095840          0.180379  0.086288  \n",
       "ONEOFF_PURCHASES                          0.050294          0.132763  0.064150  \n",
       "INSTALLMENTS_PURCHASES                    0.134071          0.182569  0.086143  \n",
       "CASH_ADVANCE                              0.140780         -0.152935 -0.068312  \n",
       "PURCHASES_FREQUENCY                       0.006228          0.305802  0.061506  \n",
       "ONEOFF_PURCHASES_FREQUENCY               -0.027248          0.157531  0.082466  \n",
       "PURCHASES_INSTALLMENTS_FREQUENCY          0.032113          0.250087  0.073275  \n",
       "CASH_ADVANCE_FREQUENCY                    0.100678         -0.249773 -0.133372  \n",
       "CASH_ADVANCE_TRX                          0.111297         -0.169784 -0.043421  \n",
       "PURCHASES_TRX                             0.098787          0.162066  0.121874  \n",
       "CREDIT_LIMIT                              0.126800          0.055695  0.139222  \n",
       "PAYMENTS                                  0.129049          0.112138  0.106136  \n",
       "MINIMUM_PAYMENTS                          1.000000         -0.135086  0.060070  \n",
       "PRC_FULL_PAYMENT                         -0.135086          1.000000 -0.016486  \n",
       "TENURE                                    0.060070         -0.016486  1.000000  "
      ]
     },
     "execution_count": 27,
     "metadata": {},
     "output_type": "execute_result"
    }
   ],
   "source": [
    "df.corr()"
   ]
  },
  {
   "cell_type": "code",
   "execution_count": 28,
   "id": "897d5056",
   "metadata": {},
   "outputs": [],
   "source": [
    "corr = df.corr()"
   ]
  },
  {
   "cell_type": "code",
   "execution_count": 29,
   "id": "683cae3c",
   "metadata": {},
   "outputs": [
    {
     "data": {
      "text/plain": [
       "<AxesSubplot:>"
      ]
     },
     "execution_count": 29,
     "metadata": {},
     "output_type": "execute_result"
    },
    {
     "data": {
      "image/png": "[encoded data removed]",
      "text/plain": [
       "<Figure size 864x504 with 2 Axes>"
      ]
     },
     "metadata": {
      "needs_background": "light"
     },
     "output_type": "display_data"
    }
   ],
   "source": [
    "import matplotlib.pyplot as plt\n",
    "import seaborn as sns\n",
    "\n",
    "plt.figure(figsize=(12,7))\n",
    "\n",
    "sns.heatmap(corr,annot=True,cmap='crest')"
   ]
  },
  {
   "cell_type": "markdown",
   "id": "3772370e",
   "metadata": {},
   "source": [
    "# Q3.Perform dimensionality reduction using PCA such that the 95% of the variance is explained"
   ]
  },
  {
   "cell_type": "code",
   "execution_count": 49,
   "id": "325ceeea",
   "metadata": {},
   "outputs": [],
   "source": [
    "import warnings\n",
    "warnings.filterwarnings('ignore')"
   ]
  },
  {
   "cell_type": "code",
   "execution_count": 50,
   "id": "4dcfd80a",
   "metadata": {},
   "outputs": [],
   "source": [
    "for i in df:\n",
    "    if df[i].dtype==object:\n",
    "        from sklearn.preprocessing import LabelEncoder\n",
    "        label=LabelEncoder()\n",
    "        df[i]=label.fit_transform(df[i])"
   ]
  },
  {
   "cell_type": "code",
   "execution_count": 51,
   "id": "63de3e37",
   "metadata": {},
   "outputs": [],
   "source": [
    "x=df.drop(['TENURE'],axis=1)\n",
    "y=df[\"TENURE\"]"
   ]
  },
  {
   "cell_type": "code",
   "execution_count": 52,
   "id": "dd0bb238",
   "metadata": {},
   "outputs": [],
   "source": [
    "from sklearn.model_selection import train_test_split\n",
    "x_train,x_test,y_train,y_test=train_test_split(x,y,test_size=0.60,random_state=47)"
   ]
  },
  {
   "cell_type": "code",
   "execution_count": 53,
   "id": "fc6f205d",
   "metadata": {},
   "outputs": [],
   "source": [
    "from sklearn.linear_model import LogisticRegression\n",
    "model=LogisticRegression()"
   ]
  },
  {
   "cell_type": "code",
   "execution_count": 54,
   "id": "0f8bcd0d",
   "metadata": {},
   "outputs": [
    {
     "data": {
      "text/plain": [
       "array([12, 12, 12, ..., 12, 12, 12], dtype=int64)"
      ]
     },
     "execution_count": 54,
     "metadata": {},
     "output_type": "execute_result"
    }
   ],
   "source": [
    "model.fit(x_train,y_train)\n",
    "predicted_y=model.predict(x_test)\n",
    "predicted_y"
   ]
  },
  {
   "cell_type": "code",
   "execution_count": 55,
   "id": "3329584c",
   "metadata": {},
   "outputs": [
    {
     "data": {
      "text/plain": [
       "array([[1.74791513e-04, 1.37343366e-04, 8.74046094e-04, ...,\n",
       "        2.52330466e-03, 9.26333478e-03, 9.86825263e-01],\n",
       "       [6.40379957e-06, 3.54408508e-06, 3.51263854e-05, ...,\n",
       "        1.17608282e-03, 1.96624692e-03, 9.96805444e-01],\n",
       "       [1.43453334e-04, 5.09052311e-05, 1.80715956e-04, ...,\n",
       "        1.65254529e-02, 1.05817570e-02, 9.72398739e-01],\n",
       "       ...,\n",
       "       [2.10003909e-04, 5.88356644e-05, 6.99182026e-04, ...,\n",
       "        1.67026664e-03, 1.88491976e-02, 9.77686695e-01],\n",
       "       [8.47326598e-03, 5.63771084e-03, 1.15553750e-02, ...,\n",
       "        7.68626486e-02, 9.20880298e-02, 7.96846717e-01],\n",
       "       [5.35347396e-02, 3.87967510e-02, 3.60454180e-02, ...,\n",
       "        3.86615132e-02, 2.77788098e-02, 7.74462946e-01]])"
      ]
     },
     "execution_count": 55,
     "metadata": {},
     "output_type": "execute_result"
    }
   ],
   "source": [
    "y_pred=model.predict(x_test)\n",
    "model.predict_proba(x_test)"
   ]
  },
  {
   "cell_type": "code",
   "execution_count": 56,
   "id": "82432d58",
   "metadata": {},
   "outputs": [
    {
     "data": {
      "text/plain": [
       "0.8448789571694599"
      ]
     },
     "execution_count": 56,
     "metadata": {},
     "output_type": "execute_result"
    }
   ],
   "source": [
    "from sklearn.metrics import accuracy_score\n",
    "accuracy_score(y_test,y_pred)"
   ]
  },
  {
   "cell_type": "code",
   "execution_count": 57,
   "id": "86c2b8f8",
   "metadata": {},
   "outputs": [
    {
     "data": {
      "text/plain": [
       "array([[   1,    1,    0,    0,    0,    0,  110],\n",
       "       [   1,    0,    0,    0,    0,    0,  111],\n",
       "       [   2,    0,    0,    0,    0,    0,  121],\n",
       "       [   0,    0,    0,    0,    0,    0,  111],\n",
       "       [   4,    0,    0,    0,    0,    0,  126],\n",
       "       [   1,    0,    0,    0,    0,    1,  226],\n",
       "       [  13,    2,    0,    1,    2,    1, 4535]], dtype=int64)"
      ]
     },
     "execution_count": 57,
     "metadata": {},
     "output_type": "execute_result"
    }
   ],
   "source": [
    "from sklearn.metrics import confusion_matrix\n",
    "confusion_matrix(y_test,y_pred)"
   ]
  },
  {
   "cell_type": "code",
   "execution_count": 58,
   "id": "e75308b2",
   "metadata": {},
   "outputs": [
    {
     "data": {
      "text/plain": [
       "'              precision    recall  f1-score   support\\n\\n           6       0.05      0.01      0.01       112\\n           7       0.00      0.00      0.00       112\\n           8       0.00      0.00      0.00       123\\n           9       0.00      0.00      0.00       111\\n          10       0.00      0.00      0.00       130\\n          11       0.50      0.00      0.01       228\\n          12       0.85      1.00      0.92      4554\\n\\n    accuracy                           0.84      5370\\n   macro avg       0.20      0.14      0.13      5370\\nweighted avg       0.74      0.84      0.78      5370\\n'"
      ]
     },
     "execution_count": 58,
     "metadata": {},
     "output_type": "execute_result"
    }
   ],
   "source": [
    "from sklearn.metrics import classification_report\n",
    "classification_report(y_test,y_pred)"
   ]
  },
  {
   "cell_type": "code",
   "execution_count": 59,
   "id": "dde73252",
   "metadata": {},
   "outputs": [],
   "source": [
    "from sklearn.decomposition import PCA\n",
    "pca=PCA(n_components=0.95)"
   ]
  },
  {
   "cell_type": "code",
   "execution_count": 60,
   "id": "79071d2c",
   "metadata": {},
   "outputs": [
    {
     "data": {
      "text/plain": [
       "PCA(n_components=0.95)"
      ]
     },
     "execution_count": 60,
     "metadata": {},
     "output_type": "execute_result"
    }
   ],
   "source": [
    "pca.fit(x_train)"
   ]
  },
  {
   "cell_type": "code",
   "execution_count": 61,
   "id": "07f0c6c5",
   "metadata": {},
   "outputs": [
    {
     "name": "stdout",
     "output_type": "stream",
     "text": [
      "(3580, 6)\n"
     ]
    }
   ],
   "source": [
    "x_train_transformed=pca.transform(x_train)\n",
    "print(x_train_transformed.shape)"
   ]
  },
  {
   "cell_type": "code",
   "execution_count": 62,
   "id": "1c39dd4c",
   "metadata": {},
   "outputs": [
    {
     "name": "stdout",
     "output_type": "stream",
     "text": [
      "(5370, 6)\n"
     ]
    }
   ],
   "source": [
    "x_test_transformed=pca.transform(x_test)\n",
    "print(x_test_transformed.shape)"
   ]
  },
  {
   "cell_type": "code",
   "execution_count": 64,
   "id": "19be6c51",
   "metadata": {},
   "outputs": [],
   "source": [
    "new_model=LogisticRegression(penalty='l1',solver='liblinear')\n",
    "new_model.fit(x_train_transformed,y_train)\n",
    "new_prediction=new_model.predict(x_test_transformed)"
   ]
  },
  {
   "cell_type": "code",
   "execution_count": 65,
   "id": "63249a48",
   "metadata": {},
   "outputs": [
    {
     "data": {
      "text/plain": [
       "0.8480446927374302"
      ]
     },
     "execution_count": 65,
     "metadata": {},
     "output_type": "execute_result"
    }
   ],
   "source": [
    "from sklearn.metrics import accuracy_score\n",
    "new_accuracy=accuracy_score(new_prediction,y_test)\n",
    "new_accuracy"
   ]
  },
  {
   "cell_type": "code",
   "execution_count": null,
   "id": "6a9e74ab",
   "metadata": {},
   "outputs": [],
   "source": []
  },
  {
   "cell_type": "markdown",
   "id": "f492e9c0",
   "metadata": {},
   "source": [
    "# Q4.Find the optimum value of k for k-means clustering using the elbow method. Plot the elbow curve"
   ]
  },
  {
   "cell_type": "code",
   "execution_count": 66,
   "id": "9c10be11",
   "metadata": {},
   "outputs": [],
   "source": [
    "import sklearn\n",
    "from sklearn import datasets\n",
    "from sklearn.cluster import KMeans\n",
    "from sklearn.metrics import silhouette_score,silhouette_samples"
   ]
  },
  {
   "cell_type": "code",
   "execution_count": 67,
   "id": "aa112a56",
   "metadata": {},
   "outputs": [],
   "source": [
    "wcss=[]  #With in cluster sum of squares\n",
    "\n",
    "for i in range(2,7):\n",
    "  kmeans=KMeans(n_clusters=i, \n",
    "                init='k-means++', \n",
    "                n_init=10, \n",
    "                max_iter=300, \n",
    "                tol=0.0001,  \n",
    "                verbose=0, \n",
    "                random_state=None, \n",
    "                copy_x=True,  \n",
    "                algorithm='auto')\n",
    "  \n",
    "  kmeans.fit(df)\n",
    "\n",
    "  wcss.append(kmeans.inertia_)"
   ]
  },
  {
   "cell_type": "code",
   "execution_count": 68,
   "id": "e6642fba",
   "metadata": {},
   "outputs": [
    {
     "data": {
      "text/plain": [
       "[<matplotlib.lines.Line2D at 0x1a5e35729d0>]"
      ]
     },
     "execution_count": 68,
     "metadata": {},
     "output_type": "execute_result"
    },
    {
     "data": {
      "image/png": "[encoded data removed]",
      "text/plain": [
       "<Figure size 432x288 with 1 Axes>"
      ]
     },
     "metadata": {
      "needs_background": "light"
     },
     "output_type": "display_data"
    }
   ],
   "source": [
    "#ELBOW GRAPH\n",
    "\n",
    "import matplotlib.pyplot as plt\n",
    "plt.plot(range(2,7),wcss)  "
   ]
  },
  {
   "cell_type": "markdown",
   "id": "0886b856",
   "metadata": {},
   "source": [
    "# Q5.Find the optimum value of k for k-means clustering using the silhouette score method and specify the number of observations in each cluster using a bar plot"
   ]
  },
  {
   "cell_type": "code",
   "execution_count": 69,
   "id": "87a2ccdc",
   "metadata": {},
   "outputs": [],
   "source": [
    "from sklearn import datasets\n",
    "from sklearn.cluster import KMeans\n",
    "from sklearn.metrics import silhouette_score,silhouette_samples"
   ]
  },
  {
   "cell_type": "code",
   "execution_count": 70,
   "id": "34265eba",
   "metadata": {},
   "outputs": [
    {
     "data": {
      "text/plain": [
       "array([0, 1, 1, ..., 0, 0, 0])"
      ]
     },
     "execution_count": 70,
     "metadata": {},
     "output_type": "execute_result"
    }
   ],
   "source": [
    "km=KMeans(n_clusters=3,random_state=42)\n",
    "km.fit_predict(x)"
   ]
  },
  {
   "cell_type": "code",
   "execution_count": 71,
   "id": "f2c8df5d",
   "metadata": {},
   "outputs": [],
   "source": [
    "score=silhouette_score(x,km.labels_,metric='euclidean')"
   ]
  },
  {
   "cell_type": "code",
   "execution_count": 72,
   "id": "283752f4",
   "metadata": {},
   "outputs": [
    {
     "name": "stdout",
     "output_type": "stream",
     "text": [
      "Silhouette_score 0.380\n"
     ]
    }
   ],
   "source": [
    "print('Silhouette_score %.3f'%score)"
   ]
  },
  {
   "cell_type": "code",
   "execution_count": 74,
   "id": "8172ec27",
   "metadata": {},
   "outputs": [
    {
     "name": "stdout",
     "output_type": "stream",
     "text": [
      "Collecting yellowbrick\n",
      "  Downloading yellowbrick-1.4-py3-none-any.whl (274 kB)\n",
      "Requirement already satisfied: scikit-learn>=1.0.0 in c:\\users\\user\\anaconda3\\lib\\site-packages (from yellowbrick) (1.0.2)\n",
      "Requirement already satisfied: numpy>=1.16.0 in c:\\users\\user\\anaconda3\\lib\\site-packages (from yellowbrick) (1.21.5)\n",
      "Requirement already satisfied: scipy>=1.0.0 in c:\\users\\user\\anaconda3\\lib\\site-packages (from yellowbrick) (1.7.3)\n",
      "Requirement already satisfied: cycler>=0.10.0 in c:\\users\\user\\anaconda3\\lib\\site-packages (from yellowbrick) (0.11.0)\n",
      "Requirement already satisfied: matplotlib!=3.0.0,>=2.0.2 in c:\\users\\user\\anaconda3\\lib\\site-packages (from yellowbrick) (3.5.1)\n",
      "Requirement already satisfied: pyparsing>=2.2.1 in c:\\users\\user\\anaconda3\\lib\\site-packages (from matplotlib!=3.0.0,>=2.0.2->yellowbrick) (3.0.4)\n",
      "Note: you may need to restart the kernel to use updated packages.\n",
      "Requirement already satisfied: python-dateutil>=2.7 in c:\\users\\user\\anaconda3\\lib\\site-packages (from matplotlib!=3.0.0,>=2.0.2->yellowbrick) (2.8.2)\n",
      "Requirement already satisfied: pillow>=6.2.0 in c:\\users\\user\\anaconda3\\lib\\site-packages (from matplotlib!=3.0.0,>=2.0.2->yellowbrick) (9.0.1)\n",
      "Requirement already satisfied: fonttools>=4.22.0 in c:\\users\\user\\anaconda3\\lib\\site-packages (from matplotlib!=3.0.0,>=2.0.2->yellowbrick) (4.25.0)\n",
      "Requirement already satisfied: kiwisolver>=1.0.1 in c:\\users\\user\\anaconda3\\lib\\site-packages (from matplotlib!=3.0.0,>=2.0.2->yellowbrick) (1.3.2)\n",
      "Requirement already satisfied: packaging>=20.0 in c:\\users\\user\\anaconda3\\lib\\site-packages (from matplotlib!=3.0.0,>=2.0.2->yellowbrick) (21.3)\n",
      "Requirement already satisfied: six>=1.5 in c:\\users\\user\\anaconda3\\lib\\site-packages (from python-dateutil>=2.7->matplotlib!=3.0.0,>=2.0.2->yellowbrick) (1.16.0)\n",
      "Requirement already satisfied: threadpoolctl>=2.0.0 in c:\\users\\user\\anaconda3\\lib\\site-packages (from scikit-learn>=1.0.0->yellowbrick) (2.2.0)\n",
      "Requirement already satisfied: joblib>=0.11 in c:\\users\\user\\anaconda3\\lib\\site-packages (from scikit-learn>=1.0.0->yellowbrick) (1.1.0)\n",
      "Installing collected packages: yellowbrick\n",
      "Successfully installed yellowbrick-1.4\n"
     ]
    }
   ],
   "source": [
    "pip install yellowbrick"
   ]
  },
  {
   "cell_type": "code",
   "execution_count": 75,
   "id": "453e9449",
   "metadata": {},
   "outputs": [
    {
     "data": {
      "image/png": "[encoded data removed]",
      "text/plain": [
       "<Figure size 1080x216 with 4 Axes>"
      ]
     },
     "metadata": {},
     "output_type": "display_data"
    }
   ],
   "source": [
    "import yellowbrick\n",
    "import matplotlib.pyplot as plt\n",
    "from yellowbrick.cluster import SilhouetteVisualizer\n",
    "\n",
    "fig,ax=plt.subplots(2,2,figsize=(15,3))\n",
    "for i in[2,3,4,5]:\n",
    "    '''\n",
    "     Create KMeans instance for different number of clusters\n",
    "     '''\n",
    "    km=KMeans(n_clusters=i,init='k-means++',n_init=10,max_iter=100,random_state=42)\n",
    "    q,mod=divmod(i,2)\n",
    "    \n",
    "    #create silhouettevisualization instance with kmeans instance\n",
    "    #Fit the visualizer\n",
    "    \n",
    "    visualizer=SilhouetteVisualizer(km,colors='yellowbrick',ax=ax[q-1][mod])\n",
    "    visualizer.fit(x)"
   ]
  },
  {
   "cell_type": "code",
   "execution_count": 78,
   "id": "0e9a903c",
   "metadata": {},
   "outputs": [
    {
     "data": {
      "text/plain": [
       "KMeans(max_iter=100, n_clusters=5, random_state=42)"
      ]
     },
     "execution_count": 78,
     "metadata": {},
     "output_type": "execute_result"
    }
   ],
   "source": [
    "km.fit(df)"
   ]
  },
  {
   "cell_type": "code",
   "execution_count": 79,
   "id": "36d87bfa",
   "metadata": {},
   "outputs": [],
   "source": [
    "df['Group or Cluster'] = km.fit_predict(df)"
   ]
  },
  {
   "cell_type": "code",
   "execution_count": 80,
   "id": "a0676bfd",
   "metadata": {},
   "outputs": [
    {
     "data": {
      "text/plain": [
       "0    3600\n",
       "4    2712\n",
       "1    1704\n",
       "3     814\n",
       "2     120\n",
       "Name: Group or Cluster, dtype: int64"
      ]
     },
     "execution_count": 80,
     "metadata": {},
     "output_type": "execute_result"
    }
   ],
   "source": [
    "df['Group or Cluster'].value_counts()"
   ]
  },
  {
   "cell_type": "code",
   "execution_count": 81,
   "id": "db6d8e5b",
   "metadata": {},
   "outputs": [
    {
     "data": {
      "text/plain": [
       "<BarContainer object of 8950 artists>"
      ]
     },
     "execution_count": 81,
     "metadata": {},
     "output_type": "execute_result"
    },
    {
     "data": {
      "image/png": "[encoded data removed]",
      "text/plain": [
       "<Figure size 576x396 with 1 Axes>"
      ]
     },
     "metadata": {},
     "output_type": "display_data"
    }
   ],
   "source": [
    "plt.bar(df['TENURE'],height=df['Group or Cluster'].values)"
   ]
  },
  {
   "cell_type": "code",
   "execution_count": null,
   "id": "31f8a4f2",
   "metadata": {},
   "outputs": [],
   "source": []
  }
 ],
 "metadata": {
  "kernelspec": {
   "display_name": "Python 3 (ipykernel)",
   "language": "python",
   "name": "python3"
  },
  "language_info": {
   "codemirror_mode": {
    "name": "ipython",
    "version": 3
   },
   "file_extension": ".py",
   "mimetype": "text/x-python",
   "name": "python",
   "nbconvert_exporter": "python",
   "pygments_lexer": "ipython3",
   "version": "3.9.12"
  }
 },
 "nbformat": 4,
 "nbformat_minor": 5
}
